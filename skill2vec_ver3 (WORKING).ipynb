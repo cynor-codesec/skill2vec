{
 "cells": [
  {
   "cell_type": "code",
   "execution_count": 1,
   "metadata": {},
   "outputs": [],
   "source": [
    "import pandas as pd\n",
    "import numpy as np\n",
    "# import cPickle \n",
    "import _pickle as cPickle\n",
    "from nltk.corpus import stopwords\n",
    "from gensim.models import word2vec\n",
    "import nltk.data\n",
    "import re\n",
    "import logging\n",
    "from nltk.stem.snowball import *\n",
    "import itertools\n",
    "\n",
    "# Python 2.x:\n",
    "# import HTMLParser\n",
    "# html_parser = HTMLParser.HTMLParser()\n",
    "import html.parser as html_parser\n",
    "\n",
    "import multiprocessing\n",
    "logging.basicConfig(format='%(asctime)s : %(levelname)s : %(message)s', level=logging.INFO)   \n",
    "\n",
    "from nltk.stem import WordNetLemmatizer, PorterStemmer\n",
    "wordnet_lemmatizer = WordNetLemmatizer()\n",
    "porter = PorterStemmer()"
   ]
  },
  {
   "cell_type": "code",
   "execution_count": 2,
   "metadata": {},
   "outputs": [],
   "source": [
    "TEST_CASE = {}"
   ]
  },
  {
   "cell_type": "code",
   "execution_count": null,
   "metadata": {},
   "outputs": [],
   "source": []
  },
  {
   "cell_type": "code",
   "execution_count": 4,
   "metadata": {},
   "outputs": [
    {
     "name": "stderr",
     "output_type": "stream",
     "text": [
      "[nltk_data] Downloading package wordnet to\n",
      "[nltk_data]     /Users/bharath/sourcecode/cynor/skill2vec/nltk_data/..\n",
      "[nltk_data]     .\n",
      "[nltk_data]   Package wordnet is already up-to-date!\n"
     ]
    },
    {
     "data": {
      "text/plain": [
       "'angular'"
      ]
     },
     "execution_count": 4,
     "metadata": {},
     "output_type": "execute_result"
    }
   ],
   "source": [
    "import re\n",
    "# import HTMLParser\n",
    "# html_parser = HTMLParser.HTMLParser()\n",
    "\n",
    "import html.parser as html_parser\n",
    "\n",
    "from nltk.stem import WordNetLemmatizer, PorterStemmer\n",
    "wordnet_lemmatizer = WordNetLemmatizer()\n",
    "porter = PorterStemmer()\n",
    "\n",
    "nltk.download(\"wordnet\", \"/Users/bharath/sourcecode/cynor/skill2vec/nltk_data/\")\n",
    "nltk.data.path.append('./nltk_data/')\n",
    "\n",
    "\n",
    "import sys\n",
    "if sys.version_info[0] >= 3:\n",
    "    unicode = str\n",
    "\n",
    "def skill_transform(skill, remove_stopwords = True):\n",
    "    skill = unicode(skill)\n",
    "    skill = html_parser.unescape(skill)\n",
    "    \n",
    "    skill = skill.replace(\"_\", \" \").split()\n",
    "    skill = \" \".join([sk for sk in skill if sk])\n",
    "    \n",
    "    skill = re.sub(r\"\\(.*\\)\", \"\", skill)\n",
    "    skill = skill.replace(\"-\", \"\") \\\n",
    "        .replace(\".\", \"\") \\\n",
    "        .replace(\",\", \"\") \\\n",
    "        .replace(\"-\", \"\") \\\n",
    "        .replace(\":\", \"\") \\\n",
    "        .replace(\"(\", \"\") \\\n",
    "        .replace(\")\", \"\") \\\n",
    "        .replace(u\"åá\", \"\") \\\n",
    "        .replace(u\"&\", \"and\") \\\n",
    "        .replace(\" js\", \"js\") \\\n",
    "        .replace(\"-js\", \"js\") \\\n",
    "        .replace(\"_js\", \"js\") \\\n",
    "        .replace(\"java script\", \"js\") \n",
    "    \n",
    "    skill = skill.lower()\n",
    "    \n",
    "    # Special cases replace\n",
    "    special_case = {}\n",
    "    special_case[\"javascript\"] = [ \"js\", \"java script\", \"javascripts\", \"java scrip\" ]\n",
    "    special_case[\"wireframe\"] = [ \"wireframes\", \"wire frame\", \"wire frames\", \"wire-frame\", \"wirefram\", \"wire fram\", \"wireframing\" ]\n",
    "    special_case[\"OOP\"] = [  \"object oriented\", \"object oriented programming\", ]\n",
    "    special_case[\"OOD\"] = [ \"object oriented design\", ]\n",
    "    special_case[\"OLAP\"] = [ \"online analytical processing\",  ]\n",
    "    special_case[\"Ecommerce\"] = [ \"e commerce\",  ]\n",
    "    special_case[\"consultant\"] = [ \"consulting\",  ]\n",
    "    special_case[\"ux\"] = [ \"user experience\", \"web user experience design\", \"user experience design\", \"ux designer\", \"user experience/ux\" ]\n",
    "    special_case[\"html5\"] = [ \"html 5\",  ]\n",
    "    special_case[\"j2ee\"] = [ \"jee\",  ]\n",
    "    special_case[\"osx\"] = [ \"mac os x\", \"os x\" ]\n",
    "    special_case[\"senior\"] = [ \"sr\" ]\n",
    "    special_case[\"qa\"] = [ \"quality\",  ]\n",
    "    special_case[\"bigdata\"] = [ \"big data\",  ]\n",
    "    special_case[\"webservice\"] = [ \"webservices\", \"website\", \"webapps\" ]\n",
    "    special_case[\"xml\"] = [ \"xml file\", \"xml schemas\", \"xml/json\", \"xml web service\" ]\n",
    "    special_case[\"bigdata\"] = [ \"big data\",  ]\n",
    "    special_case[\"nlp\"] = [ \"natural language process\", \"natural language\", \"nltk\" ]\n",
    "    special_case[\"aws\"] = [ \"amazon web service\", ]\n",
    "    \n",
    "    for root_skill in special_case:\n",
    "        if skill in special_case[root_skill]:\n",
    "            skill = root_skill\n",
    "    \n",
    "    # Special case regex\n",
    "    special_case_regex = {\n",
    "        r'^angular.*$': 'angularjs',\n",
    "        r'^node.*$': 'nodejs',\n",
    "        r'^(.*)[_\\s]js$': '\\\\1js',\n",
    "        r'^(.*) js$': '\\\\1js',\n",
    "        r'^(.*) (and|or).*$': '\\\\1',\n",
    "    }\n",
    "    for regex_rule in special_case_regex:\n",
    "        after_skill = re.sub(regex_rule, special_case_regex[regex_rule], skill)\n",
    "        if after_skill != skill:\n",
    "            skill = after_skill\n",
    "            break\n",
    "    \n",
    "    # Stem\n",
    "    if len(skill) > 2:\n",
    "        skill_after = skill.split(\" \")\n",
    "        skill_after = [wordnet_lemmatizer.lemmatize(sk, pos=\"v\") for sk in skill_after]\n",
    "        skill_after = \" \".join(skill_after)\n",
    "        skill = skill_after\n",
    "    \n",
    "    # skill stopwords \n",
    "    if remove_stopwords:\n",
    "        skill_stopwords = [ \"app\", \"touch\", \"the\", \"application\", \"programming\", \"program\", \"design\"\n",
    "                           \"developer\", \"framework\", \"development\", \"programmer\", \"technologies\",\n",
    "                          \"advance\", \"core\"]\n",
    "        skill_after = skill.split(\" \")\n",
    "        skill = \" \".join([ sk for sk in skill_after if sk not in skill_stopwords ])\n",
    "    \n",
    "    skill = skill.lower().strip().replace(\" \", \"_\")\n",
    "    skill = re.sub(' +',' ', skill)\n",
    "    \n",
    "    # NOTE: replace js tail\n",
    "    skill = re.sub('js$','', skill)\n",
    "    \n",
    "    return skill\n",
    "\n",
    "skill_transform(\"js\")\n",
    "skill_transform(\"angularjs\")"
   ]
  },
  {
   "cell_type": "code",
   "execution_count": 5,
   "metadata": {},
   "outputs": [
    {
     "data": {
      "text/plain": [
       "'html5_and_css3'"
      ]
     },
     "execution_count": 5,
     "metadata": {},
     "output_type": "execute_result"
    }
   ],
   "source": [
    "skill_transform(\"html5_and_css3_or_html6\")"
   ]
  },
  {
   "cell_type": "code",
   "execution_count": 6,
   "metadata": {},
   "outputs": [],
   "source": [
    "def test_case(model, model_name):\n",
    "    cases = [ \"machine learning\", \"js\", \"javascript\", \"python\", \"html\", \"html5\", \"css\", \"angular\", \"nodejs\" ]\n",
    "    TEST_CASE[model_name] = []\n",
    "    for case in cases:\n",
    "        try:\n",
    "            TEST_CASE[model_name].append(model.similar_by_word(skill_transform(case)))\n",
    "        except:\n",
    "            pass"
   ]
  },
  {
   "cell_type": "code",
   "execution_count": 8,
   "metadata": {},
   "outputs": [
    {
     "name": "stdout",
     "output_type": "stream",
     "text": [
      "Before: 754\n",
      "After: 697\n",
      "Resize: 92.44031830238727%\n"
     ]
    }
   ],
   "source": [
    "# data_must_have = pd.read_csv('mustHaveSkills-2.csv', header = 0, encoding='ISO-8859-1')\n",
    "data_must_have = pd.read_csv('formatted_skill2vec.csv', header = 0, encoding='ISO-8859-1', low_memory=False)\n",
    "data_must_have.drop_duplicates(inplace=True, keep='last')\n",
    "data_must_have = data_must_have[data_must_have[\"job_title\"] != 0]\n",
    "del data_must_have[\"job_brief_id\"]\n",
    "# data_must_have['Count'] = data_must_have.groupby('job_title')['keyword_name'].transform(pd.Series.value_counts)\n",
    "data_must_have.drop_duplicates(inplace=True)\n",
    "\n",
    "unique_skill_before = len(data_must_have['keyword_name'].unique())\n",
    "print(\"Before: %s\" % unique_skill_before)\n",
    "\n",
    "data_must_have['skill'] = data_must_have['keyword_name'].apply(skill_transform)\n",
    "\n",
    "unique_skill_after = len(data_must_have['skill'].unique())\n",
    "print(\"After: %s\" % unique_skill_after)\n",
    "\n",
    "print(\"Resize: %s%%\" % (unique_skill_after * 100.0 / unique_skill_before))\n",
    "\n",
    "# data_must_have['keyword_name'] = data_must_have['keyword_name'].str.replace(' ' ,'_')\n",
    "# data_must_have"
   ]
  },
  {
   "cell_type": "code",
   "execution_count": 9,
   "metadata": {},
   "outputs": [
    {
     "name": "stderr",
     "output_type": "stream",
     "text": [
      "2021-10-01 16:19:08,277 : INFO : collecting all words and their counts\n",
      "2021-10-01 16:19:08,278 : INFO : PROGRESS: at sentence #0, processed 0 words, keeping 0 word types\n",
      "2021-10-01 16:19:08,284 : INFO : collected 697 word types from a corpus of 8252 raw words and 5492 sentences\n",
      "2021-10-01 16:19:08,291 : INFO : Creating a fresh vocabulary\n",
      "2021-10-01 16:19:08,333 : INFO : Word2Vec lifecycle event {'msg': 'effective_min_count=1 retains 697 unique words (100.0%% of original 697, drops 0)', 'datetime': '2021-10-01T16:19:08.298355', 'gensim': '4.1.2', 'python': '3.8.11 (default, Aug  6 2021, 08:56:27) \\n[Clang 10.0.0 ]', 'platform': 'macOS-10.16-x86_64-i386-64bit', 'event': 'prepare_vocab'}\n",
      "2021-10-01 16:19:08,339 : INFO : Word2Vec lifecycle event {'msg': 'effective_min_count=1 leaves 8252 word corpus (100.0%% of original 8252, drops 0)', 'datetime': '2021-10-01T16:19:08.338924', 'gensim': '4.1.2', 'python': '3.8.11 (default, Aug  6 2021, 08:56:27) \\n[Clang 10.0.0 ]', 'platform': 'macOS-10.16-x86_64-i386-64bit', 'event': 'prepare_vocab'}\n",
      "2021-10-01 16:19:08,353 : INFO : deleting the raw counts dictionary of 697 items\n",
      "2021-10-01 16:19:08,354 : INFO : sample=0.001 downsamples 94 most-common words\n",
      "2021-10-01 16:19:08,356 : INFO : Word2Vec lifecycle event {'msg': 'downsampling leaves estimated 7100.898768585565 word corpus (86.1%% of prior 8252)', 'datetime': '2021-10-01T16:19:08.356253', 'gensim': '4.1.2', 'python': '3.8.11 (default, Aug  6 2021, 08:56:27) \\n[Clang 10.0.0 ]', 'platform': 'macOS-10.16-x86_64-i386-64bit', 'event': 'prepare_vocab'}\n",
      "2021-10-01 16:19:08,377 : INFO : estimated required memory for 697 words and 100 dimensions: 906100 bytes\n",
      "2021-10-01 16:19:08,379 : INFO : resetting layer weights\n",
      "2021-10-01 16:19:08,388 : INFO : Word2Vec lifecycle event {'update': False, 'trim_rule': 'None', 'datetime': '2021-10-01T16:19:08.388568', 'gensim': '4.1.2', 'python': '3.8.11 (default, Aug  6 2021, 08:56:27) \\n[Clang 10.0.0 ]', 'platform': 'macOS-10.16-x86_64-i386-64bit', 'event': 'build_vocab'}\n",
      "2021-10-01 16:19:08,389 : INFO : Word2Vec lifecycle event {'msg': 'training model with 4 workers on 697 vocabulary and 100 features, using sg=1 hs=0 sample=0.001 negative=5 window=10 shrink_windows=True', 'datetime': '2021-10-01T16:19:08.389655', 'gensim': '4.1.2', 'python': '3.8.11 (default, Aug  6 2021, 08:56:27) \\n[Clang 10.0.0 ]', 'platform': 'macOS-10.16-x86_64-i386-64bit', 'event': 'train'}\n",
      "2021-10-01 16:19:08,415 : INFO : worker thread finished; awaiting finish of 3 more threads\n",
      "2021-10-01 16:19:08,418 : INFO : worker thread finished; awaiting finish of 2 more threads\n",
      "2021-10-01 16:19:08,422 : INFO : worker thread finished; awaiting finish of 1 more threads\n",
      "2021-10-01 16:19:08,441 : INFO : worker thread finished; awaiting finish of 0 more threads\n",
      "2021-10-01 16:19:08,442 : INFO : EPOCH - 1 : training on 8252 raw words (7072 effective words) took 0.0s, 197862 effective words/s\n",
      "2021-10-01 16:19:08,463 : INFO : worker thread finished; awaiting finish of 3 more threads\n",
      "2021-10-01 16:19:08,474 : INFO : worker thread finished; awaiting finish of 2 more threads\n"
     ]
    },
    {
     "name": "stdout",
     "output_type": "stream",
     "text": [
      "Training model...\n"
     ]
    },
    {
     "name": "stderr",
     "output_type": "stream",
     "text": [
      "2021-10-01 16:19:08,476 : INFO : worker thread finished; awaiting finish of 1 more threads\n",
      "2021-10-01 16:19:08,486 : INFO : worker thread finished; awaiting finish of 0 more threads\n",
      "2021-10-01 16:19:08,488 : INFO : EPOCH - 2 : training on 8252 raw words (7071 effective words) took 0.0s, 250966 effective words/s\n",
      "2021-10-01 16:19:08,514 : INFO : worker thread finished; awaiting finish of 3 more threads\n",
      "2021-10-01 16:19:08,514 : INFO : worker thread finished; awaiting finish of 2 more threads\n",
      "2021-10-01 16:19:08,516 : INFO : worker thread finished; awaiting finish of 1 more threads\n",
      "2021-10-01 16:19:08,539 : INFO : worker thread finished; awaiting finish of 0 more threads\n",
      "2021-10-01 16:19:08,540 : INFO : EPOCH - 3 : training on 8252 raw words (7085 effective words) took 0.0s, 179458 effective words/s\n",
      "2021-10-01 16:19:08,561 : INFO : worker thread finished; awaiting finish of 3 more threads\n",
      "2021-10-01 16:19:08,564 : INFO : worker thread finished; awaiting finish of 2 more threads\n",
      "2021-10-01 16:19:08,571 : INFO : worker thread finished; awaiting finish of 1 more threads\n",
      "2021-10-01 16:19:08,578 : INFO : worker thread finished; awaiting finish of 0 more threads\n",
      "2021-10-01 16:19:08,579 : INFO : EPOCH - 4 : training on 8252 raw words (7123 effective words) took 0.0s, 286559 effective words/s\n",
      "2021-10-01 16:19:08,599 : INFO : worker thread finished; awaiting finish of 3 more threads\n",
      "2021-10-01 16:19:08,600 : INFO : worker thread finished; awaiting finish of 2 more threads\n",
      "2021-10-01 16:19:08,601 : INFO : worker thread finished; awaiting finish of 1 more threads\n",
      "2021-10-01 16:19:08,615 : INFO : worker thread finished; awaiting finish of 0 more threads\n",
      "2021-10-01 16:19:08,620 : INFO : EPOCH - 5 : training on 8252 raw words (7112 effective words) took 0.0s, 226447 effective words/s\n",
      "2021-10-01 16:19:08,621 : INFO : Word2Vec lifecycle event {'msg': 'training on 41260 raw words (35463 effective words) took 0.2s, 154426 effective words/s', 'datetime': '2021-10-01T16:19:08.621237', 'gensim': '4.1.2', 'python': '3.8.11 (default, Aug  6 2021, 08:56:27) \\n[Clang 10.0.0 ]', 'platform': 'macOS-10.16-x86_64-i386-64bit', 'event': 'train'}\n",
      "2021-10-01 16:19:08,622 : INFO : Word2Vec lifecycle event {'params': 'Word2Vec(vocab=697, vector_size=100, alpha=0.025)', 'datetime': '2021-10-01T16:19:08.622285', 'gensim': '4.1.2', 'python': '3.8.11 (default, Aug  6 2021, 08:56:27) \\n[Clang 10.0.0 ]', 'platform': 'macOS-10.16-x86_64-i386-64bit', 'event': 'created'}\n",
      "/tmp/ipykernel_10602/3270624564.py:16: DeprecationWarning: Call to deprecated `init_sims` (Gensim 4.0.0 implemented internal optimizations that make calls to init_sims() unnecessary. init_sims() is now obsoleted and will be completely removed in future versions. See https://github.com/RaRe-Technologies/gensim/wiki/Migrating-from-Gensim-3.x-to-4).\n",
      "  musthave_model.init_sims(replace=True)\n",
      "2021-10-01 16:19:08,628 : WARNING : destructive init_sims(replace=True) deprecated & no longer required for space-efficiency\n"
     ]
    }
   ],
   "source": [
    "# pd.set_option('display.max_rows', 1500)\n",
    "# data_must_have.drop_duplicates(subset=[\"keyword_name\", \"skill\"])[[\"keyword_name\", \"skill\"]].sort_values(\"skill\")[3000:]\n",
    "musthave_data = data_must_have.groupby('job_title')['skill'].apply(list).tolist()\n",
    "\n",
    "print (\"Training model...\")\n",
    "musthave_model = word2vec.Word2Vec(musthave_data, \n",
    "          workers=multiprocessing.cpu_count(),  # Number of threads to run in parallel\n",
    "#           size=300, \n",
    "          min_count=1, \n",
    "          window=10, \n",
    "          sample = 1e-3,  # Downsample setting for frequent words\n",
    "#           iter=4,\n",
    "          sg =1\n",
    "    )\n",
    "\n",
    "musthave_model.init_sims(replace=True)\n",
    "test_case(musthave_model, \"musthave_model\")"
   ]
  },
  {
   "cell_type": "code",
   "execution_count": null,
   "metadata": {
    "collapsed": true
   },
   "outputs": [],
   "source": []
  },
  {
   "cell_type": "code",
   "execution_count": 11,
   "metadata": {},
   "outputs": [
    {
     "name": "stderr",
     "output_type": "stream",
     "text": [
      "2021-10-01 16:20:13,622 : INFO : collecting all words and their counts\n",
      "2021-10-01 16:20:13,623 : INFO : PROGRESS: at sentence #0, processed 0 words, keeping 0 word types\n",
      "2021-10-01 16:20:13,698 : INFO : PROGRESS: at sentence #10000, processed 187861 words, keeping 8491 word types\n",
      "2021-10-01 16:20:13,710 : INFO : collected 8509 word types from a corpus of 191437 raw words and 12638 sentences\n",
      "2021-10-01 16:20:13,714 : INFO : Creating a fresh vocabulary\n",
      "2021-10-01 16:20:13,801 : INFO : Word2Vec lifecycle event {'msg': 'effective_min_count=1 retains 8509 unique words (100.0%% of original 8509, drops 0)', 'datetime': '2021-10-01T16:20:13.801840', 'gensim': '4.1.2', 'python': '3.8.11 (default, Aug  6 2021, 08:56:27) \\n[Clang 10.0.0 ]', 'platform': 'macOS-10.16-x86_64-i386-64bit', 'event': 'prepare_vocab'}\n",
      "2021-10-01 16:20:13,803 : INFO : Word2Vec lifecycle event {'msg': 'effective_min_count=1 leaves 191437 word corpus (100.0%% of original 191437, drops 0)', 'datetime': '2021-10-01T16:20:13.803077', 'gensim': '4.1.2', 'python': '3.8.11 (default, Aug  6 2021, 08:56:27) \\n[Clang 10.0.0 ]', 'platform': 'macOS-10.16-x86_64-i386-64bit', 'event': 'prepare_vocab'}\n"
     ]
    },
    {
     "name": "stdout",
     "output_type": "stream",
     "text": [
      "12638\n",
      "Training model...\n"
     ]
    },
    {
     "name": "stderr",
     "output_type": "stream",
     "text": [
      "2021-10-01 16:20:13,955 : INFO : deleting the raw counts dictionary of 8509 items\n",
      "2021-10-01 16:20:13,956 : INFO : sample=0.001 downsamples 0 most-common words\n",
      "2021-10-01 16:20:13,959 : INFO : Word2Vec lifecycle event {'msg': 'downsampling leaves estimated 191437 word corpus (100.0%% of prior 191437)', 'datetime': '2021-10-01T16:20:13.959572', 'gensim': '4.1.2', 'python': '3.8.11 (default, Aug  6 2021, 08:56:27) \\n[Clang 10.0.0 ]', 'platform': 'macOS-10.16-x86_64-i386-64bit', 'event': 'prepare_vocab'}\n",
      "2021-10-01 16:20:14,102 : INFO : estimated required memory for 8509 words and 100 dimensions: 11061700 bytes\n",
      "2021-10-01 16:20:14,103 : INFO : resetting layer weights\n",
      "2021-10-01 16:20:14,112 : INFO : Word2Vec lifecycle event {'update': False, 'trim_rule': 'None', 'datetime': '2021-10-01T16:20:14.112886', 'gensim': '4.1.2', 'python': '3.8.11 (default, Aug  6 2021, 08:56:27) \\n[Clang 10.0.0 ]', 'platform': 'macOS-10.16-x86_64-i386-64bit', 'event': 'build_vocab'}\n",
      "2021-10-01 16:20:14,113 : INFO : Word2Vec lifecycle event {'msg': 'training model with 4 workers on 8509 vocabulary and 100 features, using sg=1 hs=0 sample=0.001 negative=5 window=10 shrink_windows=True', 'datetime': '2021-10-01T16:20:14.113720', 'gensim': '4.1.2', 'python': '3.8.11 (default, Aug  6 2021, 08:56:27) \\n[Clang 10.0.0 ]', 'platform': 'macOS-10.16-x86_64-i386-64bit', 'event': 'train'}\n",
      "2021-10-01 16:20:15,149 : INFO : EPOCH 1 - PROGRESS: at 39.81% examples, 126767 words/s, in_qsize 6, out_qsize 1\n",
      "2021-10-01 16:20:15,251 : INFO : worker thread finished; awaiting finish of 3 more threads\n",
      "2021-10-01 16:20:15,326 : INFO : worker thread finished; awaiting finish of 2 more threads\n",
      "2021-10-01 16:20:15,425 : INFO : worker thread finished; awaiting finish of 1 more threads\n",
      "2021-10-01 16:20:15,443 : INFO : worker thread finished; awaiting finish of 0 more threads\n",
      "2021-10-01 16:20:15,444 : INFO : EPOCH - 1 : training on 191437 raw words (191437 effective words) took 1.3s, 145118 effective words/s\n",
      "2021-10-01 16:20:16,592 : INFO : EPOCH 2 - PROGRESS: at 39.71% examples, 116078 words/s, in_qsize 6, out_qsize 1\n",
      "2021-10-01 16:20:16,612 : INFO : worker thread finished; awaiting finish of 3 more threads\n",
      "2021-10-01 16:20:16,701 : INFO : worker thread finished; awaiting finish of 2 more threads\n",
      "2021-10-01 16:20:16,789 : INFO : worker thread finished; awaiting finish of 1 more threads\n",
      "2021-10-01 16:20:16,800 : INFO : worker thread finished; awaiting finish of 0 more threads\n",
      "2021-10-01 16:20:16,800 : INFO : EPOCH - 2 : training on 191437 raw words (191437 effective words) took 1.3s, 144256 effective words/s\n",
      "2021-10-01 16:20:17,829 : INFO : EPOCH 3 - PROGRESS: at 39.81% examples, 127636 words/s, in_qsize 7, out_qsize 0\n",
      "2021-10-01 16:20:17,885 : INFO : worker thread finished; awaiting finish of 3 more threads\n",
      "2021-10-01 16:20:17,968 : INFO : worker thread finished; awaiting finish of 2 more threads\n",
      "2021-10-01 16:20:18,039 : INFO : worker thread finished; awaiting finish of 1 more threads\n",
      "2021-10-01 16:20:18,046 : INFO : worker thread finished; awaiting finish of 0 more threads\n",
      "2021-10-01 16:20:18,047 : INFO : EPOCH - 3 : training on 191437 raw words (191437 effective words) took 1.2s, 155020 effective words/s\n",
      "2021-10-01 16:20:19,051 : INFO : worker thread finished; awaiting finish of 3 more threads\n",
      "2021-10-01 16:20:19,137 : INFO : EPOCH 4 - PROGRESS: at 93.25% examples, 158928 words/s, in_qsize 2, out_qsize 1\n",
      "2021-10-01 16:20:19,138 : INFO : worker thread finished; awaiting finish of 2 more threads\n",
      "2021-10-01 16:20:19,199 : INFO : worker thread finished; awaiting finish of 1 more threads\n",
      "2021-10-01 16:20:19,230 : INFO : worker thread finished; awaiting finish of 0 more threads\n",
      "2021-10-01 16:20:19,232 : INFO : EPOCH - 4 : training on 191437 raw words (191437 effective words) took 1.2s, 163126 effective words/s\n",
      "2021-10-01 16:20:20,038 : INFO : worker thread finished; awaiting finish of 3 more threads\n",
      "2021-10-01 16:20:20,117 : INFO : worker thread finished; awaiting finish of 2 more threads\n",
      "2021-10-01 16:20:20,177 : INFO : worker thread finished; awaiting finish of 1 more threads\n",
      "2021-10-01 16:20:20,209 : INFO : worker thread finished; awaiting finish of 0 more threads\n",
      "2021-10-01 16:20:20,210 : INFO : EPOCH - 5 : training on 191437 raw words (191437 effective words) took 1.0s, 198424 effective words/s\n",
      "2021-10-01 16:20:20,211 : INFO : Word2Vec lifecycle event {'msg': 'training on 957185 raw words (957185 effective words) took 6.1s, 156991 effective words/s', 'datetime': '2021-10-01T16:20:20.211741', 'gensim': '4.1.2', 'python': '3.8.11 (default, Aug  6 2021, 08:56:27) \\n[Clang 10.0.0 ]', 'platform': 'macOS-10.16-x86_64-i386-64bit', 'event': 'train'}\n",
      "2021-10-01 16:20:20,212 : INFO : Word2Vec lifecycle event {'params': 'Word2Vec(vocab=8509, vector_size=100, alpha=0.025)', 'datetime': '2021-10-01T16:20:20.212932', 'gensim': '4.1.2', 'python': '3.8.11 (default, Aug  6 2021, 08:56:27) \\n[Clang 10.0.0 ]', 'platform': 'macOS-10.16-x86_64-i386-64bit', 'event': 'created'}\n",
      "/tmp/ipykernel_10602/1985411093.py:23: DeprecationWarning: Call to deprecated `init_sims` (Gensim 4.0.0 implemented internal optimizations that make calls to init_sims() unnecessary. init_sims() is now obsoleted and will be completely removed in future versions. See https://github.com/RaRe-Technologies/gensim/wiki/Migrating-from-Gensim-3.x-to-4).\n",
      "  musthave_dice_model.init_sims(replace=True)\n",
      "2021-10-01 16:20:20,218 : WARNING : destructive init_sims(replace=True) deprecated & no longer required for space-efficiency\n"
     ]
    }
   ],
   "source": [
    "with open(\"prep_data_tokens_underscore_1\", \"rb\") as g:\n",
    "    data_dice = cPickle.load(g)\n",
    "dice_data = [ [ skill_transform(d.replace(\"_\", \" \")) for d in dice if d is not None ] for dice in data_dice if dice is not None ]\n",
    "\n",
    "\n",
    "musthave_dice_data = dice_data + musthave_data\n",
    "musthave_dice_data = [ list(set([ d for d in data if d is not None and len(d) > 0 ])) for data in musthave_dice_data  ]\n",
    "\n",
    "print(len(musthave_dice_data))\n",
    "musthave_dice_data\n",
    "\n",
    "print (\"Training model...\")\n",
    "musthave_dice_model = word2vec.Word2Vec(musthave_dice_data, \n",
    "          workers=multiprocessing.cpu_count(),  # Number of threads to run in parallel\n",
    "#           size=300, \n",
    "          min_count=1, \n",
    "          window=10, \n",
    "          sample = 1e-3,  # Downsample setting for frequent words\n",
    "#           iter=4,\n",
    "          sg =1\n",
    "    )\n",
    "\n",
    "musthave_dice_model.init_sims(replace=True)\n",
    "test_case(musthave_dice_model, \"musthave_dice_model\")"
   ]
  },
  {
   "cell_type": "code",
   "execution_count": null,
   "metadata": {},
   "outputs": [],
   "source": []
  },
  {
   "cell_type": "code",
   "execution_count": 65,
   "metadata": {},
   "outputs": [],
   "source": [
    "# model.similar_by_word(skill_transform('machine learning'))"
   ]
  },
  {
   "cell_type": "code",
   "execution_count": 66,
   "metadata": {},
   "outputs": [],
   "source": [
    "# model.similar_by_word('python')"
   ]
  },
  {
   "cell_type": "code",
   "execution_count": null,
   "metadata": {
    "collapsed": true
   },
   "outputs": [],
   "source": []
  },
  {
   "cell_type": "code",
   "execution_count": null,
   "metadata": {
    "collapsed": true
   },
   "outputs": [],
   "source": []
  },
  {
   "cell_type": "code",
   "execution_count": 13,
   "metadata": {},
   "outputs": [
    {
     "name": "stdout",
     "output_type": "stream",
     "text": [
      "120107\n"
     ]
    },
    {
     "data": {
      "text/plain": [
       "110504"
      ]
     },
     "execution_count": 13,
     "metadata": {},
     "output_type": "execute_result"
    }
   ],
   "source": [
    "musthave_dice_naruki_data = musthave_dice_data\n",
    "data_naruki = pd.read_csv('naukri_skill_full', header = 0, encoding='ISO-8859-1')\n",
    "data_naruki.drop_duplicates(subset=['id', 'skill'], keep='last')\n",
    "\n",
    "data_naruki['skill'] = data_naruki['skill'].apply(skill_transform)\n",
    "data_naruki_final = data_naruki.groupby('id')['skill'].apply(list)\n",
    "print(len(data_naruki_final))\n",
    "\n",
    "for skills in data_naruki_final:\n",
    "    if len(skills) > 2 and skills not in musthave_dice_naruki_data:\n",
    "        musthave_dice_naruki_data.append(skills)\n",
    "        \n",
    "len(musthave_dice_naruki_data)"
   ]
  },
  {
   "cell_type": "code",
   "execution_count": 15,
   "metadata": {},
   "outputs": [],
   "source": [
    "# import cPickle as pickle\n",
    "import _pickle as pickle\n",
    "\n",
    "pickle.dump( musthave_dice_naruki_data, open( \"cynor_model.p\", \"wb\" ) )"
   ]
  },
  {
   "cell_type": "code",
   "execution_count": 16,
   "metadata": {},
   "outputs": [
    {
     "name": "stderr",
     "output_type": "stream",
     "text": [
      "2021-10-01 16:25:37,394 : INFO : collecting all words and their counts\n",
      "2021-10-01 16:25:37,396 : INFO : PROGRESS: at sentence #0, processed 0 words, keeping 0 word types\n",
      "2021-10-01 16:25:37,449 : INFO : PROGRESS: at sentence #10000, processed 187861 words, keeping 8491 word types\n",
      "2021-10-01 16:25:37,473 : INFO : PROGRESS: at sentence #20000, processed 254725 words, keeping 18159 word types\n",
      "2021-10-01 16:25:37,538 : INFO : PROGRESS: at sentence #30000, processed 341184 words, keeping 27356 word types\n",
      "2021-10-01 16:25:37,577 : INFO : PROGRESS: at sentence #40000, processed 427836 words, keeping 35384 word types\n",
      "2021-10-01 16:25:37,613 : INFO : PROGRESS: at sentence #50000, processed 518155 words, keeping 43089 word types\n"
     ]
    },
    {
     "name": "stdout",
     "output_type": "stream",
     "text": [
      "Training model...\n"
     ]
    },
    {
     "name": "stderr",
     "output_type": "stream",
     "text": [
      "2021-10-01 16:25:37,655 : INFO : PROGRESS: at sentence #60000, processed 604765 words, keeping 49209 word types\n",
      "2021-10-01 16:25:37,703 : INFO : PROGRESS: at sentence #70000, processed 689611 words, keeping 56180 word types\n",
      "2021-10-01 16:25:37,749 : INFO : PROGRESS: at sentence #80000, processed 774503 words, keeping 62461 word types\n",
      "2021-10-01 16:25:37,788 : INFO : PROGRESS: at sentence #90000, processed 861508 words, keeping 67633 word types\n",
      "2021-10-01 16:25:37,829 : INFO : PROGRESS: at sentence #100000, processed 951473 words, keeping 72327 word types\n",
      "2021-10-01 16:25:37,873 : INFO : PROGRESS: at sentence #110000, processed 1037678 words, keeping 77970 word types\n",
      "2021-10-01 16:25:37,878 : INFO : collected 78061 word types from a corpus of 1042225 raw words and 110504 sentences\n",
      "2021-10-01 16:25:37,879 : INFO : Creating a fresh vocabulary\n",
      "2021-10-01 16:25:38,019 : INFO : Word2Vec lifecycle event {'msg': 'effective_min_count=3 retains 21185 unique words (27.139032295256275%% of original 78061, drops 56876)', 'datetime': '2021-10-01T16:25:38.019613', 'gensim': '4.1.2', 'python': '3.8.11 (default, Aug  6 2021, 08:56:27) \\n[Clang 10.0.0 ]', 'platform': 'macOS-10.16-x86_64-i386-64bit', 'event': 'prepare_vocab'}\n",
      "2021-10-01 16:25:38,020 : INFO : Word2Vec lifecycle event {'msg': 'effective_min_count=3 leaves 976828 word corpus (93.72525126532179%% of original 1042225, drops 65397)', 'datetime': '2021-10-01T16:25:38.020631', 'gensim': '4.1.2', 'python': '3.8.11 (default, Aug  6 2021, 08:56:27) \\n[Clang 10.0.0 ]', 'platform': 'macOS-10.16-x86_64-i386-64bit', 'event': 'prepare_vocab'}\n",
      "2021-10-01 16:25:38,183 : INFO : deleting the raw counts dictionary of 78061 items\n",
      "2021-10-01 16:25:38,186 : INFO : sample=0.001 downsamples 21 most-common words\n",
      "2021-10-01 16:25:38,187 : INFO : Word2Vec lifecycle event {'msg': 'downsampling leaves estimated 952252.9211444487 word corpus (97.5%% of prior 976828)', 'datetime': '2021-10-01T16:25:38.187152', 'gensim': '4.1.2', 'python': '3.8.11 (default, Aug  6 2021, 08:56:27) \\n[Clang 10.0.0 ]', 'platform': 'macOS-10.16-x86_64-i386-64bit', 'event': 'prepare_vocab'}\n",
      "2021-10-01 16:25:38,460 : INFO : estimated required memory for 21185 words and 100 dimensions: 27540500 bytes\n",
      "2021-10-01 16:25:38,461 : INFO : resetting layer weights\n",
      "2021-10-01 16:25:38,475 : INFO : Word2Vec lifecycle event {'update': False, 'trim_rule': 'None', 'datetime': '2021-10-01T16:25:38.475376', 'gensim': '4.1.2', 'python': '3.8.11 (default, Aug  6 2021, 08:56:27) \\n[Clang 10.0.0 ]', 'platform': 'macOS-10.16-x86_64-i386-64bit', 'event': 'build_vocab'}\n",
      "2021-10-01 16:25:38,476 : INFO : Word2Vec lifecycle event {'msg': 'training model with 4 workers on 21185 vocabulary and 100 features, using sg=1 hs=0 sample=0.001 negative=5 window=10 shrink_windows=True', 'datetime': '2021-10-01T16:25:38.476298', 'gensim': '4.1.2', 'python': '3.8.11 (default, Aug  6 2021, 08:56:27) \\n[Clang 10.0.0 ]', 'platform': 'macOS-10.16-x86_64-i386-64bit', 'event': 'train'}\n",
      "2021-10-01 16:25:39,552 : INFO : EPOCH 1 - PROGRESS: at 3.50% examples, 93035 words/s, in_qsize 6, out_qsize 1\n",
      "2021-10-01 16:25:40,612 : INFO : EPOCH 1 - PROGRESS: at 24.88% examples, 143600 words/s, in_qsize 8, out_qsize 1\n",
      "2021-10-01 16:25:41,837 : INFO : EPOCH 1 - PROGRESS: at 48.55% examples, 152825 words/s, in_qsize 8, out_qsize 0\n",
      "2021-10-01 16:25:42,838 : INFO : EPOCH 1 - PROGRESS: at 75.09% examples, 168843 words/s, in_qsize 7, out_qsize 0\n",
      "2021-10-01 16:25:43,536 : INFO : worker thread finished; awaiting finish of 3 more threads\n",
      "2021-10-01 16:25:43,556 : INFO : worker thread finished; awaiting finish of 2 more threads\n",
      "2021-10-01 16:25:43,648 : INFO : worker thread finished; awaiting finish of 1 more threads\n",
      "2021-10-01 16:25:43,663 : INFO : worker thread finished; awaiting finish of 0 more threads\n",
      "2021-10-01 16:25:43,664 : INFO : EPOCH - 1 : training on 1042225 raw words (952173 effective words) took 5.2s, 184010 effective words/s\n",
      "2021-10-01 16:25:44,735 : INFO : EPOCH 2 - PROGRESS: at 11.88% examples, 180404 words/s, in_qsize 7, out_qsize 0\n",
      "2021-10-01 16:25:45,754 : INFO : EPOCH 2 - PROGRESS: at 44.39% examples, 231381 words/s, in_qsize 8, out_qsize 0\n",
      "2021-10-01 16:25:46,763 : INFO : EPOCH 2 - PROGRESS: at 69.70% examples, 225119 words/s, in_qsize 7, out_qsize 0\n",
      "2021-10-01 16:25:47,774 : INFO : EPOCH 2 - PROGRESS: at 92.30% examples, 217774 words/s, in_qsize 6, out_qsize 1\n",
      "2021-10-01 16:25:47,913 : INFO : worker thread finished; awaiting finish of 3 more threads\n",
      "2021-10-01 16:25:47,949 : INFO : worker thread finished; awaiting finish of 2 more threads\n",
      "2021-10-01 16:25:47,967 : INFO : worker thread finished; awaiting finish of 1 more threads\n",
      "2021-10-01 16:25:48,036 : INFO : worker thread finished; awaiting finish of 0 more threads\n",
      "2021-10-01 16:25:48,037 : INFO : EPOCH - 2 : training on 1042225 raw words (952277 effective words) took 4.3s, 219506 effective words/s\n",
      "2021-10-01 16:25:49,222 : INFO : EPOCH 3 - PROGRESS: at 4.55% examples, 109751 words/s, in_qsize 7, out_qsize 0\n",
      "2021-10-01 16:25:50,247 : INFO : EPOCH 3 - PROGRESS: at 33.14% examples, 171740 words/s, in_qsize 8, out_qsize 0\n",
      "2021-10-01 16:25:51,338 : INFO : EPOCH 3 - PROGRESS: at 59.03% examples, 182796 words/s, in_qsize 8, out_qsize 0\n",
      "2021-10-01 16:25:52,398 : INFO : EPOCH 3 - PROGRESS: at 88.31% examples, 195922 words/s, in_qsize 7, out_qsize 0\n",
      "2021-10-01 16:25:52,724 : INFO : worker thread finished; awaiting finish of 3 more threads\n",
      "2021-10-01 16:25:52,777 : INFO : worker thread finished; awaiting finish of 2 more threads\n",
      "2021-10-01 16:25:52,778 : INFO : worker thread finished; awaiting finish of 1 more threads\n",
      "2021-10-01 16:25:52,789 : INFO : worker thread finished; awaiting finish of 0 more threads\n",
      "2021-10-01 16:25:52,790 : INFO : EPOCH - 3 : training on 1042225 raw words (952415 effective words) took 4.7s, 200986 effective words/s\n",
      "2021-10-01 16:25:53,831 : INFO : EPOCH 4 - PROGRESS: at 4.55% examples, 124870 words/s, in_qsize 7, out_qsize 3\n",
      "2021-10-01 16:25:54,851 : INFO : EPOCH 4 - PROGRESS: at 30.06% examples, 170919 words/s, in_qsize 7, out_qsize 0\n",
      "2021-10-01 16:25:55,856 : INFO : EPOCH 4 - PROGRESS: at 42.52% examples, 149835 words/s, in_qsize 7, out_qsize 0\n",
      "2021-10-01 16:25:56,863 : INFO : EPOCH 4 - PROGRESS: at 54.82% examples, 139114 words/s, in_qsize 7, out_qsize 0\n",
      "2021-10-01 16:25:57,880 : INFO : EPOCH 4 - PROGRESS: at 81.24% examples, 155268 words/s, in_qsize 8, out_qsize 0\n",
      "2021-10-01 16:25:58,411 : INFO : worker thread finished; awaiting finish of 3 more threads\n",
      "2021-10-01 16:25:58,448 : INFO : worker thread finished; awaiting finish of 2 more threads\n",
      "2021-10-01 16:25:58,480 : INFO : worker thread finished; awaiting finish of 1 more threads\n",
      "2021-10-01 16:25:58,493 : INFO : worker thread finished; awaiting finish of 0 more threads\n",
      "2021-10-01 16:25:58,495 : INFO : EPOCH - 4 : training on 1042225 raw words (952147 effective words) took 5.7s, 167263 effective words/s\n",
      "2021-10-01 16:25:59,524 : INFO : EPOCH 5 - PROGRESS: at 4.55% examples, 127140 words/s, in_qsize 7, out_qsize 0\n",
      "2021-10-01 16:26:00,638 : INFO : EPOCH 5 - PROGRESS: at 25.90% examples, 147739 words/s, in_qsize 8, out_qsize 0\n",
      "2021-10-01 16:26:01,663 : INFO : EPOCH 5 - PROGRESS: at 41.45% examples, 142512 words/s, in_qsize 8, out_qsize 0\n",
      "2021-10-01 16:26:02,664 : INFO : EPOCH 5 - PROGRESS: at 59.10% examples, 144776 words/s, in_qsize 8, out_qsize 1\n",
      "2021-10-01 16:26:03,682 : INFO : EPOCH 5 - PROGRESS: at 76.11% examples, 143871 words/s, in_qsize 7, out_qsize 0\n",
      "2021-10-01 16:26:04,844 : INFO : EPOCH 5 - PROGRESS: at 94.57% examples, 142978 words/s, in_qsize 6, out_qsize 0\n",
      "2021-10-01 16:26:04,984 : INFO : worker thread finished; awaiting finish of 3 more threads\n",
      "2021-10-01 16:26:05,075 : INFO : worker thread finished; awaiting finish of 2 more threads\n",
      "2021-10-01 16:26:05,131 : INFO : worker thread finished; awaiting finish of 1 more threads\n",
      "2021-10-01 16:26:05,196 : INFO : worker thread finished; awaiting finish of 0 more threads\n",
      "2021-10-01 16:26:05,197 : INFO : EPOCH - 5 : training on 1042225 raw words (952472 effective words) took 6.7s, 142504 effective words/s\n",
      "2021-10-01 16:26:05,199 : INFO : Word2Vec lifecycle event {'msg': 'training on 5211125 raw words (4761484 effective words) took 26.7s, 178193 effective words/s', 'datetime': '2021-10-01T16:26:05.199590', 'gensim': '4.1.2', 'python': '3.8.11 (default, Aug  6 2021, 08:56:27) \\n[Clang 10.0.0 ]', 'platform': 'macOS-10.16-x86_64-i386-64bit', 'event': 'train'}\n"
     ]
    },
    {
     "name": "stderr",
     "output_type": "stream",
     "text": [
      "2021-10-01 16:26:05,201 : INFO : Word2Vec lifecycle event {'params': 'Word2Vec(vocab=21185, vector_size=100, alpha=0.025)', 'datetime': '2021-10-01T16:26:05.201897', 'gensim': '4.1.2', 'python': '3.8.11 (default, Aug  6 2021, 08:56:27) \\n[Clang 10.0.0 ]', 'platform': 'macOS-10.16-x86_64-i386-64bit', 'event': 'created'}\n",
      "/tmp/ipykernel_10602/1428038617.py:12: DeprecationWarning: Call to deprecated `init_sims` (Gensim 4.0.0 implemented internal optimizations that make calls to init_sims() unnecessary. init_sims() is now obsoleted and will be completely removed in future versions. See https://github.com/RaRe-Technologies/gensim/wiki/Migrating-from-Gensim-3.x-to-4).\n",
      "  musthave_dice_naruki_model.init_sims(replace=True)\n",
      "2021-10-01 16:26:05,212 : WARNING : destructive init_sims(replace=True) deprecated & no longer required for space-efficiency\n"
     ]
    }
   ],
   "source": [
    "print (\"Training model...\")\n",
    "musthave_dice_naruki_model = word2vec.Word2Vec(musthave_dice_naruki_data, \n",
    "          workers=multiprocessing.cpu_count(),  # Number of threads to run in parallel\n",
    "#           size=300, \n",
    "          min_count=3, \n",
    "          window=10, \n",
    "          sample = 1e-3,  # Downsample setting for frequent words\n",
    "#           iter=4,\n",
    "          sg =1\n",
    "    )\n",
    "\n",
    "musthave_dice_naruki_model.init_sims(replace=True)\n",
    "test_case(musthave_dice_naruki_model, \"musthave_dice_naruki_model\")"
   ]
  },
  {
   "cell_type": "code",
   "execution_count": null,
   "metadata": {
    "collapsed": true
   },
   "outputs": [],
   "source": []
  },
  {
   "cell_type": "code",
   "execution_count": 17,
   "metadata": {},
   "outputs": [
    {
     "data": {
      "text/plain": [
       "{'musthave_model': [],\n",
       " 'musthave_dice_model': [],\n",
       " 'musthave_dice_naruki_model': []}"
      ]
     },
     "execution_count": 17,
     "metadata": {},
     "output_type": "execute_result"
    }
   ],
   "source": [
    "TEST_CASE"
   ]
  },
  {
   "cell_type": "code",
   "execution_count": 18,
   "metadata": {},
   "outputs": [],
   "source": [
    "TEST_CASE_TABLE = [ pd.DataFrame(TEST_CASE[t]) for t in TEST_CASE ]"
   ]
  },
  {
   "cell_type": "code",
   "execution_count": 19,
   "metadata": {},
   "outputs": [
    {
     "data": {
      "text/plain": [
       "['musthave_model', 'musthave_dice_model', 'musthave_dice_naruki_model']"
      ]
     },
     "execution_count": 19,
     "metadata": {},
     "output_type": "execute_result"
    }
   ],
   "source": [
    "[ t for t in TEST_CASE ]"
   ]
  },
  {
   "cell_type": "code",
   "execution_count": 20,
   "metadata": {},
   "outputs": [
    {
     "data": {
      "text/html": [
       "<div>\n",
       "<style scoped>\n",
       "    .dataframe tbody tr th:only-of-type {\n",
       "        vertical-align: middle;\n",
       "    }\n",
       "\n",
       "    .dataframe tbody tr th {\n",
       "        vertical-align: top;\n",
       "    }\n",
       "\n",
       "    .dataframe thead th {\n",
       "        text-align: right;\n",
       "    }\n",
       "</style>\n",
       "<table border=\"1\" class=\"dataframe\">\n",
       "  <thead>\n",
       "    <tr style=\"text-align: right;\">\n",
       "      <th></th>\n",
       "    </tr>\n",
       "  </thead>\n",
       "  <tbody>\n",
       "  </tbody>\n",
       "</table>\n",
       "</div>"
      ],
      "text/plain": [
       "Empty DataFrame\n",
       "Columns: []\n",
       "Index: []"
      ]
     },
     "execution_count": 20,
     "metadata": {},
     "output_type": "execute_result"
    }
   ],
   "source": [
    "TEST_CASE_TABLE[0]"
   ]
  },
  {
   "cell_type": "code",
   "execution_count": 21,
   "metadata": {},
   "outputs": [
    {
     "data": {
      "text/html": [
       "<div>\n",
       "<style scoped>\n",
       "    .dataframe tbody tr th:only-of-type {\n",
       "        vertical-align: middle;\n",
       "    }\n",
       "\n",
       "    .dataframe tbody tr th {\n",
       "        vertical-align: top;\n",
       "    }\n",
       "\n",
       "    .dataframe thead th {\n",
       "        text-align: right;\n",
       "    }\n",
       "</style>\n",
       "<table border=\"1\" class=\"dataframe\">\n",
       "  <thead>\n",
       "    <tr style=\"text-align: right;\">\n",
       "      <th></th>\n",
       "    </tr>\n",
       "  </thead>\n",
       "  <tbody>\n",
       "  </tbody>\n",
       "</table>\n",
       "</div>"
      ],
      "text/plain": [
       "Empty DataFrame\n",
       "Columns: []\n",
       "Index: []"
      ]
     },
     "execution_count": 21,
     "metadata": {},
     "output_type": "execute_result"
    }
   ],
   "source": [
    "TEST_CASE_TABLE[1]"
   ]
  },
  {
   "cell_type": "code",
   "execution_count": 22,
   "metadata": {},
   "outputs": [
    {
     "data": {
      "text/html": [
       "<div>\n",
       "<style scoped>\n",
       "    .dataframe tbody tr th:only-of-type {\n",
       "        vertical-align: middle;\n",
       "    }\n",
       "\n",
       "    .dataframe tbody tr th {\n",
       "        vertical-align: top;\n",
       "    }\n",
       "\n",
       "    .dataframe thead th {\n",
       "        text-align: right;\n",
       "    }\n",
       "</style>\n",
       "<table border=\"1\" class=\"dataframe\">\n",
       "  <thead>\n",
       "    <tr style=\"text-align: right;\">\n",
       "      <th></th>\n",
       "    </tr>\n",
       "  </thead>\n",
       "  <tbody>\n",
       "  </tbody>\n",
       "</table>\n",
       "</div>"
      ],
      "text/plain": [
       "Empty DataFrame\n",
       "Columns: []\n",
       "Index: []"
      ]
     },
     "execution_count": 22,
     "metadata": {},
     "output_type": "execute_result"
    }
   ],
   "source": [
    "TEST_CASE_TABLE[2]"
   ]
  },
  {
   "cell_type": "code",
   "execution_count": null,
   "metadata": {},
   "outputs": [],
   "source": []
  },
  {
   "cell_type": "code",
   "execution_count": 23,
   "metadata": {},
   "outputs": [
    {
     "name": "stderr",
     "output_type": "stream",
     "text": [
      "2021-10-01 16:27:43,944 : INFO : storing 21185x100 projection weights into musthave_dice_naruki.model\n"
     ]
    }
   ],
   "source": [
    "musthave_dice_naruki_model.wv.save_word2vec_format(\"musthave_dice_naruki.model\")"
   ]
  },
  {
   "cell_type": "code",
   "execution_count": 24,
   "metadata": {},
   "outputs": [
    {
     "name": "stdout",
     "output_type": "stream",
     "text": [
      "total 246456\r\n",
      "-rw-r--r--@  1 bharath  staff      6148 Oct  1 16:13 .DS_Store\r\n",
      "drwxr-xr-x  13 bharath  staff       416 Oct  1 15:35 \u001b[1m\u001b[36m.git\u001b[m\u001b[m\r\n",
      "-rw-r--r--   1 bharath  staff      1799 Oct  1 15:34 .gitignore\r\n",
      "drwxr-xr-x   4 root     staff       128 Oct  1 16:17 \u001b[1m\u001b[36m.ipynb_checkpoints\u001b[m\u001b[m\r\n",
      "-rw-r--r--   1 bharath  staff        11 Oct  1 15:34 README.md\r\n",
      "-rw-r--r--   1 root     staff  14381180 Oct  1 16:25 cynor_model.p\r\n",
      "-rw-r--r--   1 bharath  staff     67063 Oct  1 16:17 format_data.ipynb\r\n",
      "-rw-r--r--   1 root     staff    252385 Oct  1 16:13 formatted_skill2vec.csv\r\n",
      "-rw-r--r--@  1 bharath  staff   8885546 Sep 30 21:56 mustHaveSkills-2.csv\r\n",
      "-rw-r--r--   1 root     staff  25538370 Oct  1 16:27 musthave_dice_naruki.model\r\n",
      "-rw-r--r--   1 bharath  staff  18240737 Sep 30 21:56 naukri_skill_full\r\n",
      "drwxr-xr-x   4 bharath  staff       128 Oct  1 15:35 \u001b[1m\u001b[36mnltk_data\u001b[m\u001b[m\r\n",
      "-rw-r--r--   1 bharath  staff   3972850 Sep 30 21:56 prep_data_tokens_underscore_1\r\n",
      "-rw-r--r--@  1 bharath  staff   1074156 Oct  1 14:39 skill2vec_1K.csv\r\n",
      "-rw-r--r--@  1 bharath  staff  53615877 Oct  1 14:39 skill2vec_50K.csv\r\n",
      "-rw-r--r--   1 bharath  staff    121031 Oct  1 16:27 skill2vec_ver3 (WORKING).ipynb\r\n"
     ]
    }
   ],
   "source": [
    "!ls -l"
   ]
  },
  {
   "cell_type": "code",
   "execution_count": 55,
   "metadata": {},
   "outputs": [
    {
     "name": "stderr",
     "output_type": "stream",
     "text": [
      "2021-10-01 16:51:31,157 : INFO : collecting all words and their counts\n",
      "2021-10-01 16:51:31,159 : INFO : PROGRESS: at sentence #0, processed 0 words, keeping 0 word types\n",
      "2021-10-01 16:51:31,218 : INFO : PROGRESS: at sentence #10000, processed 187861 words, keeping 8491 word types\n",
      "2021-10-01 16:51:31,244 : INFO : PROGRESS: at sentence #20000, processed 254725 words, keeping 18159 word types\n",
      "2021-10-01 16:51:31,294 : INFO : PROGRESS: at sentence #30000, processed 341184 words, keeping 27356 word types\n",
      "2021-10-01 16:51:31,365 : INFO : PROGRESS: at sentence #40000, processed 427836 words, keeping 35384 word types\n",
      "2021-10-01 16:51:31,395 : INFO : PROGRESS: at sentence #50000, processed 518155 words, keeping 43089 word types\n",
      "2021-10-01 16:51:31,437 : INFO : PROGRESS: at sentence #60000, processed 604765 words, keeping 49209 word types\n",
      "2021-10-01 16:51:31,476 : INFO : PROGRESS: at sentence #70000, processed 689611 words, keeping 56180 word types\n",
      "2021-10-01 16:51:31,518 : INFO : PROGRESS: at sentence #80000, processed 774503 words, keeping 62461 word types\n",
      "2021-10-01 16:51:31,557 : INFO : PROGRESS: at sentence #90000, processed 861508 words, keeping 67633 word types\n",
      "2021-10-01 16:51:31,601 : INFO : PROGRESS: at sentence #100000, processed 951473 words, keeping 72327 word types\n",
      "2021-10-01 16:51:31,640 : INFO : PROGRESS: at sentence #110000, processed 1037678 words, keeping 77970 word types\n",
      "2021-10-01 16:51:31,644 : INFO : collected 78061 word types from a corpus of 1042225 raw words and 110504 sentences\n",
      "2021-10-01 16:51:31,648 : INFO : Creating a fresh vocabulary\n",
      "2021-10-01 16:51:31,776 : INFO : Word2Vec lifecycle event {'msg': 'effective_min_count=5 retains 15534 unique words (19.89982193412844%% of original 78061, drops 62527)', 'datetime': '2021-10-01T16:51:31.776706', 'gensim': '4.1.2', 'python': '3.8.11 (default, Aug  6 2021, 08:56:27) \\n[Clang 10.0.0 ]', 'platform': 'macOS-10.16-x86_64-i386-64bit', 'event': 'prepare_vocab'}\n",
      "2021-10-01 16:51:31,777 : INFO : Word2Vec lifecycle event {'msg': 'effective_min_count=5 leaves 957890 word corpus (91.90817721701168%% of original 1042225, drops 84335)', 'datetime': '2021-10-01T16:51:31.777658', 'gensim': '4.1.2', 'python': '3.8.11 (default, Aug  6 2021, 08:56:27) \\n[Clang 10.0.0 ]', 'platform': 'macOS-10.16-x86_64-i386-64bit', 'event': 'prepare_vocab'}\n",
      "2021-10-01 16:51:31,909 : INFO : deleting the raw counts dictionary of 78061 items\n",
      "2021-10-01 16:51:31,911 : INFO : sample=0.001 downsamples 22 most-common words\n",
      "2021-10-01 16:51:31,912 : INFO : Word2Vec lifecycle event {'msg': 'downsampling leaves estimated 932479.5016389834 word corpus (97.3%% of prior 957890)', 'datetime': '2021-10-01T16:51:31.912696', 'gensim': '4.1.2', 'python': '3.8.11 (default, Aug  6 2021, 08:56:27) \\n[Clang 10.0.0 ]', 'platform': 'macOS-10.16-x86_64-i386-64bit', 'event': 'prepare_vocab'}\n",
      "2021-10-01 16:51:32,140 : INFO : estimated required memory for 15534 words and 100 dimensions: 20194200 bytes\n",
      "2021-10-01 16:51:32,141 : INFO : resetting layer weights\n",
      "2021-10-01 16:51:32,157 : INFO : Word2Vec lifecycle event {'update': False, 'trim_rule': 'None', 'datetime': '2021-10-01T16:51:32.157849', 'gensim': '4.1.2', 'python': '3.8.11 (default, Aug  6 2021, 08:56:27) \\n[Clang 10.0.0 ]', 'platform': 'macOS-10.16-x86_64-i386-64bit', 'event': 'build_vocab'}\n",
      "2021-10-01 16:51:32,158 : INFO : Word2Vec lifecycle event {'msg': 'training model with 4 workers on 15534 vocabulary and 100 features, using sg=1 hs=0 sample=0.001 negative=5 window=10 shrink_windows=True', 'datetime': '2021-10-01T16:51:32.158771', 'gensim': '4.1.2', 'python': '3.8.11 (default, Aug  6 2021, 08:56:27) \\n[Clang 10.0.0 ]', 'platform': 'macOS-10.16-x86_64-i386-64bit', 'event': 'train'}\n",
      "2021-10-01 16:51:33,207 : INFO : EPOCH 1 - PROGRESS: at 9.49% examples, 161612 words/s, in_qsize 8, out_qsize 1\n",
      "2021-10-01 16:51:34,215 : INFO : EPOCH 1 - PROGRESS: at 42.52% examples, 220352 words/s, in_qsize 7, out_qsize 0\n",
      "2021-10-01 16:51:35,238 : INFO : EPOCH 1 - PROGRESS: at 76.16% examples, 237448 words/s, in_qsize 7, out_qsize 0\n",
      "2021-10-01 16:51:35,859 : INFO : worker thread finished; awaiting finish of 3 more threads\n",
      "2021-10-01 16:51:35,892 : INFO : worker thread finished; awaiting finish of 2 more threads\n",
      "2021-10-01 16:51:35,906 : INFO : worker thread finished; awaiting finish of 1 more threads\n",
      "2021-10-01 16:51:35,941 : INFO : worker thread finished; awaiting finish of 0 more threads\n",
      "2021-10-01 16:51:35,942 : INFO : EPOCH - 1 : training on 1042225 raw words (932645 effective words) took 3.8s, 247285 effective words/s\n",
      "2021-10-01 16:51:37,004 : INFO : EPOCH 2 - PROGRESS: at 11.88% examples, 179456 words/s, in_qsize 7, out_qsize 0\n",
      "2021-10-01 16:51:38,041 : INFO : EPOCH 2 - PROGRESS: at 40.42% examples, 208441 words/s, in_qsize 7, out_qsize 0\n",
      "2021-10-01 16:51:39,066 : INFO : EPOCH 2 - PROGRESS: at 67.56% examples, 212412 words/s, in_qsize 7, out_qsize 0\n",
      "2021-10-01 16:51:39,882 : INFO : worker thread finished; awaiting finish of 3 more threads\n",
      "2021-10-01 16:51:39,911 : INFO : worker thread finished; awaiting finish of 2 more threads\n",
      "2021-10-01 16:51:39,934 : INFO : worker thread finished; awaiting finish of 1 more threads\n",
      "2021-10-01 16:51:39,965 : INFO : worker thread finished; awaiting finish of 0 more threads\n",
      "2021-10-01 16:51:39,968 : INFO : EPOCH - 2 : training on 1042225 raw words (932366 effective words) took 4.0s, 232899 effective words/s\n",
      "2021-10-01 16:51:40,987 : INFO : EPOCH 3 - PROGRESS: at 13.36% examples, 204642 words/s, in_qsize 7, out_qsize 0\n",
      "2021-10-01 16:51:42,046 : INFO : EPOCH 3 - PROGRESS: at 42.52% examples, 218602 words/s, in_qsize 7, out_qsize 0\n",
      "2021-10-01 16:51:43,096 : INFO : EPOCH 3 - PROGRESS: at 63.33% examples, 200676 words/s, in_qsize 7, out_qsize 0\n",
      "2021-10-01 16:51:44,100 : INFO : EPOCH 3 - PROGRESS: at 85.22% examples, 196364 words/s, in_qsize 7, out_qsize 0\n",
      "2021-10-01 16:51:44,670 : INFO : worker thread finished; awaiting finish of 3 more threads\n",
      "2021-10-01 16:51:44,727 : INFO : worker thread finished; awaiting finish of 2 more threads\n",
      "2021-10-01 16:51:44,735 : INFO : worker thread finished; awaiting finish of 1 more threads\n",
      "2021-10-01 16:51:44,752 : INFO : worker thread finished; awaiting finish of 0 more threads\n",
      "2021-10-01 16:51:44,753 : INFO : EPOCH - 3 : training on 1042225 raw words (932628 effective words) took 4.8s, 195597 effective words/s\n",
      "2021-10-01 16:51:45,823 : INFO : EPOCH 4 - PROGRESS: at 4.55% examples, 123467 words/s, in_qsize 7, out_qsize 0\n",
      "2021-10-01 16:51:46,825 : INFO : EPOCH 4 - PROGRESS: at 39.42% examples, 207860 words/s, in_qsize 7, out_qsize 0\n",
      "2021-10-01 16:51:47,833 : INFO : EPOCH 4 - PROGRESS: at 75.09% examples, 236086 words/s, in_qsize 7, out_qsize 0\n",
      "2021-10-01 16:51:48,498 : INFO : worker thread finished; awaiting finish of 3 more threads\n",
      "2021-10-01 16:51:48,506 : INFO : worker thread finished; awaiting finish of 2 more threads\n",
      "2021-10-01 16:51:48,533 : INFO : worker thread finished; awaiting finish of 1 more threads\n",
      "2021-10-01 16:51:48,587 : INFO : worker thread finished; awaiting finish of 0 more threads\n",
      "2021-10-01 16:51:48,588 : INFO : EPOCH - 4 : training on 1042225 raw words (932463 effective words) took 3.8s, 245094 effective words/s\n",
      "2021-10-01 16:51:49,619 : INFO : EPOCH 5 - PROGRESS: at 11.88% examples, 182483 words/s, in_qsize 7, out_qsize 0\n",
      "2021-10-01 16:51:50,640 : INFO : EPOCH 5 - PROGRESS: at 47.58% examples, 241913 words/s, in_qsize 7, out_qsize 0\n",
      "2021-10-01 16:51:51,648 : INFO : EPOCH 5 - PROGRESS: at 84.19% examples, 261985 words/s, in_qsize 7, out_qsize 0\n",
      "2021-10-01 16:51:52,025 : INFO : worker thread finished; awaiting finish of 3 more threads\n",
      "2021-10-01 16:51:52,046 : INFO : worker thread finished; awaiting finish of 2 more threads\n",
      "2021-10-01 16:51:52,079 : INFO : worker thread finished; awaiting finish of 1 more threads\n",
      "2021-10-01 16:51:52,085 : INFO : worker thread finished; awaiting finish of 0 more threads\n",
      "2021-10-01 16:51:52,086 : INFO : EPOCH - 5 : training on 1042225 raw words (932440 effective words) took 3.5s, 267255 effective words/s\n",
      "2021-10-01 16:51:52,087 : INFO : Word2Vec lifecycle event {'msg': 'training on 5211125 raw words (4662542 effective words) took 19.9s, 233997 effective words/s', 'datetime': '2021-10-01T16:51:52.087382', 'gensim': '4.1.2', 'python': '3.8.11 (default, Aug  6 2021, 08:56:27) \\n[Clang 10.0.0 ]', 'platform': 'macOS-10.16-x86_64-i386-64bit', 'event': 'train'}\n"
     ]
    },
    {
     "name": "stderr",
     "output_type": "stream",
     "text": [
      "2021-10-01 16:51:52,088 : INFO : Word2Vec lifecycle event {'params': 'Word2Vec(vocab=15534, vector_size=100, alpha=0.025)', 'datetime': '2021-10-01T16:51:52.088691', 'gensim': '4.1.2', 'python': '3.8.11 (default, Aug  6 2021, 08:56:27) \\n[Clang 10.0.0 ]', 'platform': 'macOS-10.16-x86_64-i386-64bit', 'event': 'created'}\n",
      "2021-10-01 16:51:52,090 : INFO : collecting all words and their counts\n",
      "2021-10-01 16:51:52,092 : INFO : PROGRESS: at sentence #0, processed 0 words, keeping 0 word types\n",
      "2021-10-01 16:51:52,161 : INFO : PROGRESS: at sentence #10000, processed 187861 words, keeping 8491 word types\n",
      "2021-10-01 16:51:52,188 : INFO : PROGRESS: at sentence #20000, processed 254725 words, keeping 18159 word types\n",
      "2021-10-01 16:51:52,223 : INFO : PROGRESS: at sentence #30000, processed 341184 words, keeping 27356 word types\n",
      "2021-10-01 16:51:52,258 : INFO : PROGRESS: at sentence #40000, processed 427836 words, keeping 35384 word types\n",
      "2021-10-01 16:51:52,296 : INFO : PROGRESS: at sentence #50000, processed 518155 words, keeping 43089 word types\n",
      "2021-10-01 16:51:52,333 : INFO : PROGRESS: at sentence #60000, processed 604765 words, keeping 49209 word types\n",
      "2021-10-01 16:51:52,369 : INFO : PROGRESS: at sentence #70000, processed 689611 words, keeping 56180 word types\n",
      "2021-10-01 16:51:52,406 : INFO : PROGRESS: at sentence #80000, processed 774503 words, keeping 62461 word types\n",
      "2021-10-01 16:51:52,444 : INFO : PROGRESS: at sentence #90000, processed 861508 words, keeping 67633 word types\n",
      "2021-10-01 16:51:52,488 : INFO : PROGRESS: at sentence #100000, processed 951473 words, keeping 72327 word types\n",
      "2021-10-01 16:51:52,526 : INFO : PROGRESS: at sentence #110000, processed 1037678 words, keeping 77970 word types\n",
      "2021-10-01 16:51:52,529 : INFO : collected 78061 word types from a corpus of 1042225 raw words and 110504 sentences\n",
      "2021-10-01 16:51:52,530 : INFO : Creating a fresh vocabulary\n",
      "2021-10-01 16:51:52,747 : INFO : Word2Vec lifecycle event {'msg': 'effective_min_count=5 retains 15534 unique words (19.89982193412844%% of original 78061, drops 62527)', 'datetime': '2021-10-01T16:51:52.747125', 'gensim': '4.1.2', 'python': '3.8.11 (default, Aug  6 2021, 08:56:27) \\n[Clang 10.0.0 ]', 'platform': 'macOS-10.16-x86_64-i386-64bit', 'event': 'prepare_vocab'}\n",
      "2021-10-01 16:51:52,777 : INFO : Word2Vec lifecycle event {'msg': 'effective_min_count=5 leaves 957890 word corpus (91.90817721701168%% of original 1042225, drops 84335)', 'datetime': '2021-10-01T16:51:52.777302', 'gensim': '4.1.2', 'python': '3.8.11 (default, Aug  6 2021, 08:56:27) \\n[Clang 10.0.0 ]', 'platform': 'macOS-10.16-x86_64-i386-64bit', 'event': 'prepare_vocab'}\n",
      "2021-10-01 16:51:53,013 : INFO : deleting the raw counts dictionary of 78061 items\n",
      "2021-10-01 16:51:53,015 : INFO : sample=0.001 downsamples 22 most-common words\n",
      "2021-10-01 16:51:53,016 : INFO : Word2Vec lifecycle event {'msg': 'downsampling leaves estimated 932479.5016389834 word corpus (97.3%% of prior 957890)', 'datetime': '2021-10-01T16:51:53.016701', 'gensim': '4.1.2', 'python': '3.8.11 (default, Aug  6 2021, 08:56:27) \\n[Clang 10.0.0 ]', 'platform': 'macOS-10.16-x86_64-i386-64bit', 'event': 'prepare_vocab'}\n",
      "2021-10-01 16:51:53,254 : INFO : estimated required memory for 15534 words and 100 dimensions: 20194200 bytes\n",
      "2021-10-01 16:51:53,255 : INFO : resetting layer weights\n",
      "2021-10-01 16:51:53,271 : INFO : Word2Vec lifecycle event {'update': False, 'trim_rule': 'None', 'datetime': '2021-10-01T16:51:53.271530', 'gensim': '4.1.2', 'python': '3.8.11 (default, Aug  6 2021, 08:56:27) \\n[Clang 10.0.0 ]', 'platform': 'macOS-10.16-x86_64-i386-64bit', 'event': 'build_vocab'}\n",
      "2021-10-01 16:51:53,273 : INFO : Word2Vec lifecycle event {'msg': 'training model with 4 workers on 15534 vocabulary and 100 features, using sg=1 hs=0 sample=0.001 negative=5 window=10 shrink_windows=True', 'datetime': '2021-10-01T16:51:53.273298', 'gensim': '4.1.2', 'python': '3.8.11 (default, Aug  6 2021, 08:56:27) \\n[Clang 10.0.0 ]', 'platform': 'macOS-10.16-x86_64-i386-64bit', 'event': 'train'}\n",
      "2021-10-01 16:51:54,310 : INFO : EPOCH 1 - PROGRESS: at 11.88% examples, 181471 words/s, in_qsize 8, out_qsize 1\n",
      "2021-10-01 16:51:55,323 : INFO : EPOCH 1 - PROGRESS: at 47.58% examples, 242097 words/s, in_qsize 7, out_qsize 0\n",
      "2021-10-01 16:51:56,333 : INFO : EPOCH 1 - PROGRESS: at 83.19% examples, 259093 words/s, in_qsize 7, out_qsize 0\n",
      "2021-10-01 16:51:56,720 : INFO : worker thread finished; awaiting finish of 3 more threads\n",
      "2021-10-01 16:51:56,723 : INFO : worker thread finished; awaiting finish of 2 more threads\n",
      "2021-10-01 16:51:56,741 : INFO : worker thread finished; awaiting finish of 1 more threads\n",
      "2021-10-01 16:51:56,785 : INFO : worker thread finished; awaiting finish of 0 more threads\n",
      "2021-10-01 16:51:56,786 : INFO : EPOCH - 1 : training on 1042225 raw words (932541 effective words) took 3.5s, 266162 effective words/s\n",
      "2021-10-01 16:51:57,823 : INFO : EPOCH 2 - PROGRESS: at 12.94% examples, 189773 words/s, in_qsize 7, out_qsize 0\n",
      "2021-10-01 16:51:58,953 : INFO : EPOCH 2 - PROGRESS: at 49.52% examples, 236980 words/s, in_qsize 7, out_qsize 0\n",
      "2021-10-01 16:51:59,980 : INFO : EPOCH 2 - PROGRESS: at 74.04% examples, 223197 words/s, in_qsize 7, out_qsize 0\n",
      "2021-10-01 16:52:00,925 : INFO : worker thread finished; awaiting finish of 3 more threads\n",
      "2021-10-01 16:52:00,956 : INFO : worker thread finished; awaiting finish of 2 more threads\n",
      "2021-10-01 16:52:00,980 : INFO : EPOCH 2 - PROGRESS: at 99.01% examples, 220639 words/s, in_qsize 1, out_qsize 1\n",
      "2021-10-01 16:52:00,981 : INFO : worker thread finished; awaiting finish of 1 more threads\n",
      "2021-10-01 16:52:00,999 : INFO : worker thread finished; awaiting finish of 0 more threads\n",
      "2021-10-01 16:52:01,000 : INFO : EPOCH - 2 : training on 1042225 raw words (932415 effective words) took 4.2s, 221676 effective words/s\n",
      "2021-10-01 16:52:02,034 : INFO : EPOCH 3 - PROGRESS: at 12.30% examples, 191455 words/s, in_qsize 7, out_qsize 0\n",
      "2021-10-01 16:52:03,057 : INFO : EPOCH 3 - PROGRESS: at 46.47% examples, 237075 words/s, in_qsize 7, out_qsize 0\n",
      "2021-10-01 16:52:04,074 : INFO : EPOCH 3 - PROGRESS: at 84.19% examples, 260817 words/s, in_qsize 7, out_qsize 0\n",
      "2021-10-01 16:52:04,435 : INFO : worker thread finished; awaiting finish of 3 more threads\n",
      "2021-10-01 16:52:04,451 : INFO : worker thread finished; awaiting finish of 2 more threads\n",
      "2021-10-01 16:52:04,495 : INFO : worker thread finished; awaiting finish of 1 more threads\n",
      "2021-10-01 16:52:04,503 : INFO : worker thread finished; awaiting finish of 0 more threads\n",
      "2021-10-01 16:52:04,504 : INFO : EPOCH - 3 : training on 1042225 raw words (932569 effective words) took 3.5s, 266824 effective words/s\n",
      "2021-10-01 16:52:05,543 : INFO : EPOCH 4 - PROGRESS: at 13.36% examples, 198794 words/s, in_qsize 7, out_qsize 0\n",
      "2021-10-01 16:52:06,554 : INFO : EPOCH 4 - PROGRESS: at 50.57% examples, 254729 words/s, in_qsize 7, out_qsize 0\n",
      "2021-10-01 16:52:07,580 : INFO : EPOCH 4 - PROGRESS: at 89.27% examples, 274737 words/s, in_qsize 7, out_qsize 0\n",
      "2021-10-01 16:52:07,779 : INFO : worker thread finished; awaiting finish of 3 more threads\n",
      "2021-10-01 16:52:07,782 : INFO : worker thread finished; awaiting finish of 2 more threads\n",
      "2021-10-01 16:52:07,845 : INFO : worker thread finished; awaiting finish of 1 more threads\n",
      "2021-10-01 16:52:07,849 : INFO : worker thread finished; awaiting finish of 0 more threads\n",
      "2021-10-01 16:52:07,850 : INFO : EPOCH - 4 : training on 1042225 raw words (932466 effective words) took 3.3s, 279306 effective words/s\n",
      "2021-10-01 16:52:08,953 : INFO : EPOCH 5 - PROGRESS: at 9.49% examples, 153241 words/s, in_qsize 7, out_qsize 0\n",
      "2021-10-01 16:52:09,955 : INFO : EPOCH 5 - PROGRESS: at 32.12% examples, 173348 words/s, in_qsize 8, out_qsize 0\n",
      "2021-10-01 16:52:10,957 : INFO : EPOCH 5 - PROGRESS: at 57.00% examples, 184776 words/s, in_qsize 8, out_qsize 0\n",
      "2021-10-01 16:52:11,961 : INFO : EPOCH 5 - PROGRESS: at 94.57% examples, 216105 words/s, in_qsize 6, out_qsize 0\n",
      "2021-10-01 16:52:12,034 : INFO : worker thread finished; awaiting finish of 3 more threads\n",
      "2021-10-01 16:52:12,075 : INFO : worker thread finished; awaiting finish of 2 more threads\n",
      "2021-10-01 16:52:12,077 : INFO : worker thread finished; awaiting finish of 1 more threads\n"
     ]
    },
    {
     "name": "stderr",
     "output_type": "stream",
     "text": [
      "2021-10-01 16:52:12,091 : INFO : worker thread finished; awaiting finish of 0 more threads\n",
      "2021-10-01 16:52:12,092 : INFO : EPOCH - 5 : training on 1042225 raw words (932332 effective words) took 4.2s, 220259 effective words/s\n",
      "2021-10-01 16:52:12,093 : INFO : Word2Vec lifecycle event {'msg': 'training on 5211125 raw words (4662323 effective words) took 18.8s, 247740 effective words/s', 'datetime': '2021-10-01T16:52:12.093074', 'gensim': '4.1.2', 'python': '3.8.11 (default, Aug  6 2021, 08:56:27) \\n[Clang 10.0.0 ]', 'platform': 'macOS-10.16-x86_64-i386-64bit', 'event': 'train'}\n",
      "2021-10-01 16:52:12,094 : INFO : Word2Vec lifecycle event {'params': 'Word2Vec(vocab=15534, vector_size=100, alpha=0.025)', 'datetime': '2021-10-01T16:52:12.094365', 'gensim': '4.1.2', 'python': '3.8.11 (default, Aug  6 2021, 08:56:27) \\n[Clang 10.0.0 ]', 'platform': 'macOS-10.16-x86_64-i386-64bit', 'event': 'created'}\n"
     ]
    }
   ],
   "source": [
    "cynor_skill2vec_model_100d = word2vec.Word2Vec(musthave_dice_naruki_data, \n",
    "          workers=multiprocessing.cpu_count(),  # Number of threads to run in parallel\n",
    "#           size=100, \n",
    "          min_count=5, \n",
    "          window=10, \n",
    "          sample = 1e-3,  # Downsample setting for frequent words\n",
    "#           iter=4,\n",
    "          sg =1\n",
    "    )\n",
    "\n",
    "cynor_skill2vec_model_200d = word2vec.Word2Vec(musthave_dice_naruki_data, \n",
    "          workers=multiprocessing.cpu_count(),  # Number of threads to run in parallel\n",
    "#           size=200, \n",
    "          min_count=5, \n",
    "          window=10, \n",
    "          sample = 1e-3,  # Downsample setting for frequent words\n",
    "#           iter=4,\n",
    "          sg =1\n",
    "    )"
   ]
  },
  {
   "cell_type": "code",
   "execution_count": 56,
   "metadata": {},
   "outputs": [
    {
     "name": "stderr",
     "output_type": "stream",
     "text": [
      "2021-10-01 16:52:12,124 : INFO : storing 15534x100 projection weights into cynor_skill2vec_100d.model\n",
      "2021-10-01 16:52:13,622 : INFO : storing 15534x100 projection weights into cynor_skill2vec_200d.model\n"
     ]
    }
   ],
   "source": [
    "cynor_skill2vec_model_100d.wv.save_word2vec_format(\"cynor_skill2vec_100d.model\")\n",
    "cynor_skill2vec_model_200d.wv.save_word2vec_format(\"cynor_skill2vec_200d.model\")"
   ]
  },
  {
   "cell_type": "code",
   "execution_count": 57,
   "metadata": {},
   "outputs": [
    {
     "name": "stdout",
     "output_type": "stream",
     "text": [
      "total 317144\n",
      "-rw-r--r--@  1 bharath  staff      6148 Oct  1 16:13 .DS_Store\n",
      "drwxr-xr-x  13 bharath  staff       416 Oct  1 15:35 \u001b[1m\u001b[36m.git\u001b[m\u001b[m\n",
      "-rw-r--r--   1 bharath  staff      1799 Oct  1 15:34 .gitignore\n",
      "drwxr-xr-x   4 root     staff       128 Oct  1 16:17 \u001b[1m\u001b[36m.ipynb_checkpoints\u001b[m\u001b[m\n",
      "-rw-r--r--   1 bharath  staff        11 Oct  1 15:34 README.md\n",
      "-rw-r--r--   1 root     staff  14381180 Oct  1 16:25 cynor_model.p\n",
      "-rw-r--r--   1 root     staff  18111038 Oct  1 16:52 cynor_skill2vec_100d.model\n",
      "-rw-r--r--   1 root     staff  18104991 Oct  1 16:52 cynor_skill2vec_200d.model\n",
      "-rw-r--r--   1 bharath  staff     67064 Oct  1 16:49 format_data.ipynb\n",
      "-rw-r--r--   1 root     staff    252385 Oct  1 16:13 formatted_skill2vec.csv\n",
      "-rw-r--r--@  1 bharath  staff   8885546 Sep 30 21:56 mustHaveSkills-2.csv\n",
      "-rw-r--r--   1 root     staff  25538370 Oct  1 16:27 musthave_dice_naruki.model\n",
      "-rw-r--r--   1 bharath  staff  18240737 Sep 30 21:56 naukri_skill_full\n",
      "drwxr-xr-x   4 bharath  staff       128 Oct  1 15:35 \u001b[1m\u001b[36mnltk_data\u001b[m\u001b[m\n",
      "-rw-r--r--   1 bharath  staff   3972850 Sep 30 21:56 prep_data_tokens_underscore_1\n",
      "-rw-r--r--@  1 bharath  staff   1074156 Oct  1 14:39 skill2vec_1K.csv\n",
      "-rw-r--r--@  1 bharath  staff  53615877 Oct  1 14:39 skill2vec_50K.csv\n",
      "-rw-r--r--   1 bharath  staff     91782 Oct  1 16:51 skill2vec_ver3 (WORKING).ipynb\n",
      "/bin/sh: free: command not found\n"
     ]
    }
   ],
   "source": [
    "!ls -l\n",
    "!free -m"
   ]
  },
  {
   "cell_type": "code",
   "execution_count": 58,
   "metadata": {},
   "outputs": [
    {
     "data": {
      "text/plain": [
       "[('html5', 0.8158990144729614),\n",
       " ('css3', 0.813828706741333),\n",
       " ('ajax', 0.8093597888946533),\n",
       " ('oops_concept', 0.8039079904556274),\n",
       " ('webdeveloper', 0.7994744777679443),\n",
       " ('jquery', 0.7985265851020813),\n",
       " ('web_tool', 0.7981303930282593),\n",
       " ('bootstrap', 0.7941082715988159),\n",
       " ('photoshop_developer', 0.7925956845283508),\n",
       " ('web_developement', 0.7914119958877563)]"
      ]
     },
     "execution_count": 58,
     "metadata": {},
     "output_type": "execute_result"
    }
   ],
   "source": [
    "musthave_dice_naruki_model.wv.similar_by_word(skill_transform('javascript'),topn=10)"
   ]
  },
  {
   "cell_type": "code",
   "execution_count": 72,
   "metadata": {},
   "outputs": [
    {
     "data": {
      "text/plain": [
       "[('ardl', 0.9357483386993408),\n",
       " ('cell_culture', 0.9179457426071167),\n",
       " ('downstream_process', 0.9159078001976013),\n",
       " ('psur', 0.9125140905380249),\n",
       " ('xrd', 0.9094202518463135),\n",
       " ('drug_regulatory_affairs', 0.90939861536026),\n",
       " ('ard', 0.9073624014854431),\n",
       " ('glp', 0.904293417930603),\n",
       " ('dq', 0.9041879773139954),\n",
       " ('regulatory_market', 0.9041591286659241)]"
      ]
     },
     "execution_count": 72,
     "metadata": {},
     "output_type": "execute_result"
    }
   ],
   "source": [
    "cynor_skill2vec_model_200d.wv.similar_by_word(skill_transform('gcp'))"
   ]
  },
  {
   "cell_type": "code",
   "execution_count": 32,
   "metadata": {},
   "outputs": [],
   "source": [
    "# [(u'css3', 0.9307963252067566),\n",
    "#  (u'bootstrap', 0.9234713912010193),\n",
    "#  (u'ui_developer', 0.9192823171615601),\n",
    "#  (u'front_end_engineer', 0.9077576398849487),\n",
    "#  (u'front__end', 0.9058327674865723),\n",
    "#  (u'css_3', 0.9039251208305359),\n",
    "#  (u'ui_engineer', 0.9014566540718079),\n",
    "#  (u'adobe_experience_management_suite', 0.9006956815719604),\n",
    "#  (u'html4', 0.9003456234931946),\n",
    "#  (u'user_interface_developer', 0.8981920480728149)]"
   ]
  },
  {
   "cell_type": "code",
   "execution_count": 29,
   "metadata": {},
   "outputs": [
    {
     "ename": "AttributeError",
     "evalue": "'Word2Vec' object has no attribute 'similar_by_word'",
     "output_type": "error",
     "traceback": [
      "\u001b[0;31m---------------------------------------------------------------------------\u001b[0m",
      "\u001b[0;31mAttributeError\u001b[0m                            Traceback (most recent call last)",
      "\u001b[0;32m/tmp/ipykernel_10602/3942249478.py\u001b[0m in \u001b[0;36m<module>\u001b[0;34m\u001b[0m\n\u001b[0;32m----> 1\u001b[0;31m \u001b[0mmusthave_dice_naruki_model\u001b[0m\u001b[0;34m.\u001b[0m\u001b[0msimilar_by_word\u001b[0m\u001b[0;34m(\u001b[0m\u001b[0mskill_transform\u001b[0m\u001b[0;34m(\u001b[0m\u001b[0;34m'javascript'\u001b[0m\u001b[0;34m)\u001b[0m\u001b[0;34m)\u001b[0m\u001b[0;34m\u001b[0m\u001b[0;34m\u001b[0m\u001b[0m\n\u001b[0m",
      "\u001b[0;31mAttributeError\u001b[0m: 'Word2Vec' object has no attribute 'similar_by_word'"
     ]
    }
   ],
   "source": [
    "musthave_dice_naruki_model.similar_by_word(skill_transform('javascript'))"
   ]
  },
  {
   "cell_type": "code",
   "execution_count": 84,
   "metadata": {
    "scrolled": false
   },
   "outputs": [
    {
     "data": {
      "text/plain": [
       "[(u'react', 0.9388986825942993),\n",
       " (u'backbone', 0.9247055053710938),\n",
       " (u'mean_stack', 0.9243057370185852),\n",
       " (u'angular', 0.9219822883605957),\n",
       " (u'mean', 0.9090983867645264),\n",
       " (u'bower', 0.9059317111968994),\n",
       " (u'full_stack_developer', 0.9024332165718079),\n",
       " (u'npm', 0.9016261100769043),\n",
       " (u'frontend', 0.9010946750640869),\n",
       " (u'grunt', 0.8981549143791199),\n",
       " (u'css/javascript', 0.8971441984176636),\n",
       " (u'gulp', 0.8954569697380066),\n",
       " (u'bootstrap', 0.8946527242660522),\n",
       " (u'mongodb', 0.894255518913269),\n",
       " (u'javascript_developer', 0.8926291465759277),\n",
       " (u'mean_stack_developer', 0.8926271200180054),\n",
       " (u'mongo_db', 0.8904428482055664),\n",
       " (u'front_end_web_developer', 0.8894308805465698),\n",
       " (u'service_workers', 0.8887876272201538),\n",
       " (u'ui_architect', 0.8884862661361694),\n",
       " (u'less', 0.888136088848114),\n",
       " (u'loopback', 0.8872900009155273),\n",
       " (u'firebase', 0.8807092905044556),\n",
       " (u'mocha', 0.8802285194396973),\n",
       " (u'meanstack', 0.880145788192749),\n",
       " (u'front__end', 0.8791353106498718),\n",
       " (u'javascript_mvc', 0.8780139684677124),\n",
       " (u'front__end_developer', 0.8763250708580017),\n",
       " (u'ruby_rail', 0.875716507434845),\n",
       " (u'redux', 0.8757087588310242),\n",
       " (u'frontend_developer', 0.8744759559631348),\n",
       " (u'progressive_web_apps', 0.8743990659713745),\n",
       " (u'responsive_web', 0.8740561008453369),\n",
       " (u'ui_frameworks', 0.8734986782073975),\n",
       " (u'scss', 0.8733119964599609),\n",
       " (u'ui_developement', 0.8728358149528503),\n",
       " (u'oo_javascript', 0.8728337287902832),\n",
       " (u'yeoman', 0.8724195957183838),\n",
       " (u'extension', 0.8723046779632568),\n",
       " (u'backend_developer', 0.8721400499343872),\n",
       " (u'java_ui', 0.8712367415428162),\n",
       " (u'ui_developer', 0.8705049157142639),\n",
       " (u'full_stack', 0.8704302906990051),\n",
       " (u'api_design', 0.8697232007980347),\n",
       " (u'require', 0.8695825338363647),\n",
       " (u'mongo_database', 0.8692529201507568),\n",
       " (u'express', 0.8689918518066406),\n",
       " (u'front_end_engineer', 0.8679870963096619),\n",
       " (u'ionic', 0.8674670457839966),\n",
       " (u'html5_apis', 0.8669593334197998),\n",
       " (u'rest_api', 0.8667384386062622),\n",
       " (u'vanilla', 0.8662528991699219),\n",
       " (u'javascript_frameworks', 0.8661893606185913),\n",
       " (u'front_end_developer', 0.8660576343536377),\n",
       " (u'angula', 0.8660332560539246),\n",
       " (u'socketio', 0.8656952381134033),\n",
       " (u'web_sockets', 0.865507185459137),\n",
       " (u'knockout', 0.8648263216018677),\n",
       " (u'fullstack', 0.8647933006286621),\n",
       " (u'ractive', 0.8647328615188599),\n",
       " (u'handlebar', 0.8638430833816528),\n",
       " (u'ember', 0.8634741306304932),\n",
       " (u'karma', 0.8630586862564087),\n",
       " (u'userinterface', 0.8628602027893066),\n",
       " (u'transform', 0.8626048564910889),\n",
       " (u'aurelia', 0.8621917963027954),\n",
       " (u'anguler', 0.8620923757553101),\n",
       " (u'vue', 0.8616383671760559),\n",
       " (u'mustache', 0.8614273071289062),\n",
       " (u'mock', 0.8613691329956055),\n",
       " (u'three', 0.8611224889755249),\n",
       " (u'ruby_on_rail_developer', 0.8604821562767029),\n",
       " (u'postcss', 0.8601441383361816),\n",
       " (u'durandal', 0.8589529991149902),\n",
       " (u'full_stack_software_developer', 0.8588634729385376),\n",
       " (u'single_page', 0.8583961725234985),\n",
       " (u'sass', 0.8582544922828674),\n",
       " (u'angular_', 0.8575234413146973),\n",
       " (u'highcharts', 0.8572196364402771),\n",
       " (u'phython', 0.856558084487915),\n",
       " (u'rubyonrails', 0.8562724590301514),\n",
       " (u'server_side', 0.8562562465667725),\n",
       " (u'type_script', 0.8559668064117432),\n",
       " (u'fullstack_developer', 0.8557930588722229),\n",
       " (u'backend_engineer', 0.8557524085044861),\n",
       " (u'rabbit_mq', 0.8551300764083862),\n",
       " (u'protractor', 0.8548111319541931),\n",
       " (u'pixi', 0.853692889213562),\n",
       " (u'postgre_sql', 0.8536221385002136),\n",
       " (u'lamp_stack', 0.8534302711486816),\n",
       " (u'jasmine', 0.8533531427383423),\n",
       " (u'web_engineer', 0.8526561260223389),\n",
       " (u'anjular', 0.8521955013275146),\n",
       " (u'ui_engineer', 0.8517796993255615),\n",
       " (u'java_ui_developer', 0.8506346940994263),\n",
       " (u'reactjs_developer', 0.8504369854927063),\n",
       " (u'css/sass', 0.8501026630401611),\n",
       " (u'responsive', 0.8494596481323242),\n",
       " (u'frontends', 0.8493925929069519),\n",
       " (u'user_interface_developer', 0.8493410348892212),\n",
       " (u'mvc_frameworks', 0.8492969870567322),\n",
       " (u'ruby_rail_developer', 0.8491718769073486),\n",
       " (u'ux_developer', 0.8489862680435181),\n",
       " (u'jqueryui', 0.8482282161712646),\n",
       " (u'full__stack', 0.8481844067573547),\n",
       " (u'es6', 0.8477033972740173),\n",
       " (u'odoo', 0.8470433950424194),\n",
       " (u'restful_webservices', 0.8469909429550171),\n",
       " (u'oo', 0.8467534184455872),\n",
       " (u'behaviour_drive', 0.8467332124710083),\n",
       " (u'spring_data', 0.8464245200157166),\n",
       " (u'nosql_db', 0.8459915518760681),\n",
       " (u'technology_lead', 0.8453523516654968),\n",
       " (u'adobe_experience_management_suite', 0.8451828360557556),\n",
       " (u'django', 0.8448779582977295),\n",
       " (u'restful_api', 0.8447527885437012),\n",
       " (u'ccs3', 0.8447158932685852),\n",
       " (u'domain_drive_design', 0.8445805311203003),\n",
       " (u'marine_corps', 0.8445587754249573),\n",
       " (u'ui_specialist', 0.8444175720214844),\n",
       " (u'dynamodb', 0.8443212509155273),\n",
       " (u'data_source', 0.8435825109481812),\n",
       " (u'ror', 0.8434613943099976),\n",
       " (u'bootstrap_3', 0.8434313535690308),\n",
       " (u'memcache', 0.8433147072792053),\n",
       " (u'fontend', 0.8432695865631104),\n",
       " (u'phonegap_developer', 0.8432431221008301),\n",
       " (u'back_end_developer', 0.8430757522583008),\n",
       " (u'java_j2ee_developer', 0.8429073095321655),\n",
       " (u'css5', 0.8427987098693848),\n",
       " (u'build_tool', 0.84251868724823),\n",
       " (u'ui_developers', 0.8424967527389526),\n",
       " (u'javascrip', 0.8422414064407349),\n",
       " (u'cordova', 0.8421887159347534),\n",
       " (u'js_angular', 0.8419628143310547),\n",
       " (u'mysql_db', 0.8415170311927795),\n",
       " (u'or_ruby_on_rail', 0.8413493633270264),\n",
       " (u'j_script', 0.8411810398101807),\n",
       " (u'php_architect', 0.8409843444824219),\n",
       " (u'full_stack_web_developer', 0.840727686882019),\n",
       " (u'rich_internet_applications', 0.8406217098236084),\n",
       " (u'aws_service', 0.8397541046142578),\n",
       " (u'hybrid_apps', 0.8394625186920166),\n",
       " (u'hybrid_mobile', 0.8392165899276733),\n",
       " (u'api_security', 0.8390585780143738),\n",
       " (u'yii2', 0.8388251066207886),\n",
       " (u'bs/ms_in_computer_science', 0.8387699127197266),\n",
       " (u'restful_web_service', 0.838039219379425),\n",
       " (u'sap_ui5', 0.8376845717430115),\n",
       " (u'aws_sdk', 0.8376805782318115),\n",
       " (u'ror_developer', 0.8376057744026184),\n",
       " (u'cascade_style_sheet', 0.837382972240448),\n",
       " (u'mcv', 0.8373094797134399),\n",
       " (u'html5', 0.8372753262519836),\n",
       " (u'compass', 0.8370662331581116),\n",
       " (u'sql_lite', 0.8370129466056824),\n",
       " (u'full_stack_engineer', 0.8368926644325256),\n",
       " (u'object_oriented', 0.8368857502937317),\n",
       " (u'hybrid_mobile_developer', 0.8361007571220398),\n",
       " (u'microservices', 0.8359015583992004),\n",
       " (u'object_relational_mapper', 0.8358584642410278),\n",
       " (u'mvw', 0.8358190059661865),\n",
       " (u'git_hub', 0.8356602787971497),\n",
       " (u'markup_languages', 0.8355462551116943),\n",
       " (u'serverside', 0.8354949951171875),\n",
       " (u'html5/css3/javascript', 0.8354354500770569),\n",
       " (u'curl', 0.8351383209228516),\n",
       " (u'rest_apis', 0.8351231813430786),\n",
       " (u'air_national_guard', 0.8348999619483948),\n",
       " (u'css3', 0.8347866535186768),\n",
       " (u'full_stack_software_engineer', 0.8342705368995667),\n",
       " (u'us_military', 0.8338086605072021),\n",
       " (u'no_sql', 0.8336770534515381),\n",
       " (u'net_angular', 0.8335667848587036),\n",
       " (u'ui_lead', 0.8332997560501099),\n",
       " (u'hybrid_applications', 0.8321267366409302),\n",
       " (u'vs_2010', 0.8321205377578735),\n",
       " (u'opensource', 0.8316771984100342),\n",
       " (u'twitter_bootstrap', 0.831123948097229),\n",
       " (u'css2', 0.8309839963912964),\n",
       " (u'webdeveloper', 0.830945611000061),\n",
       " (u'reactos', 0.8305810689926147),\n",
       " (u'ext_', 0.8301624655723572),\n",
       " (u'client_side', 0.8300262689590454),\n",
       " (u'websockets', 0.8299471139907837),\n",
       " (u'ui_architecture', 0.829939603805542),\n",
       " (u'cloudbased', 0.8299084901809692),\n",
       " (u'javscript', 0.8298561573028564),\n",
       " (u'mvcs', 0.8293628692626953),\n",
       " (u'web_ux_design', 0.8290427923202515),\n",
       " (u'paypal', 0.8289146423339844),\n",
       " (u'gui_developer', 0.8288257122039795),\n",
       " (u'react_native_developer', 0.8283089399337769),\n",
       " (u'jav', 0.8281422853469849),\n",
       " (u'responsive/adaptive_design', 0.8280612230300903),\n",
       " (u'veteran', 0.8278810977935791),\n",
       " (u'ux_lead', 0.8275170922279358),\n",
       " (u'test_drive', 0.8269290924072266),\n",
       " (u'yui', 0.8268765211105347),\n",
       " (u'web_ui_developer', 0.8268682956695557),\n",
       " (u'amazon_kinesis', 0.8263774514198303),\n",
       " (u'css_30', 0.8259981870651245),\n",
       " (u'sr_software_engineer', 0.8256813287734985),\n",
       " (u'meteor', 0.8255735635757446),\n",
       " (u'or', 0.8255723714828491),\n",
       " (u'laravel_developer', 0.8255006074905396),\n",
       " (u'feed', 0.8253114223480225),\n",
       " (u'nosql_database', 0.8251196146011353),\n",
       " (u'jquerymobile', 0.8250206708908081),\n",
       " (u'php_laravel', 0.824870228767395),\n",
       " (u'game_pc', 0.8246759176254272),\n",
       " (u'html4', 0.8242911100387573),\n",
       " (u'mongo', 0.8241134285926819),\n",
       " (u'boostrap', 0.8238417506217957),\n",
       " (u'cloudfront', 0.8236427903175354),\n",
       " (u'oauth2', 0.8234416842460632),\n",
       " (u'extract', 0.8229417204856873),\n",
       " (u'object', 0.822860062122345),\n",
       " (u'bdd', 0.8226581811904907),\n",
       " (u'ruby_on_rail', 0.8226355314254761),\n",
       " (u'web_scrap', 0.8224507570266724),\n",
       " (u'phone_gap', 0.8223198652267456),\n",
       " (u'cq', 0.8222280740737915),\n",
       " (u'php_web', 0.8220747709274292),\n",
       " (u'cq5_developer', 0.8219730257987976),\n",
       " (u'js_framworks', 0.8217878341674805),\n",
       " (u'design_architecture', 0.8215535879135132),\n",
       " (u'ojavascript', 0.8214572668075562),\n",
       " (u'restful_service', 0.8208134174346924),\n",
       " (u'redis', 0.8207763433456421),\n",
       " (u'coast_guard', 0.8207489848136902),\n",
       " (u'elastic_search', 0.8207370042800903),\n",
       " (u'nosql_databases', 0.8205721378326416),\n",
       " (u'management_experience', 0.8204604387283325),\n",
       " (u'php_engineer', 0.8204389810562134),\n",
       " (u'google_api', 0.8202437162399292),\n",
       " (u'magento_2', 0.820149302482605),\n",
       " (u'web_skills', 0.8195937871932983),\n",
       " (u'playstore', 0.8194507360458374),\n",
       " (u'celery', 0.8193916082382202),\n",
       " (u'senior_software_developer', 0.81935054063797),\n",
       " (u'cloudfoundry', 0.8191690444946289),\n",
       " (u'data_algorithms', 0.8191555738449097),\n",
       " (u'full_stack_java_developer', 0.8190546035766602),\n",
       " (u'consumer_brand', 0.8190178871154785),\n",
       " (u'scalatest', 0.8189647197723389),\n",
       " (u'kendo', 0.8188273906707764),\n",
       " (u'magento_architect', 0.8186784386634827),\n",
       " (u'devtool', 0.8184027671813965),\n",
       " (u'web_tool', 0.818313479423523),\n",
       " (u'experience_with_selenium', 0.8178790211677551),\n",
       " (u'stream_technology', 0.8178411722183228),\n",
       " (u'typescript', 0.8178083300590515),\n",
       " (u'ajex', 0.8175716400146484),\n",
       " (u'amazon_cloud', 0.8174740076065063),\n",
       " (u'cors', 0.8174416422843933),\n",
       " (u'javascript_cod', 0.8167667388916016),\n",
       " (u'stream_protocol', 0.8167084455490112),\n",
       " (u'stash', 0.8166012763977051),\n",
       " (u'html/css', 0.8165947198867798),\n",
       " (u'laravel5', 0.8165886998176575),\n",
       " (u'insightdb', 0.8164784908294678),\n",
       " (u'asf', 0.8164197206497192),\n",
       " (u'nosql', 0.8163759708404541),\n",
       " (u'drupal_architect', 0.8161864280700684),\n",
       " (u'angualr', 0.816053032875061),\n",
       " (u'responsive_web_design', 0.8160463571548462),\n",
       " (u'html_developer', 0.8157740831375122),\n",
       " (u'adobe_aem', 0.8157471418380737),\n",
       " (u'senior_php_developer', 0.8157331347465515),\n",
       " (u'principal_architect', 0.8155913352966309),\n",
       " (u'senior_developer', 0.8154444098472595),\n",
       " (u'gae', 0.8154246807098389),\n",
       " (u'uml_tool', 0.8154241442680359),\n",
       " (u'mobile_analytics', 0.8151251673698425),\n",
       " (u'php_lead', 0.8150041699409485),\n",
       " (u'drupal_architecture', 0.8149550557136536),\n",
       " (u'java_spring', 0.8148590326309204),\n",
       " (u'technology_project', 0.8146462440490723),\n",
       " (u'mango', 0.8146111965179443),\n",
       " (u'user_journey', 0.8145466446876526),\n",
       " (u'senior_software_engineer', 0.8145338892936707),\n",
       " (u'hybrid_mobile_apps', 0.814515233039856),\n",
       " (u'no__sql', 0.81451416015625),\n",
       " (u'js_frameworks', 0.8145068287849426),\n",
       " (u'postgres', 0.8143495321273804),\n",
       " (u'spring_developer', 0.8142673969268799),\n",
       " (u'head_technology', 0.8141673803329468),\n",
       " (u'php_frameworks', 0.8141087889671326),\n",
       " (u'principal_engineer', 0.8140419125556946),\n",
       " (u'springmvc', 0.8139918446540833),\n",
       " (u'open_source_technology', 0.8139768838882446),\n",
       " (u'kony', 0.8136768937110901),\n",
       " (u'aws_cloud', 0.8135985136032104),\n",
       " (u'bluemix', 0.8134545087814331),\n",
       " (u'flux', 0.8131818771362305),\n",
       " (u'lead_developer', 0.813156008720398),\n",
       " (u'internal_apps', 0.813065767288208),\n",
       " (u'software_engineer_manager', 0.8130375146865845),\n",
       " (u'kendoui', 0.8127765655517578)]"
      ]
     },
     "execution_count": 84,
     "metadata": {},
     "output_type": "execute_result"
    }
   ],
   "source": [
    "musthave_dice_naruki_model.similar_by_word(skill_transform('node_js'), 300)"
   ]
  },
  {
   "cell_type": "code",
   "execution_count": 85,
   "metadata": {
    "scrolled": false
   },
   "outputs": [
    {
     "data": {
      "text/plain": [
       "[(u'react', 0.9410043358802795),\n",
       " (u'backbone', 0.9235603213310242),\n",
       " (u'angular', 0.9139069318771362),\n",
       " (u'mean_stack', 0.9107990860939026),\n",
       " (u'npm', 0.8981935977935791),\n",
       " (u'mean', 0.8961061239242554),\n",
       " (u'mongodb', 0.8947668075561523),\n",
       " (u'bower', 0.89299476146698),\n",
       " (u'gulp', 0.8898729085922241),\n",
       " (u'full_stack_developer', 0.8898143768310547),\n",
       " (u'less', 0.8879895806312561),\n",
       " (u'grunt', 0.8874234557151794),\n",
       " (u'bootstrap', 0.8813268542289734),\n",
       " (u'javascript_mvc', 0.8796409368515015),\n",
       " (u'ui_architect', 0.878745436668396),\n",
       " (u'express', 0.8783759474754333),\n",
       " (u'javascript_developer', 0.8779905438423157),\n",
       " (u'loopback', 0.8772644996643066),\n",
       " (u'scss', 0.876909077167511),\n",
       " (u'meanstack', 0.8767061233520508),\n",
       " (u'fullstack_developer', 0.8745248317718506),\n",
       " (u'frontend_developer', 0.8743304014205933),\n",
       " (u'oo_javascript', 0.8734292984008789),\n",
       " (u'frontend', 0.8726052641868591),\n",
       " (u'mean_stack_developer', 0.8722931146621704),\n",
       " (u'mocha', 0.8718781471252441),\n",
       " (u'ionic', 0.8692560195922852),\n",
       " (u'karma', 0.8691719770431519),\n",
       " (u'mongo_db', 0.869140088558197),\n",
       " (u'ruby_rail', 0.8685640096664429),\n",
       " (u'javascript_frameworks', 0.8681174516677856),\n",
       " (u'front__end_developer', 0.8658348321914673),\n",
       " (u'firebase', 0.8657660484313965),\n",
       " (u'front_end_engineer', 0.865490198135376),\n",
       " (u'web_sockets', 0.865413248538971),\n",
       " (u'front_end_web_developer', 0.8645513653755188),\n",
       " (u'ui_developer', 0.8639869689941406),\n",
       " (u'api_design', 0.8633240461349487),\n",
       " (u'fullstack', 0.8624975085258484),\n",
       " (u'responsive_web', 0.8604957461357117),\n",
       " (u'full_stack', 0.8601876497268677),\n",
       " (u'backend_developer', 0.8590860366821289),\n",
       " (u'ember', 0.858986496925354),\n",
       " (u'angular_', 0.8588980436325073),\n",
       " (u'single_page', 0.8582155704498291),\n",
       " (u'highcharts', 0.8563627004623413),\n",
       " (u'require', 0.856257975101471),\n",
       " (u'extension', 0.8553192019462585),\n",
       " (u'compass', 0.8549339771270752),\n",
       " (u'front__end', 0.8544724583625793),\n",
       " (u'sass', 0.8542588949203491),\n",
       " (u'durandal', 0.8531215190887451),\n",
       " (u'net_angular', 0.8520907759666443),\n",
       " (u'ror_developer', 0.8518674373626709),\n",
       " (u'rest_api', 0.8515506982803345),\n",
       " (u'ui_frameworks', 0.8505377769470215),\n",
       " (u'jasmine', 0.8499050140380859),\n",
       " (u'restful_webservices', 0.8487206697463989),\n",
       " (u'rabbit_mq', 0.8482152819633484),\n",
       " (u'mcv', 0.8479892611503601),\n",
       " (u'ruby_on_rail_developer', 0.8479012250900269),\n",
       " (u'three', 0.8476657867431641),\n",
       " (u'ui_engineer', 0.8473669290542603),\n",
       " (u'es6', 0.8466081619262695),\n",
       " (u'front_end_developer', 0.8456935286521912),\n",
       " (u'ui_developers', 0.8455706238746643),\n",
       " (u'transform', 0.8446633219718933),\n",
       " (u'backend_engineer', 0.8440500497817993),\n",
       " (u'twitter_bootstrap', 0.8437660932540894),\n",
       " (u'oo', 0.8437266945838928),\n",
       " (u'mustache', 0.8428046703338623),\n",
       " (u'server_side', 0.8427610397338867),\n",
       " (u'knockout', 0.8426931500434875),\n",
       " (u'veteran', 0.8412466049194336),\n",
       " (u'ruby_rail_developer', 0.8410531878471375),\n",
       " (u'marine_corps', 0.8409768342971802),\n",
       " (u'ccs3', 0.8406050801277161),\n",
       " (u'behaviour_drive', 0.8397578001022339),\n",
       " (u'rubyonrails', 0.8394588232040405),\n",
       " (u'technology_lead', 0.8387559652328491),\n",
       " (u'restful_api', 0.8387421369552612),\n",
       " (u'cordova', 0.8376701474189758),\n",
       " (u'responsive', 0.8371790647506714),\n",
       " (u'lamp_stack', 0.8371149301528931),\n",
       " (u'user_interface_developer', 0.8369914293289185),\n",
       " (u'django', 0.8368545770645142),\n",
       " (u'phython', 0.8365734815597534),\n",
       " (u'ror', 0.8360055685043335),\n",
       " (u'air_national_guard', 0.8355268239974976),\n",
       " (u'opensource', 0.8353366255760193),\n",
       " (u'java_ui_developer', 0.8345665335655212),\n",
       " (u'css5', 0.8340780735015869),\n",
       " (u'mvc_frameworks', 0.8340442776679993),\n",
       " (u'dynamodb', 0.8339343070983887),\n",
       " (u'websockets', 0.8332309126853943),\n",
       " (u'us_military', 0.8328179717063904),\n",
       " (u'full_stack_engineer', 0.832779586315155),\n",
       " (u'protractor', 0.8322723507881165),\n",
       " (u'postgre_sql', 0.8318290710449219),\n",
       " (u'html5/css3/javascript', 0.8316993117332458),\n",
       " (u'restful_web_service', 0.831649899482727),\n",
       " (u'coast_guard', 0.8311233520507812),\n",
       " (u'feed', 0.830828070640564),\n",
       " (u'rest_apis', 0.8300957679748535),\n",
       " (u'gui_developer', 0.8295877575874329),\n",
       " (u'ux_developer', 0.8295469284057617),\n",
       " (u'or_ruby_on_rail', 0.8285820484161377),\n",
       " (u'mysql_db', 0.8280737996101379),\n",
       " (u'hybrid_mobile_developer', 0.8280222415924072),\n",
       " (u'pixi', 0.8276479244232178),\n",
       " (u'build_tool', 0.8270093202590942),\n",
       " (u'frontends', 0.8267995119094849),\n",
       " (u'css_30', 0.8267189264297485),\n",
       " (u'redis', 0.8265978097915649),\n",
       " (u'curl', 0.8263528943061829),\n",
       " (u'html4', 0.8255170583724976),\n",
       " (u'nosql_db', 0.8250864148139954),\n",
       " (u'paypal', 0.8247868418693542),\n",
       " (u'webdeveloper', 0.8242667317390442),\n",
       " (u'web_tool', 0.8239617347717285),\n",
       " (u'data_algorithms', 0.8238608837127686),\n",
       " (u'serverside', 0.8236905336380005),\n",
       " (u'bdd', 0.8233084678649902),\n",
       " (u'memcache', 0.8231711387634277),\n",
       " (u'phone_gap', 0.8226145505905151),\n",
       " (u'ruby_on_rail', 0.821251392364502),\n",
       " (u'javascrip', 0.8205989599227905),\n",
       " (u'nosql_database', 0.8204118013381958),\n",
       " (u'database_knowledge', 0.8191187381744385),\n",
       " (u'client_side', 0.8188855648040771),\n",
       " (u'ui_lead', 0.8186686038970947),\n",
       " (u'back_end_developer', 0.8185954689979553),\n",
       " (u'html5', 0.8185789585113525),\n",
       " (u'cascade_style_sheet', 0.8184218406677246),\n",
       " (u'adobe_experience_management_suite', 0.8177361488342285),\n",
       " (u'principal_engineer', 0.8167839646339417),\n",
       " (u'mongo', 0.816455066204071),\n",
       " (u'object', 0.815758466720581),\n",
       " (u'meteor', 0.8157100677490234),\n",
       " (u'tdd', 0.8151615858078003),\n",
       " (u'sql_lite', 0.8151118755340576),\n",
       " (u'ms_azure', 0.8150578737258911),\n",
       " (u'restapi', 0.8144571781158447),\n",
       " (u'nosql_databases', 0.8143872022628784),\n",
       " (u'css2', 0.8143463730812073),\n",
       " (u'or', 0.8143424391746521),\n",
       " (u'stash', 0.814171314239502),\n",
       " (u'web_architect', 0.8131659030914307),\n",
       " (u'rabbitmq', 0.8120532035827637),\n",
       " (u'hybrid_mobile', 0.8119121193885803),\n",
       " (u'singleton', 0.8117045164108276),\n",
       " (u'bluemix', 0.8116636276245117),\n",
       " (u'web_ux_design', 0.8116440773010254),\n",
       " (u'test_drive', 0.8115922808647156),\n",
       " (u'hybrid_mobile_apps', 0.8111529350280762),\n",
       " (u'grails', 0.8101392984390259),\n",
       " (u'cors', 0.8100817203521729),\n",
       " (u'asf', 0.8100420236587524),\n",
       " (u'markup_languages', 0.809999942779541),\n",
       " (u'distributedsystems', 0.8099850416183472),\n",
       " (u'spring_boot', 0.8091616034507751),\n",
       " (u'cloudbased', 0.8090344667434692),\n",
       " (u'woocommerce', 0.8088372349739075),\n",
       " (u'twist', 0.8085389137268066),\n",
       " (u'odoo', 0.8083859086036682),\n",
       " (u'handlebars', 0.808367133140564),\n",
       " (u'responsive_web_design', 0.8081499338150024),\n",
       " (u'responsive/adaptive_design', 0.8079869151115417),\n",
       " (u'html_developer', 0.807793140411377),\n",
       " (u'amazon_cloud', 0.8074489831924438),\n",
       " (u'postgress', 0.8073288202285767),\n",
       " (u'no_sql', 0.8073278665542603),\n",
       " (u'hsts', 0.8071803450584412),\n",
       " (u'it_developer', 0.8069207072257996),\n",
       " (u'air_force', 0.8067172765731812),\n",
       " (u'extract', 0.8064073324203491),\n",
       " (u'aws_redshift', 0.8064067363739014),\n",
       " (u'senior_php_developer', 0.8055492639541626),\n",
       " (u'js_frameworks', 0.8052727580070496),\n",
       " (u'css3', 0.8050574064254761),\n",
       " (u'playstore', 0.8049640655517578),\n",
       " (u'postgres', 0.804912805557251),\n",
       " (u'play', 0.8044744729995728),\n",
       " (u'google_api', 0.8042485117912292),\n",
       " (u'or_design', 0.8036627769470215),\n",
       " (u'typescript', 0.8036567568778992),\n",
       " (u'3d_engine', 0.8034220933914185),\n",
       " (u'user_journey', 0.8029398918151855),\n",
       " (u'appstore', 0.8022555112838745),\n",
       " (u'restful_service', 0.8019024729728699),\n",
       " (u'php_mysql_ajax', 0.8013861179351807),\n",
       " (u'lead_developer', 0.8010302782058716),\n",
       " (u'senior_software_developer', 0.8009309768676758),\n",
       " (u'yui', 0.8007832765579224),\n",
       " (u'vs', 0.8000665903091431),\n",
       " (u'cloud_platform', 0.7998828887939453),\n",
       " (u'crawl', 0.7998439073562622),\n",
       " (u'magento_architect', 0.7995043992996216),\n",
       " (u'nosql', 0.7994401454925537),\n",
       " (u'route_53', 0.7992023229598999),\n",
       " (u'senior_software_engineer', 0.7990199327468872),\n",
       " (u'php_lead', 0.7989487648010254),\n",
       " (u'elastic_search', 0.7987798452377319),\n",
       " (u'artifactory', 0.7983718514442444),\n",
       " (u'model_view_controller', 0.797264575958252),\n",
       " (u'payment_solutions', 0.7971372008323669),\n",
       " (u'html_50', 0.7971060276031494),\n",
       " (u'microservices', 0.7967995405197144),\n",
       " (u'springmvc', 0.7963003516197205),\n",
       " (u'game_pc', 0.7958492040634155),\n",
       " (u'php5', 0.795848548412323),\n",
       " (u'riak', 0.795801043510437),\n",
       " (u'rest_web_service', 0.7955740690231323),\n",
       " (u'pyramid', 0.7955533266067505),\n",
       " (u'sde', 0.7954222559928894),\n",
       " (u'large_scale', 0.7949842214584351),\n",
       " (u'python_developer', 0.7948983907699585),\n",
       " (u'elk', 0.7947587966918945),\n",
       " (u'stream_protocol', 0.7945043444633484),\n",
       " (u'software_engineer_manager', 0.7937685251235962),\n",
       " (u'coaca', 0.7936199903488159),\n",
       " (u'scalable_distribute', 0.7933412790298462),\n",
       " (u'cq', 0.7930501699447632),\n",
       " (u'senior_web_developer', 0.7928750514984131),\n",
       " (u'software_kit', 0.7926671504974365),\n",
       " (u'sr_software_engineer', 0.7924463152885437),\n",
       " (u'mobile_ui', 0.792439341545105),\n",
       " (u'ux_design', 0.7917436957359314),\n",
       " (u'ui/ux', 0.7915641069412231),\n",
       " (u'canvas', 0.7915598154067993),\n",
       " (u'5', 0.7912713885307312),\n",
       " (u'code_ignitor', 0.7912570238113403),\n",
       " (u'objective', 0.791038990020752),\n",
       " (u'principal_software_engineer', 0.7904893159866333),\n",
       " (u'bigquery', 0.790488600730896),\n",
       " (u'react_native', 0.7904773354530334),\n",
       " (u'async', 0.7903505563735962),\n",
       " (u'codeigniter_developer', 0.7902258038520813),\n",
       " (u'adobe_aem', 0.7900496125221252),\n",
       " (u'codeignitor', 0.789922833442688),\n",
       " (u'ja', 0.7898610830307007),\n",
       " (u'springboot', 0.7897517681121826),\n",
       " (u'geodistributed', 0.7895814180374146),\n",
       " (u'micro_service', 0.7886703014373779),\n",
       " (u'html/css', 0.7885652184486389),\n",
       " (u'salesforces', 0.7884368896484375),\n",
       " (u'ext', 0.7882282733917236),\n",
       " (u'agile_software', 0.7881209850311279),\n",
       " (u'amazon_webservices', 0.7872484922409058),\n",
       " (u'scala', 0.7871466875076294),\n",
       " (u'plugin', 0.7866387367248535),\n",
       " (u'kendo_ui', 0.7865896224975586),\n",
       " (u'front_end', 0.7865813970565796),\n",
       " (u'corephp', 0.7863837480545044),\n",
       " (u'senior_developer', 0.786231517791748),\n",
       " (u'spring_frameworks', 0.7862160205841064),\n",
       " (u'open_source_technology', 0.7860170602798462),\n",
       " (u'hybrid_developer', 0.7858641147613525),\n",
       " (u'jss', 0.7857216000556946),\n",
       " (u'dell_boomi', 0.7852903604507446),\n",
       " (u'jee_engineer', 0.7851806879043579),\n",
       " (u'toolkits', 0.7851142883300781),\n",
       " (u'jasper', 0.7851141095161438),\n",
       " (u'jee_developer', 0.7849906086921692),\n",
       " (u'cloudformation', 0.7846865653991699),\n",
       " (u'or_nosql', 0.7845689058303833),\n",
       " (u'high_available', 0.7844181060791016),\n",
       " (u'drupal_developer', 0.7841536402702332),\n",
       " (u'kit', 0.783937931060791),\n",
       " (u'parse', 0.7835628986358643),\n",
       " (u'dojo', 0.7835083603858948),\n",
       " (u'kinesis', 0.7834018468856812),\n",
       " (u'aws_infrastructure', 0.7830744981765747),\n",
       " (u'solr', 0.782554030418396),\n",
       " (u'websocket', 0.7822335362434387),\n",
       " (u'css_3', 0.7821604013442993),\n",
       " (u'shopify', 0.7818537950515747),\n",
       " (u'native_ios', 0.7818351984024048),\n",
       " (u'h265', 0.7816279530525208),\n",
       " (u'software_applications', 0.7815268039703369),\n",
       " (u'plugins', 0.780738890171051),\n",
       " (u'php_5', 0.7806766033172607),\n",
       " (u'elastic', 0.7805345058441162),\n",
       " (u'aws_cloud', 0.7804417610168457),\n",
       " (u'deployments', 0.7803974151611328),\n",
       " (u'multitiered', 0.780363917350769),\n",
       " (u'j2ee_developer', 0.7802588939666748),\n",
       " (u'gedistributed', 0.7802466750144958),\n",
       " (u'quartz_composer', 0.7800343036651611),\n",
       " (u'symphony', 0.7798798680305481),\n",
       " (u'client_online', 0.7796136140823364),\n",
       " (u'graphical_user_interface', 0.7786712050437927),\n",
       " (u'frame', 0.7786129117012024),\n",
       " (u'java_engineer', 0.7785176038742065),\n",
       " (u'spock', 0.7784895300865173),\n",
       " (u'rest_service', 0.7784515023231506),\n",
       " (u'java_script', 0.7781447172164917),\n",
       " (u'memory_database', 0.7781147956848145),\n",
       " (u'cloudbase', 0.7779359817504883),\n",
       " (u'distribute_databases', 0.7778652906417847)]"
      ]
     },
     "execution_count": 85,
     "metadata": {},
     "output_type": "execute_result"
    }
   ],
   "source": [
    "musthave_dice_naruki_model_100d.similar_by_word(skill_transform('node_js'), 300)"
   ]
  },
  {
   "cell_type": "code",
   "execution_count": null,
   "metadata": {
    "collapsed": true
   },
   "outputs": [],
   "source": []
  },
  {
   "cell_type": "code",
   "execution_count": null,
   "metadata": {
    "collapsed": true
   },
   "outputs": [],
   "source": []
  },
  {
   "cell_type": "code",
   "execution_count": null,
   "metadata": {
    "collapsed": true
   },
   "outputs": [],
   "source": []
  },
  {
   "cell_type": "code",
   "execution_count": null,
   "metadata": {
    "collapsed": true
   },
   "outputs": [],
   "source": []
  },
  {
   "cell_type": "code",
   "execution_count": null,
   "metadata": {
    "collapsed": true
   },
   "outputs": [],
   "source": []
  },
  {
   "cell_type": "code",
   "execution_count": null,
   "metadata": {
    "collapsed": true
   },
   "outputs": [],
   "source": []
  },
  {
   "cell_type": "code",
   "execution_count": null,
   "metadata": {
    "collapsed": true
   },
   "outputs": [],
   "source": []
  },
  {
   "cell_type": "code",
   "execution_count": null,
   "metadata": {
    "collapsed": true
   },
   "outputs": [],
   "source": []
  },
  {
   "cell_type": "code",
   "execution_count": null,
   "metadata": {
    "collapsed": true
   },
   "outputs": [],
   "source": []
  },
  {
   "cell_type": "code",
   "execution_count": 86,
   "metadata": {},
   "outputs": [
    {
     "data": {
      "text/plain": [
       "'angular'"
      ]
     },
     "execution_count": 86,
     "metadata": {},
     "output_type": "execute_result"
    }
   ],
   "source": [
    "re.sub(r'^angular.*$', 'angular', \"angular.js\")"
   ]
  },
  {
   "cell_type": "code",
   "execution_count": null,
   "metadata": {
    "collapsed": true
   },
   "outputs": [],
   "source": []
  },
  {
   "cell_type": "code",
   "execution_count": null,
   "metadata": {
    "collapsed": true
   },
   "outputs": [],
   "source": []
  },
  {
   "cell_type": "code",
   "execution_count": null,
   "metadata": {
    "collapsed": true
   },
   "outputs": [],
   "source": []
  },
  {
   "cell_type": "code",
   "execution_count": null,
   "metadata": {
    "collapsed": true
   },
   "outputs": [],
   "source": []
  },
  {
   "cell_type": "code",
   "execution_count": null,
   "metadata": {
    "collapsed": true
   },
   "outputs": [],
   "source": []
  },
  {
   "cell_type": "code",
   "execution_count": null,
   "metadata": {
    "collapsed": true
   },
   "outputs": [],
   "source": []
  }
 ],
 "metadata": {
  "kernelspec": {
   "display_name": "Python 3 (ipykernel)",
   "language": "python",
   "name": "python3"
  },
  "language_info": {
   "codemirror_mode": {
    "name": "ipython",
    "version": 3
   },
   "file_extension": ".py",
   "mimetype": "text/x-python",
   "name": "python",
   "nbconvert_exporter": "python",
   "pygments_lexer": "ipython3",
   "version": "3.8.11"
  }
 },
 "nbformat": 4,
 "nbformat_minor": 2
}
