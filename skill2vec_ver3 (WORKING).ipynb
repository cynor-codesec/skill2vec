{
 "cells": [
  {
   "cell_type": "code",
   "execution_count": 1,
   "metadata": {},
   "outputs": [],
   "source": [
    "import pandas as pd\n",
    "import numpy as np\n",
    "# import cPickle \n",
    "import _pickle as cPickle\n",
    "from nltk.corpus import stopwords\n",
    "from gensim.models import word2vec\n",
    "import nltk.data\n",
    "import re\n",
    "import logging\n",
    "from nltk.stem.snowball import *\n",
    "import itertools\n",
    "\n",
    "# Python 2.x:\n",
    "# import HTMLParser\n",
    "# html_parser = HTMLParser.HTMLParser()\n",
    "import html.parser as html_parser\n",
    "\n",
    "import multiprocessing\n",
    "logging.basicConfig(format='%(asctime)s : %(levelname)s : %(message)s', level=logging.INFO)   \n",
    "\n",
    "from nltk.stem import WordNetLemmatizer, PorterStemmer\n",
    "wordnet_lemmatizer = WordNetLemmatizer()\n",
    "porter = PorterStemmer()"
   ]
  },
  {
   "cell_type": "code",
   "execution_count": 2,
   "metadata": {},
   "outputs": [],
   "source": [
    "TEST_CASE = {}"
   ]
  },
  {
   "cell_type": "code",
   "execution_count": null,
   "metadata": {},
   "outputs": [],
   "source": []
  },
  {
   "cell_type": "code",
   "execution_count": 3,
   "metadata": {},
   "outputs": [
    {
     "name": "stderr",
     "output_type": "stream",
     "text": [
      "[nltk_data] Downloading package wordnet to\n",
      "[nltk_data]     /Users/bharath/sourcecode/cynor/skill2vec/nltk_data/..\n",
      "[nltk_data]     .\n",
      "[nltk_data]   Package wordnet is already up-to-date!\n"
     ]
    },
    {
     "data": {
      "text/plain": [
       "'angular'"
      ]
     },
     "execution_count": 3,
     "metadata": {},
     "output_type": "execute_result"
    }
   ],
   "source": [
    "import re\n",
    "# import HTMLParser\n",
    "# html_parser = HTMLParser.HTMLParser()\n",
    "\n",
    "import html.parser as html_parser\n",
    "\n",
    "from nltk.stem import WordNetLemmatizer, PorterStemmer\n",
    "wordnet_lemmatizer = WordNetLemmatizer()\n",
    "porter = PorterStemmer()\n",
    "\n",
    "nltk.download(\"wordnet\", \"/Users/bharath/sourcecode/cynor/skill2vec/nltk_data/\")\n",
    "nltk.data.path.append('./nltk_data/')\n",
    "\n",
    "\n",
    "import sys\n",
    "if sys.version_info[0] >= 3:\n",
    "    unicode = str\n",
    "\n",
    "def skill_transform(skill, remove_stopwords = True):\n",
    "    skill = unicode(skill)\n",
    "    skill = html_parser.unescape(skill)\n",
    "    \n",
    "    skill = skill.replace(\"_\", \" \").split()\n",
    "    skill = \" \".join([sk for sk in skill if sk])\n",
    "    \n",
    "    skill = re.sub(r\"\\(.*\\)\", \"\", skill)\n",
    "    skill = skill.replace(\"-\", \"\") \\\n",
    "        .replace(\".\", \"\") \\\n",
    "        .replace(\",\", \"\") \\\n",
    "        .replace(\"-\", \"\") \\\n",
    "        .replace(\":\", \"\") \\\n",
    "        .replace(\"(\", \"\") \\\n",
    "        .replace(\")\", \"\") \\\n",
    "        .replace(u\"åá\", \"\") \\\n",
    "        .replace(u\"&\", \"and\") \\\n",
    "        .replace(\" js\", \"js\") \\\n",
    "        .replace(\"-js\", \"js\") \\\n",
    "        .replace(\"_js\", \"js\") \\\n",
    "        .replace(\"java script\", \"js\") \n",
    "    \n",
    "    skill = skill.lower()\n",
    "    \n",
    "    # Special cases replace\n",
    "    special_case = {}\n",
    "    special_case[\"javascript\"] = [ \"js\", \"java script\", \"javascripts\", \"java scrip\" ]\n",
    "    special_case[\"wireframe\"] = [ \"wireframes\", \"wire frame\", \"wire frames\", \"wire-frame\", \"wirefram\", \"wire fram\", \"wireframing\" ]\n",
    "    special_case[\"OOP\"] = [  \"object oriented\", \"object oriented programming\", ]\n",
    "    special_case[\"OOD\"] = [ \"object oriented design\", ]\n",
    "    special_case[\"OLAP\"] = [ \"online analytical processing\",  ]\n",
    "    special_case[\"Ecommerce\"] = [ \"e commerce\",  ]\n",
    "    special_case[\"consultant\"] = [ \"consulting\",  ]\n",
    "    special_case[\"ux\"] = [ \"user experience\", \"web user experience design\", \"user experience design\", \"ux designer\", \"user experience/ux\" ]\n",
    "    special_case[\"html5\"] = [ \"html 5\",  ]\n",
    "    special_case[\"j2ee\"] = [ \"jee\",  ]\n",
    "    special_case[\"osx\"] = [ \"mac os x\", \"os x\" ]\n",
    "    special_case[\"senior\"] = [ \"sr\" ]\n",
    "    special_case[\"qa\"] = [ \"quality\",  ]\n",
    "    special_case[\"bigdata\"] = [ \"big data\",  ]\n",
    "    special_case[\"webservice\"] = [ \"webservices\", \"website\", \"webapps\" ]\n",
    "    special_case[\"xml\"] = [ \"xml file\", \"xml schemas\", \"xml/json\", \"xml web service\" ]\n",
    "    special_case[\"bigdata\"] = [ \"big data\",  ]\n",
    "    special_case[\"nlp\"] = [ \"natural language process\", \"natural language\", \"nltk\" ]\n",
    "    special_case[\"aws\"] = [ \"amazon web service\", ]\n",
    "    \n",
    "    for root_skill in special_case:\n",
    "        if skill in special_case[root_skill]:\n",
    "            skill = root_skill\n",
    "    \n",
    "    # Special case regex\n",
    "    special_case_regex = {\n",
    "        r'^angular.*$': 'angularjs',\n",
    "        r'^node.*$': 'nodejs',\n",
    "        r'^(.*)[_\\s]js$': '\\\\1js',\n",
    "        r'^(.*) js$': '\\\\1js',\n",
    "        r'^(.*) (and|or).*$': '\\\\1',\n",
    "    }\n",
    "    for regex_rule in special_case_regex:\n",
    "        after_skill = re.sub(regex_rule, special_case_regex[regex_rule], skill)\n",
    "        if after_skill != skill:\n",
    "            skill = after_skill\n",
    "            break\n",
    "    \n",
    "    # Stem\n",
    "    if len(skill) > 2:\n",
    "        skill_after = skill.split(\" \")\n",
    "        skill_after = [wordnet_lemmatizer.lemmatize(sk, pos=\"v\") for sk in skill_after]\n",
    "        skill_after = \" \".join(skill_after)\n",
    "        skill = skill_after\n",
    "    \n",
    "    # skill stopwords \n",
    "    if remove_stopwords:\n",
    "        skill_stopwords = [ \"app\", \"touch\", \"the\", \"application\", \"programming\", \"program\", \"design\"\n",
    "                           \"developer\", \"framework\", \"development\", \"programmer\", \"technologies\",\n",
    "                          \"advance\", \"core\"]\n",
    "        skill_after = skill.split(\" \")\n",
    "        skill = \" \".join([ sk for sk in skill_after if sk not in skill_stopwords ])\n",
    "    \n",
    "    skill = skill.lower().strip().replace(\" \", \"_\")\n",
    "    skill = re.sub(' +',' ', skill)\n",
    "    \n",
    "    # NOTE: replace js tail\n",
    "    skill = re.sub('js$','', skill)\n",
    "    \n",
    "    return skill\n",
    "\n",
    "skill_transform(\"js\")\n",
    "skill_transform(\"angularjs\")"
   ]
  },
  {
   "cell_type": "code",
   "execution_count": 4,
   "metadata": {},
   "outputs": [
    {
     "data": {
      "text/plain": [
       "'html5_and_css3'"
      ]
     },
     "execution_count": 4,
     "metadata": {},
     "output_type": "execute_result"
    }
   ],
   "source": [
    "skill_transform(\"html5_and_css3_or_html6\")"
   ]
  },
  {
   "cell_type": "code",
   "execution_count": 5,
   "metadata": {},
   "outputs": [],
   "source": [
    "def test_case(model, model_name):\n",
    "    cases = [ \"machine learning\", \"js\", \"javascript\", \"python\", \"html\", \"html5\", \"css\", \"angular\", \"nodejs\" ]\n",
    "    TEST_CASE[model_name] = []\n",
    "    for case in cases:\n",
    "        try:\n",
    "            TEST_CASE[model_name].append(model.similar_by_word(skill_transform(case)))\n",
    "        except:\n",
    "            pass"
   ]
  },
  {
   "cell_type": "code",
   "execution_count": 6,
   "metadata": {},
   "outputs": [
    {
     "name": "stdout",
     "output_type": "stream",
     "text": [
      "Before: 14751\n",
      "After: 11689\n",
      "Resize: 79.24208528235374%\n"
     ]
    }
   ],
   "source": [
    "# data_must_have = pd.read_csv('mustHaveSkills-2.csv', header = 0, encoding='ISO-8859-1')\n",
    "data_must_have = pd.read_csv('formatted_skill2vec.csv', header = 0, encoding='ISO-8859-1', low_memory=False)\n",
    "data_must_have.drop_duplicates(inplace=True, keep='last')\n",
    "data_must_have = data_must_have[data_must_have[\"job_title\"] != 0]\n",
    "del data_must_have[\"job_brief_id\"]\n",
    "# data_must_have['Count'] = data_must_have.groupby('job_title')['keyword_name'].transform(pd.Series.value_counts)\n",
    "data_must_have.drop_duplicates(inplace=True)\n",
    "\n",
    "unique_skill_before = len(data_must_have['keyword_name'].unique())\n",
    "print(\"Before: %s\" % unique_skill_before)\n",
    "\n",
    "data_must_have['skill'] = data_must_have['keyword_name'].apply(skill_transform)\n",
    "\n",
    "unique_skill_after = len(data_must_have['skill'].unique())\n",
    "print(\"After: %s\" % unique_skill_after)\n",
    "\n",
    "print(\"Resize: %s%%\" % (unique_skill_after * 100.0 / unique_skill_before))\n",
    "\n",
    "# data_must_have['keyword_name'] = data_must_have['keyword_name'].str.replace(' ' ,'_')\n",
    "# data_must_have"
   ]
  },
  {
   "cell_type": "code",
   "execution_count": 7,
   "metadata": {},
   "outputs": [
    {
     "name": "stderr",
     "output_type": "stream",
     "text": [
      "2021-10-01 18:21:27,260 : INFO : collecting all words and their counts\n",
      "2021-10-01 18:21:27,261 : INFO : PROGRESS: at sentence #0, processed 0 words, keeping 0 word types\n",
      "2021-10-01 18:21:27,284 : INFO : PROGRESS: at sentence #10000, processed 45162 words, keeping 7318 word types\n",
      "2021-10-01 18:21:27,309 : INFO : PROGRESS: at sentence #20000, processed 85922 words, keeping 8578 word types\n",
      "2021-10-01 18:21:27,347 : INFO : PROGRESS: at sentence #30000, processed 138093 words, keeping 10172 word types\n",
      "2021-10-01 18:21:27,376 : INFO : PROGRESS: at sentence #40000, processed 188572 words, keeping 11283 word types\n",
      "2021-10-01 18:21:27,403 : INFO : PROGRESS: at sentence #50000, processed 236926 words, keeping 11516 word types\n",
      "2021-10-01 18:21:27,432 : INFO : PROGRESS: at sentence #60000, processed 287438 words, keeping 11660 word types\n",
      "2021-10-01 18:21:27,441 : INFO : collected 11689 word types from a corpus of 303247 raw words and 63130 sentences\n",
      "2021-10-01 18:21:27,442 : INFO : Creating a fresh vocabulary\n"
     ]
    },
    {
     "name": "stdout",
     "output_type": "stream",
     "text": [
      "Training model...\n"
     ]
    },
    {
     "name": "stderr",
     "output_type": "stream",
     "text": [
      "2021-10-01 18:21:27,545 : INFO : Word2Vec lifecycle event {'msg': 'effective_min_count=1 retains 11689 unique words (100.0%% of original 11689, drops 0)', 'datetime': '2021-10-01T18:21:27.516420', 'gensim': '4.1.2', 'python': '3.8.11 (default, Aug  6 2021, 08:56:27) \\n[Clang 10.0.0 ]', 'platform': 'macOS-10.16-x86_64-i386-64bit', 'event': 'prepare_vocab'}\n",
      "2021-10-01 18:21:27,550 : INFO : Word2Vec lifecycle event {'msg': 'effective_min_count=1 leaves 303247 word corpus (100.0%% of original 303247, drops 0)', 'datetime': '2021-10-01T18:21:27.549973', 'gensim': '4.1.2', 'python': '3.8.11 (default, Aug  6 2021, 08:56:27) \\n[Clang 10.0.0 ]', 'platform': 'macOS-10.16-x86_64-i386-64bit', 'event': 'prepare_vocab'}\n",
      "2021-10-01 18:21:27,658 : INFO : deleting the raw counts dictionary of 11689 items\n",
      "2021-10-01 18:21:27,660 : INFO : sample=0.001 downsamples 16 most-common words\n",
      "2021-10-01 18:21:27,661 : INFO : Word2Vec lifecycle event {'msg': 'downsampling leaves estimated 297638.3987205968 word corpus (98.2%% of prior 303247)', 'datetime': '2021-10-01T18:21:27.661168', 'gensim': '4.1.2', 'python': '3.8.11 (default, Aug  6 2021, 08:56:27) \\n[Clang 10.0.0 ]', 'platform': 'macOS-10.16-x86_64-i386-64bit', 'event': 'prepare_vocab'}\n",
      "2021-10-01 18:21:27,831 : INFO : estimated required memory for 11689 words and 100 dimensions: 15195700 bytes\n",
      "2021-10-01 18:21:27,832 : INFO : resetting layer weights\n",
      "2021-10-01 18:21:27,845 : INFO : Word2Vec lifecycle event {'update': False, 'trim_rule': 'None', 'datetime': '2021-10-01T18:21:27.845237', 'gensim': '4.1.2', 'python': '3.8.11 (default, Aug  6 2021, 08:56:27) \\n[Clang 10.0.0 ]', 'platform': 'macOS-10.16-x86_64-i386-64bit', 'event': 'build_vocab'}\n",
      "2021-10-01 18:21:27,846 : INFO : Word2Vec lifecycle event {'msg': 'training model with 4 workers on 11689 vocabulary and 100 features, using sg=1 hs=0 sample=0.001 negative=5 window=10 shrink_windows=True', 'datetime': '2021-10-01T18:21:27.846264', 'gensim': '4.1.2', 'python': '3.8.11 (default, Aug  6 2021, 08:56:27) \\n[Clang 10.0.0 ]', 'platform': 'macOS-10.16-x86_64-i386-64bit', 'event': 'train'}\n",
      "2021-10-01 18:21:28,894 : INFO : EPOCH 1 - PROGRESS: at 86.20% examples, 248319 words/s, in_qsize 5, out_qsize 0\n",
      "2021-10-01 18:21:28,932 : INFO : worker thread finished; awaiting finish of 3 more threads\n",
      "2021-10-01 18:21:29,004 : INFO : worker thread finished; awaiting finish of 2 more threads\n",
      "2021-10-01 18:21:29,024 : INFO : worker thread finished; awaiting finish of 1 more threads\n",
      "2021-10-01 18:21:29,073 : INFO : worker thread finished; awaiting finish of 0 more threads\n",
      "2021-10-01 18:21:29,074 : INFO : EPOCH - 1 : training on 303247 raw words (297734 effective words) took 1.2s, 247248 effective words/s\n",
      "2021-10-01 18:21:30,134 : INFO : EPOCH 2 - PROGRESS: at 86.20% examples, 243043 words/s, in_qsize 5, out_qsize 0\n",
      "2021-10-01 18:21:30,185 : INFO : worker thread finished; awaiting finish of 3 more threads\n",
      "2021-10-01 18:21:30,231 : INFO : worker thread finished; awaiting finish of 2 more threads\n",
      "2021-10-01 18:21:30,237 : INFO : worker thread finished; awaiting finish of 1 more threads\n",
      "2021-10-01 18:21:30,276 : INFO : worker thread finished; awaiting finish of 0 more threads\n",
      "2021-10-01 18:21:30,277 : INFO : EPOCH - 2 : training on 303247 raw words (297657 effective words) took 1.2s, 250158 effective words/s\n",
      "2021-10-01 18:21:31,332 : INFO : EPOCH 3 - PROGRESS: at 86.14% examples, 246783 words/s, in_qsize 5, out_qsize 0\n",
      "2021-10-01 18:21:31,338 : INFO : worker thread finished; awaiting finish of 3 more threads\n",
      "2021-10-01 18:21:31,400 : INFO : worker thread finished; awaiting finish of 2 more threads\n",
      "2021-10-01 18:21:31,404 : INFO : worker thread finished; awaiting finish of 1 more threads\n",
      "2021-10-01 18:21:31,477 : INFO : worker thread finished; awaiting finish of 0 more threads\n",
      "2021-10-01 18:21:31,478 : INFO : EPOCH - 3 : training on 303247 raw words (297664 effective words) took 1.2s, 252867 effective words/s\n",
      "2021-10-01 18:21:32,489 : INFO : EPOCH 4 - PROGRESS: at 86.20% examples, 253912 words/s, in_qsize 5, out_qsize 0\n",
      "2021-10-01 18:21:32,554 : INFO : worker thread finished; awaiting finish of 3 more threads\n",
      "2021-10-01 18:21:32,607 : INFO : worker thread finished; awaiting finish of 2 more threads\n",
      "2021-10-01 18:21:32,625 : INFO : worker thread finished; awaiting finish of 1 more threads\n",
      "2021-10-01 18:21:32,639 : INFO : worker thread finished; awaiting finish of 0 more threads\n",
      "2021-10-01 18:21:32,640 : INFO : EPOCH - 4 : training on 303247 raw words (297579 effective words) took 1.2s, 258102 effective words/s\n",
      "2021-10-01 18:21:33,684 : INFO : EPOCH 5 - PROGRESS: at 83.17% examples, 236923 words/s, in_qsize 6, out_qsize 0\n",
      "2021-10-01 18:21:33,793 : INFO : worker thread finished; awaiting finish of 3 more threads\n",
      "2021-10-01 18:21:33,850 : INFO : worker thread finished; awaiting finish of 2 more threads\n",
      "2021-10-01 18:21:33,856 : INFO : worker thread finished; awaiting finish of 1 more threads\n",
      "2021-10-01 18:21:33,904 : INFO : worker thread finished; awaiting finish of 0 more threads\n",
      "2021-10-01 18:21:33,905 : INFO : EPOCH - 5 : training on 303247 raw words (297584 effective words) took 1.3s, 237508 effective words/s\n",
      "2021-10-01 18:21:33,907 : INFO : Word2Vec lifecycle event {'msg': 'training on 1516235 raw words (1488218 effective words) took 6.1s, 245598 effective words/s', 'datetime': '2021-10-01T18:21:33.906970', 'gensim': '4.1.2', 'python': '3.8.11 (default, Aug  6 2021, 08:56:27) \\n[Clang 10.0.0 ]', 'platform': 'macOS-10.16-x86_64-i386-64bit', 'event': 'train'}\n",
      "2021-10-01 18:21:33,910 : INFO : Word2Vec lifecycle event {'params': 'Word2Vec(vocab=11689, vector_size=100, alpha=0.025)', 'datetime': '2021-10-01T18:21:33.910480', 'gensim': '4.1.2', 'python': '3.8.11 (default, Aug  6 2021, 08:56:27) \\n[Clang 10.0.0 ]', 'platform': 'macOS-10.16-x86_64-i386-64bit', 'event': 'created'}\n",
      "/tmp/ipykernel_11421/3270624564.py:16: DeprecationWarning: Call to deprecated `init_sims` (Gensim 4.0.0 implemented internal optimizations that make calls to init_sims() unnecessary. init_sims() is now obsoleted and will be completely removed in future versions. See https://github.com/RaRe-Technologies/gensim/wiki/Migrating-from-Gensim-3.x-to-4).\n",
      "  musthave_model.init_sims(replace=True)\n",
      "2021-10-01 18:21:33,925 : WARNING : destructive init_sims(replace=True) deprecated & no longer required for space-efficiency\n"
     ]
    }
   ],
   "source": [
    "# pd.set_option('display.max_rows', 1500)\n",
    "# data_must_have.drop_duplicates(subset=[\"keyword_name\", \"skill\"])[[\"keyword_name\", \"skill\"]].sort_values(\"skill\")[3000:]\n",
    "musthave_data = data_must_have.groupby('job_title')['skill'].apply(list).tolist()\n",
    "\n",
    "print (\"Training model...\")\n",
    "musthave_model = word2vec.Word2Vec(musthave_data, \n",
    "          workers=multiprocessing.cpu_count(),  # Number of threads to run in parallel\n",
    "#           size=300, \n",
    "          min_count=1, \n",
    "          window=10, \n",
    "          sample = 1e-3,  # Downsample setting for frequent words\n",
    "#           iter=4,\n",
    "          sg =1\n",
    "    )\n",
    "\n",
    "musthave_model.init_sims(replace=True)\n",
    "test_case(musthave_model, \"musthave_model\")"
   ]
  },
  {
   "cell_type": "code",
   "execution_count": null,
   "metadata": {},
   "outputs": [],
   "source": []
  },
  {
   "cell_type": "code",
   "execution_count": 8,
   "metadata": {},
   "outputs": [
    {
     "name": "stderr",
     "output_type": "stream",
     "text": [
      "2021-10-01 18:21:41,740 : INFO : collecting all words and their counts\n",
      "2021-10-01 18:21:41,740 : INFO : PROGRESS: at sentence #0, processed 0 words, keeping 0 word types\n",
      "2021-10-01 18:21:41,828 : INFO : PROGRESS: at sentence #10000, processed 194489 words, keeping 10821 word types\n",
      "2021-10-01 18:21:41,848 : INFO : PROGRESS: at sentence #20000, processed 236575 words, keeping 13977 word types\n",
      "2021-10-01 18:21:41,875 : INFO : PROGRESS: at sentence #30000, processed 281633 words, keeping 15034 word types\n",
      "2021-10-01 18:21:41,906 : INFO : PROGRESS: at sentence #40000, processed 331565 words, keeping 15898 word types\n",
      "2021-10-01 18:21:41,937 : INFO : PROGRESS: at sentence #50000, processed 377817 words, keeping 16267 word types\n"
     ]
    },
    {
     "name": "stdout",
     "output_type": "stream",
     "text": [
      "70276\n",
      "Training model...\n"
     ]
    },
    {
     "name": "stderr",
     "output_type": "stream",
     "text": [
      "2021-10-01 18:21:41,967 : INFO : PROGRESS: at sentence #60000, processed 426682 words, keeping 16427 word types\n",
      "2021-10-01 18:21:42,001 : INFO : PROGRESS: at sentence #70000, processed 475353 words, keeping 16525 word types\n",
      "2021-10-01 18:21:42,004 : INFO : collected 16525 word types from a corpus of 476908 raw words and 70276 sentences\n",
      "2021-10-01 18:21:42,006 : INFO : Creating a fresh vocabulary\n",
      "2021-10-01 18:21:42,094 : INFO : Word2Vec lifecycle event {'msg': 'effective_min_count=1 retains 16525 unique words (100.0%% of original 16525, drops 0)', 'datetime': '2021-10-01T18:21:42.094375', 'gensim': '4.1.2', 'python': '3.8.11 (default, Aug  6 2021, 08:56:27) \\n[Clang 10.0.0 ]', 'platform': 'macOS-10.16-x86_64-i386-64bit', 'event': 'prepare_vocab'}\n",
      "2021-10-01 18:21:42,095 : INFO : Word2Vec lifecycle event {'msg': 'effective_min_count=1 leaves 476908 word corpus (100.0%% of original 476908, drops 0)', 'datetime': '2021-10-01T18:21:42.095322', 'gensim': '4.1.2', 'python': '3.8.11 (default, Aug  6 2021, 08:56:27) \\n[Clang 10.0.0 ]', 'platform': 'macOS-10.16-x86_64-i386-64bit', 'event': 'prepare_vocab'}\n",
      "2021-10-01 18:21:42,271 : INFO : deleting the raw counts dictionary of 16525 items\n",
      "2021-10-01 18:21:42,272 : INFO : sample=0.001 downsamples 4 most-common words\n",
      "2021-10-01 18:21:42,273 : INFO : Word2Vec lifecycle event {'msg': 'downsampling leaves estimated 475369.1302386311 word corpus (99.7%% of prior 476908)', 'datetime': '2021-10-01T18:21:42.273681', 'gensim': '4.1.2', 'python': '3.8.11 (default, Aug  6 2021, 08:56:27) \\n[Clang 10.0.0 ]', 'platform': 'macOS-10.16-x86_64-i386-64bit', 'event': 'prepare_vocab'}\n",
      "2021-10-01 18:21:42,494 : INFO : estimated required memory for 16525 words and 100 dimensions: 21482500 bytes\n",
      "2021-10-01 18:21:42,495 : INFO : resetting layer weights\n",
      "2021-10-01 18:21:42,510 : INFO : Word2Vec lifecycle event {'update': False, 'trim_rule': 'None', 'datetime': '2021-10-01T18:21:42.510773', 'gensim': '4.1.2', 'python': '3.8.11 (default, Aug  6 2021, 08:56:27) \\n[Clang 10.0.0 ]', 'platform': 'macOS-10.16-x86_64-i386-64bit', 'event': 'build_vocab'}\n",
      "2021-10-01 18:21:42,511 : INFO : Word2Vec lifecycle event {'msg': 'training model with 4 workers on 16525 vocabulary and 100 features, using sg=1 hs=0 sample=0.001 negative=5 window=10 shrink_windows=True', 'datetime': '2021-10-01T18:21:42.511702', 'gensim': '4.1.2', 'python': '3.8.11 (default, Aug  6 2021, 08:56:27) \\n[Clang 10.0.0 ]', 'platform': 'macOS-10.16-x86_64-i386-64bit', 'event': 'train'}\n",
      "2021-10-01 18:21:43,673 : INFO : EPOCH 1 - PROGRESS: at 9.41% examples, 147114 words/s, in_qsize 7, out_qsize 0\n",
      "2021-10-01 18:21:44,840 : INFO : EPOCH 1 - PROGRESS: at 80.53% examples, 175885 words/s, in_qsize 6, out_qsize 1\n",
      "2021-10-01 18:21:45,018 : INFO : worker thread finished; awaiting finish of 3 more threads\n",
      "2021-10-01 18:21:45,024 : INFO : worker thread finished; awaiting finish of 2 more threads\n",
      "2021-10-01 18:21:45,042 : INFO : worker thread finished; awaiting finish of 1 more threads\n",
      "2021-10-01 18:21:45,067 : INFO : worker thread finished; awaiting finish of 0 more threads\n",
      "2021-10-01 18:21:45,068 : INFO : EPOCH - 1 : training on 476908 raw words (475347 effective words) took 2.5s, 186552 effective words/s\n",
      "2021-10-01 18:21:46,243 : INFO : EPOCH 2 - PROGRESS: at 7.16% examples, 112343 words/s, in_qsize 7, out_qsize 0\n",
      "2021-10-01 18:21:47,289 : INFO : EPOCH 2 - PROGRESS: at 56.39% examples, 149409 words/s, in_qsize 7, out_qsize 0\n",
      "2021-10-01 18:21:47,867 : INFO : worker thread finished; awaiting finish of 3 more threads\n",
      "2021-10-01 18:21:47,883 : INFO : worker thread finished; awaiting finish of 2 more threads\n",
      "2021-10-01 18:21:47,908 : INFO : worker thread finished; awaiting finish of 1 more threads\n",
      "2021-10-01 18:21:47,913 : INFO : worker thread finished; awaiting finish of 0 more threads\n",
      "2021-10-01 18:21:47,914 : INFO : EPOCH - 2 : training on 476908 raw words (475365 effective words) took 2.8s, 168201 effective words/s\n",
      "2021-10-01 18:21:49,083 : INFO : EPOCH 3 - PROGRESS: at 7.14% examples, 112003 words/s, in_qsize 7, out_qsize 0\n",
      "2021-10-01 18:21:50,141 : INFO : EPOCH 3 - PROGRESS: at 56.39% examples, 148316 words/s, in_qsize 7, out_qsize 0\n",
      "2021-10-01 18:21:50,708 : INFO : worker thread finished; awaiting finish of 3 more threads\n",
      "2021-10-01 18:21:50,715 : INFO : worker thread finished; awaiting finish of 2 more threads\n",
      "2021-10-01 18:21:50,750 : INFO : worker thread finished; awaiting finish of 1 more threads\n",
      "2021-10-01 18:21:50,754 : INFO : worker thread finished; awaiting finish of 0 more threads\n",
      "2021-10-01 18:21:50,756 : INFO : EPOCH - 3 : training on 476908 raw words (475355 effective words) took 2.8s, 167884 effective words/s\n",
      "2021-10-01 18:21:51,785 : INFO : EPOCH 4 - PROGRESS: at 7.67% examples, 137911 words/s, in_qsize 8, out_qsize 2\n",
      "2021-10-01 18:21:52,867 : INFO : EPOCH 4 - PROGRESS: at 80.13% examples, 194781 words/s, in_qsize 7, out_qsize 0\n",
      "2021-10-01 18:21:53,005 : INFO : worker thread finished; awaiting finish of 3 more threads\n",
      "2021-10-01 18:21:53,035 : INFO : worker thread finished; awaiting finish of 2 more threads\n",
      "2021-10-01 18:21:53,054 : INFO : worker thread finished; awaiting finish of 1 more threads\n",
      "2021-10-01 18:21:53,064 : INFO : worker thread finished; awaiting finish of 0 more threads\n",
      "2021-10-01 18:21:53,065 : INFO : EPOCH - 4 : training on 476908 raw words (475412 effective words) took 2.3s, 207376 effective words/s\n",
      "2021-10-01 18:21:54,111 : INFO : EPOCH 5 - PROGRESS: at 9.30% examples, 163623 words/s, in_qsize 7, out_qsize 0\n",
      "2021-10-01 18:21:55,208 : INFO : EPOCH 5 - PROGRESS: at 80.13% examples, 191237 words/s, in_qsize 6, out_qsize 1\n",
      "2021-10-01 18:21:55,402 : INFO : worker thread finished; awaiting finish of 3 more threads\n",
      "2021-10-01 18:21:55,408 : INFO : worker thread finished; awaiting finish of 2 more threads\n",
      "2021-10-01 18:21:55,451 : INFO : worker thread finished; awaiting finish of 1 more threads\n",
      "2021-10-01 18:21:55,470 : INFO : worker thread finished; awaiting finish of 0 more threads\n",
      "2021-10-01 18:21:55,472 : INFO : EPOCH - 5 : training on 476908 raw words (475291 effective words) took 2.4s, 198223 effective words/s\n",
      "2021-10-01 18:21:55,473 : INFO : Word2Vec lifecycle event {'msg': 'training on 2384540 raw words (2376770 effective words) took 13.0s, 183388 effective words/s', 'datetime': '2021-10-01T18:21:55.473090', 'gensim': '4.1.2', 'python': '3.8.11 (default, Aug  6 2021, 08:56:27) \\n[Clang 10.0.0 ]', 'platform': 'macOS-10.16-x86_64-i386-64bit', 'event': 'train'}\n",
      "2021-10-01 18:21:55,475 : INFO : Word2Vec lifecycle event {'params': 'Word2Vec(vocab=16525, vector_size=100, alpha=0.025)', 'datetime': '2021-10-01T18:21:55.475266', 'gensim': '4.1.2', 'python': '3.8.11 (default, Aug  6 2021, 08:56:27) \\n[Clang 10.0.0 ]', 'platform': 'macOS-10.16-x86_64-i386-64bit', 'event': 'created'}\n",
      "/tmp/ipykernel_11421/1985411093.py:23: DeprecationWarning: Call to deprecated `init_sims` (Gensim 4.0.0 implemented internal optimizations that make calls to init_sims() unnecessary. init_sims() is now obsoleted and will be completely removed in future versions. See https://github.com/RaRe-Technologies/gensim/wiki/Migrating-from-Gensim-3.x-to-4).\n",
      "  musthave_dice_model.init_sims(replace=True)\n",
      "2021-10-01 18:21:55,487 : WARNING : destructive init_sims(replace=True) deprecated & no longer required for space-efficiency\n"
     ]
    }
   ],
   "source": [
    "with open(\"prep_data_tokens_underscore_1\", \"rb\") as g:\n",
    "    data_dice = cPickle.load(g)\n",
    "dice_data = [ [ skill_transform(d.replace(\"_\", \" \")) for d in dice if d is not None ] for dice in data_dice if dice is not None ]\n",
    "\n",
    "\n",
    "musthave_dice_data = dice_data + musthave_data\n",
    "musthave_dice_data = [ list(set([ d for d in data if d is not None and len(d) > 0 ])) for data in musthave_dice_data  ]\n",
    "\n",
    "print(len(musthave_dice_data))\n",
    "musthave_dice_data\n",
    "\n",
    "print (\"Training model...\")\n",
    "musthave_dice_model = word2vec.Word2Vec(musthave_dice_data, \n",
    "          workers=multiprocessing.cpu_count(),  # Number of threads to run in parallel\n",
    "#           size=300, \n",
    "          min_count=1, \n",
    "          window=10, \n",
    "          sample = 1e-3,  # Downsample setting for frequent words\n",
    "#           iter=4,\n",
    "          sg =1\n",
    "    )\n",
    "\n",
    "musthave_dice_model.init_sims(replace=True)\n",
    "test_case(musthave_dice_model, \"musthave_dice_model\")"
   ]
  },
  {
   "cell_type": "code",
   "execution_count": null,
   "metadata": {},
   "outputs": [],
   "source": []
  },
  {
   "cell_type": "code",
   "execution_count": 9,
   "metadata": {},
   "outputs": [],
   "source": [
    "# model.similar_by_word(skill_transform('machine learning'))"
   ]
  },
  {
   "cell_type": "code",
   "execution_count": 10,
   "metadata": {},
   "outputs": [],
   "source": [
    "# model.similar_by_word('python')"
   ]
  },
  {
   "cell_type": "code",
   "execution_count": null,
   "metadata": {},
   "outputs": [],
   "source": []
  },
  {
   "cell_type": "code",
   "execution_count": null,
   "metadata": {},
   "outputs": [],
   "source": []
  },
  {
   "cell_type": "code",
   "execution_count": 11,
   "metadata": {},
   "outputs": [
    {
     "name": "stdout",
     "output_type": "stream",
     "text": [
      "120107\n"
     ]
    },
    {
     "data": {
      "text/plain": [
       "168141"
      ]
     },
     "execution_count": 11,
     "metadata": {},
     "output_type": "execute_result"
    }
   ],
   "source": [
    "musthave_dice_naruki_data = musthave_dice_data\n",
    "data_naruki = pd.read_csv('naukri_skill_full', header = 0, encoding='ISO-8859-1')\n",
    "data_naruki.drop_duplicates(subset=['id', 'skill'], keep='last')\n",
    "\n",
    "data_naruki['skill'] = data_naruki['skill'].apply(skill_transform)\n",
    "data_naruki_final = data_naruki.groupby('id')['skill'].apply(list)\n",
    "print(len(data_naruki_final))\n",
    "\n",
    "for skills in data_naruki_final:\n",
    "    if len(skills) > 2 and skills not in musthave_dice_naruki_data:\n",
    "        musthave_dice_naruki_data.append(skills)\n",
    "        \n",
    "len(musthave_dice_naruki_data)"
   ]
  },
  {
   "cell_type": "code",
   "execution_count": 12,
   "metadata": {},
   "outputs": [],
   "source": [
    "# import cPickle as pickle\n",
    "import _pickle as pickle\n",
    "\n",
    "pickle.dump( musthave_dice_naruki_data, open( \"cynor_model.p\", \"wb\" ) )"
   ]
  },
  {
   "cell_type": "code",
   "execution_count": 13,
   "metadata": {},
   "outputs": [
    {
     "name": "stderr",
     "output_type": "stream",
     "text": [
      "2021-10-01 18:27:57,615 : INFO : collecting all words and their counts\n",
      "2021-10-01 18:27:57,617 : INFO : PROGRESS: at sentence #0, processed 0 words, keeping 0 word types\n",
      "2021-10-01 18:27:57,696 : INFO : PROGRESS: at sentence #10000, processed 194489 words, keeping 10821 word types\n",
      "2021-10-01 18:27:57,716 : INFO : PROGRESS: at sentence #20000, processed 236575 words, keeping 13977 word types\n",
      "2021-10-01 18:27:57,742 : INFO : PROGRESS: at sentence #30000, processed 281633 words, keeping 15034 word types\n",
      "2021-10-01 18:27:57,774 : INFO : PROGRESS: at sentence #40000, processed 331565 words, keeping 15898 word types\n",
      "2021-10-01 18:27:57,804 : INFO : PROGRESS: at sentence #50000, processed 377817 words, keeping 16267 word types\n"
     ]
    },
    {
     "name": "stdout",
     "output_type": "stream",
     "text": [
      "Training model...\n"
     ]
    },
    {
     "name": "stderr",
     "output_type": "stream",
     "text": [
      "2021-10-01 18:27:57,838 : INFO : PROGRESS: at sentence #60000, processed 426682 words, keeping 16427 word types\n",
      "2021-10-01 18:27:57,873 : INFO : PROGRESS: at sentence #70000, processed 475353 words, keeping 16525 word types\n",
      "2021-10-01 18:27:57,916 : INFO : PROGRESS: at sentence #80000, processed 560697 words, keeping 25700 word types\n",
      "2021-10-01 18:27:57,966 : INFO : PROGRESS: at sentence #90000, processed 647532 words, keeping 33189 word types\n",
      "2021-10-01 18:27:58,003 : INFO : PROGRESS: at sentence #100000, processed 733997 words, keeping 40411 word types\n",
      "2021-10-01 18:27:58,045 : INFO : PROGRESS: at sentence #110000, processed 823119 words, keeping 47426 word types\n",
      "2021-10-01 18:27:58,086 : INFO : PROGRESS: at sentence #120000, processed 909871 words, keeping 52950 word types\n",
      "2021-10-01 18:27:58,128 : INFO : PROGRESS: at sentence #130000, processed 995489 words, keeping 59091 word types\n",
      "2021-10-01 18:27:58,167 : INFO : PROGRESS: at sentence #140000, processed 1079903 words, keeping 65063 word types\n",
      "2021-10-01 18:27:58,204 : INFO : PROGRESS: at sentence #150000, processed 1168822 words, keeping 69316 word types\n",
      "2021-10-01 18:27:58,247 : INFO : PROGRESS: at sentence #160000, processed 1258016 words, keeping 74114 word types\n",
      "2021-10-01 18:27:58,281 : INFO : collected 78435 word types from a corpus of 1327693 raw words and 168141 sentences\n",
      "2021-10-01 18:27:58,282 : INFO : Creating a fresh vocabulary\n",
      "2021-10-01 18:27:58,436 : INFO : Word2Vec lifecycle event {'msg': 'effective_min_count=3 retains 24652 unique words (31.429846369605407%% of original 78435, drops 53783)', 'datetime': '2021-10-01T18:27:58.436089', 'gensim': '4.1.2', 'python': '3.8.11 (default, Aug  6 2021, 08:56:27) \\n[Clang 10.0.0 ]', 'platform': 'macOS-10.16-x86_64-i386-64bit', 'event': 'prepare_vocab'}\n",
      "2021-10-01 18:27:58,436 : INFO : Word2Vec lifecycle event {'msg': 'effective_min_count=3 leaves 1266200 word corpus (95.3684323107827%% of original 1327693, drops 61493)', 'datetime': '2021-10-01T18:27:58.436946', 'gensim': '4.1.2', 'python': '3.8.11 (default, Aug  6 2021, 08:56:27) \\n[Clang 10.0.0 ]', 'platform': 'macOS-10.16-x86_64-i386-64bit', 'event': 'prepare_vocab'}\n",
      "2021-10-01 18:27:58,614 : INFO : deleting the raw counts dictionary of 78435 items\n",
      "2021-10-01 18:27:58,616 : INFO : sample=0.001 downsamples 18 most-common words\n",
      "2021-10-01 18:27:58,618 : INFO : Word2Vec lifecycle event {'msg': 'downsampling leaves estimated 1243762.1418669212 word corpus (98.2%% of prior 1266200)', 'datetime': '2021-10-01T18:27:58.617997', 'gensim': '4.1.2', 'python': '3.8.11 (default, Aug  6 2021, 08:56:27) \\n[Clang 10.0.0 ]', 'platform': 'macOS-10.16-x86_64-i386-64bit', 'event': 'prepare_vocab'}\n",
      "2021-10-01 18:27:58,941 : INFO : estimated required memory for 24652 words and 100 dimensions: 32047600 bytes\n",
      "2021-10-01 18:27:58,942 : INFO : resetting layer weights\n",
      "2021-10-01 18:27:58,959 : INFO : Word2Vec lifecycle event {'update': False, 'trim_rule': 'None', 'datetime': '2021-10-01T18:27:58.959827', 'gensim': '4.1.2', 'python': '3.8.11 (default, Aug  6 2021, 08:56:27) \\n[Clang 10.0.0 ]', 'platform': 'macOS-10.16-x86_64-i386-64bit', 'event': 'build_vocab'}\n",
      "2021-10-01 18:27:58,960 : INFO : Word2Vec lifecycle event {'msg': 'training model with 4 workers on 24652 vocabulary and 100 features, using sg=1 hs=0 sample=0.001 negative=5 window=10 shrink_windows=True', 'datetime': '2021-10-01T18:27:58.960834', 'gensim': '4.1.2', 'python': '3.8.11 (default, Aug  6 2021, 08:56:27) \\n[Clang 10.0.0 ]', 'platform': 'macOS-10.16-x86_64-i386-64bit', 'event': 'train'}\n",
      "2021-10-01 18:28:00,056 : INFO : EPOCH 1 - PROGRESS: at 5.04% examples, 154800 words/s, in_qsize 8, out_qsize 1\n",
      "2021-10-01 18:28:01,074 : INFO : EPOCH 1 - PROGRESS: at 36.00% examples, 201742 words/s, in_qsize 8, out_qsize 0\n",
      "2021-10-01 18:28:02,112 : INFO : EPOCH 1 - PROGRESS: at 60.44% examples, 228869 words/s, in_qsize 7, out_qsize 0\n",
      "2021-10-01 18:28:03,135 : INFO : EPOCH 1 - PROGRESS: at 83.20% examples, 244267 words/s, in_qsize 7, out_qsize 0\n",
      "2021-10-01 18:28:03,789 : INFO : worker thread finished; awaiting finish of 3 more threads\n",
      "2021-10-01 18:28:03,813 : INFO : worker thread finished; awaiting finish of 2 more threads\n",
      "2021-10-01 18:28:03,878 : INFO : worker thread finished; awaiting finish of 1 more threads\n",
      "2021-10-01 18:28:03,892 : INFO : worker thread finished; awaiting finish of 0 more threads\n",
      "2021-10-01 18:28:03,892 : INFO : EPOCH - 1 : training on 1327693 raw words (1243823 effective words) took 4.9s, 252625 effective words/s\n",
      "2021-10-01 18:28:05,023 : INFO : EPOCH 2 - PROGRESS: at 5.04% examples, 150628 words/s, in_qsize 7, out_qsize 0\n",
      "2021-10-01 18:28:06,110 : INFO : EPOCH 2 - PROGRESS: at 38.42% examples, 201533 words/s, in_qsize 6, out_qsize 1\n",
      "2021-10-01 18:28:07,145 : INFO : EPOCH 2 - PROGRESS: at 61.79% examples, 227531 words/s, in_qsize 8, out_qsize 0\n",
      "2021-10-01 18:28:08,170 : INFO : EPOCH 2 - PROGRESS: at 85.94% examples, 247111 words/s, in_qsize 7, out_qsize 0\n",
      "2021-10-01 18:28:08,744 : INFO : worker thread finished; awaiting finish of 3 more threads\n",
      "2021-10-01 18:28:08,759 : INFO : worker thread finished; awaiting finish of 2 more threads\n",
      "2021-10-01 18:28:08,786 : INFO : worker thread finished; awaiting finish of 1 more threads\n",
      "2021-10-01 18:28:08,841 : INFO : worker thread finished; awaiting finish of 0 more threads\n",
      "2021-10-01 18:28:08,842 : INFO : EPOCH - 2 : training on 1327693 raw words (1243618 effective words) took 4.9s, 251913 effective words/s\n",
      "2021-10-01 18:28:09,872 : INFO : EPOCH 3 - PROGRESS: at 3.89% examples, 165939 words/s, in_qsize 6, out_qsize 1\n",
      "2021-10-01 18:28:10,926 : INFO : EPOCH 3 - PROGRESS: at 38.40% examples, 214867 words/s, in_qsize 8, out_qsize 0\n",
      "2021-10-01 18:28:11,969 : INFO : EPOCH 3 - PROGRESS: at 61.79% examples, 237147 words/s, in_qsize 7, out_qsize 0\n",
      "2021-10-01 18:28:13,016 : INFO : EPOCH 3 - PROGRESS: at 83.89% examples, 246908 words/s, in_qsize 8, out_qsize 0\n",
      "2021-10-01 18:28:13,655 : INFO : worker thread finished; awaiting finish of 3 more threads\n",
      "2021-10-01 18:28:13,656 : INFO : worker thread finished; awaiting finish of 2 more threads\n",
      "2021-10-01 18:28:13,698 : INFO : worker thread finished; awaiting finish of 1 more threads\n",
      "2021-10-01 18:28:13,755 : INFO : worker thread finished; awaiting finish of 0 more threads\n",
      "2021-10-01 18:28:13,756 : INFO : EPOCH - 3 : training on 1327693 raw words (1243740 effective words) took 4.9s, 253918 effective words/s\n",
      "2021-10-01 18:28:14,782 : INFO : EPOCH 4 - PROGRESS: at 5.04% examples, 166073 words/s, in_qsize 7, out_qsize 1\n",
      "2021-10-01 18:28:15,786 : INFO : EPOCH 4 - PROGRESS: at 36.00% examples, 210453 words/s, in_qsize 7, out_qsize 0\n",
      "2021-10-01 18:28:16,797 : INFO : EPOCH 4 - PROGRESS: at 59.15% examples, 231507 words/s, in_qsize 7, out_qsize 0\n",
      "2021-10-01 18:28:17,812 : INFO : EPOCH 4 - PROGRESS: at 82.55% examples, 249371 words/s, in_qsize 8, out_qsize 0\n",
      "2021-10-01 18:28:18,553 : INFO : worker thread finished; awaiting finish of 3 more threads\n",
      "2021-10-01 18:28:18,556 : INFO : worker thread finished; awaiting finish of 2 more threads\n",
      "2021-10-01 18:28:18,615 : INFO : worker thread finished; awaiting finish of 1 more threads\n",
      "2021-10-01 18:28:18,621 : INFO : worker thread finished; awaiting finish of 0 more threads\n",
      "2021-10-01 18:28:18,622 : INFO : EPOCH - 4 : training on 1327693 raw words (1243567 effective words) took 4.9s, 256239 effective words/s\n",
      "2021-10-01 18:28:19,651 : INFO : EPOCH 5 - PROGRESS: at 4.80% examples, 165596 words/s, in_qsize 6, out_qsize 1\n",
      "2021-10-01 18:28:20,716 : INFO : EPOCH 5 - PROGRESS: at 38.40% examples, 213539 words/s, in_qsize 7, out_qsize 0\n",
      "2021-10-01 18:28:21,716 : INFO : EPOCH 5 - PROGRESS: at 61.79% examples, 239308 words/s, in_qsize 7, out_qsize 0\n",
      "2021-10-01 18:28:22,737 : INFO : EPOCH 5 - PROGRESS: at 85.27% examples, 254751 words/s, in_qsize 7, out_qsize 0\n",
      "2021-10-01 18:28:23,358 : INFO : worker thread finished; awaiting finish of 3 more threads\n",
      "2021-10-01 18:28:23,359 : INFO : worker thread finished; awaiting finish of 2 more threads\n",
      "2021-10-01 18:28:23,379 : INFO : worker thread finished; awaiting finish of 1 more threads\n",
      "2021-10-01 18:28:23,462 : INFO : worker thread finished; awaiting finish of 0 more threads\n",
      "2021-10-01 18:28:23,463 : INFO : EPOCH - 5 : training on 1327693 raw words (1243828 effective words) took 4.8s, 257665 effective words/s\n"
     ]
    },
    {
     "name": "stderr",
     "output_type": "stream",
     "text": [
      "2021-10-01 18:28:23,463 : INFO : Word2Vec lifecycle event {'msg': 'training on 6638465 raw words (6218576 effective words) took 24.5s, 253802 effective words/s', 'datetime': '2021-10-01T18:28:23.463822', 'gensim': '4.1.2', 'python': '3.8.11 (default, Aug  6 2021, 08:56:27) \\n[Clang 10.0.0 ]', 'platform': 'macOS-10.16-x86_64-i386-64bit', 'event': 'train'}\n",
      "2021-10-01 18:28:23,464 : INFO : Word2Vec lifecycle event {'params': 'Word2Vec(vocab=24652, vector_size=100, alpha=0.025)', 'datetime': '2021-10-01T18:28:23.464570', 'gensim': '4.1.2', 'python': '3.8.11 (default, Aug  6 2021, 08:56:27) \\n[Clang 10.0.0 ]', 'platform': 'macOS-10.16-x86_64-i386-64bit', 'event': 'created'}\n",
      "/tmp/ipykernel_11421/1428038617.py:12: DeprecationWarning: Call to deprecated `init_sims` (Gensim 4.0.0 implemented internal optimizations that make calls to init_sims() unnecessary. init_sims() is now obsoleted and will be completely removed in future versions. See https://github.com/RaRe-Technologies/gensim/wiki/Migrating-from-Gensim-3.x-to-4).\n",
      "  musthave_dice_naruki_model.init_sims(replace=True)\n",
      "2021-10-01 18:28:23,486 : WARNING : destructive init_sims(replace=True) deprecated & no longer required for space-efficiency\n"
     ]
    }
   ],
   "source": [
    "print (\"Training model...\")\n",
    "musthave_dice_naruki_model = word2vec.Word2Vec(musthave_dice_naruki_data, \n",
    "          workers=multiprocessing.cpu_count(),  # Number of threads to run in parallel\n",
    "#           size=300, \n",
    "          min_count=3, \n",
    "          window=10, \n",
    "          sample = 1e-3,  # Downsample setting for frequent words\n",
    "#           iter=4,\n",
    "          sg =1\n",
    "    )\n",
    "\n",
    "musthave_dice_naruki_model.init_sims(replace=True)\n",
    "test_case(musthave_dice_naruki_model, \"musthave_dice_naruki_model\")"
   ]
  },
  {
   "cell_type": "code",
   "execution_count": null,
   "metadata": {},
   "outputs": [],
   "source": []
  },
  {
   "cell_type": "code",
   "execution_count": 14,
   "metadata": {},
   "outputs": [
    {
     "data": {
      "text/plain": [
       "{'musthave_model': [],\n",
       " 'musthave_dice_model': [],\n",
       " 'musthave_dice_naruki_model': []}"
      ]
     },
     "execution_count": 14,
     "metadata": {},
     "output_type": "execute_result"
    }
   ],
   "source": [
    "TEST_CASE"
   ]
  },
  {
   "cell_type": "code",
   "execution_count": 15,
   "metadata": {},
   "outputs": [],
   "source": [
    "TEST_CASE_TABLE = [ pd.DataFrame(TEST_CASE[t]) for t in TEST_CASE ]"
   ]
  },
  {
   "cell_type": "code",
   "execution_count": 16,
   "metadata": {},
   "outputs": [
    {
     "data": {
      "text/plain": [
       "['musthave_model', 'musthave_dice_model', 'musthave_dice_naruki_model']"
      ]
     },
     "execution_count": 16,
     "metadata": {},
     "output_type": "execute_result"
    }
   ],
   "source": [
    "[ t for t in TEST_CASE ]"
   ]
  },
  {
   "cell_type": "code",
   "execution_count": 17,
   "metadata": {},
   "outputs": [
    {
     "data": {
      "text/html": [
       "<div>\n",
       "<style scoped>\n",
       "    .dataframe tbody tr th:only-of-type {\n",
       "        vertical-align: middle;\n",
       "    }\n",
       "\n",
       "    .dataframe tbody tr th {\n",
       "        vertical-align: top;\n",
       "    }\n",
       "\n",
       "    .dataframe thead th {\n",
       "        text-align: right;\n",
       "    }\n",
       "</style>\n",
       "<table border=\"1\" class=\"dataframe\">\n",
       "  <thead>\n",
       "    <tr style=\"text-align: right;\">\n",
       "      <th></th>\n",
       "    </tr>\n",
       "  </thead>\n",
       "  <tbody>\n",
       "  </tbody>\n",
       "</table>\n",
       "</div>"
      ],
      "text/plain": [
       "Empty DataFrame\n",
       "Columns: []\n",
       "Index: []"
      ]
     },
     "execution_count": 17,
     "metadata": {},
     "output_type": "execute_result"
    }
   ],
   "source": [
    "TEST_CASE_TABLE[0]"
   ]
  },
  {
   "cell_type": "code",
   "execution_count": 18,
   "metadata": {},
   "outputs": [
    {
     "data": {
      "text/html": [
       "<div>\n",
       "<style scoped>\n",
       "    .dataframe tbody tr th:only-of-type {\n",
       "        vertical-align: middle;\n",
       "    }\n",
       "\n",
       "    .dataframe tbody tr th {\n",
       "        vertical-align: top;\n",
       "    }\n",
       "\n",
       "    .dataframe thead th {\n",
       "        text-align: right;\n",
       "    }\n",
       "</style>\n",
       "<table border=\"1\" class=\"dataframe\">\n",
       "  <thead>\n",
       "    <tr style=\"text-align: right;\">\n",
       "      <th></th>\n",
       "    </tr>\n",
       "  </thead>\n",
       "  <tbody>\n",
       "  </tbody>\n",
       "</table>\n",
       "</div>"
      ],
      "text/plain": [
       "Empty DataFrame\n",
       "Columns: []\n",
       "Index: []"
      ]
     },
     "execution_count": 18,
     "metadata": {},
     "output_type": "execute_result"
    }
   ],
   "source": [
    "TEST_CASE_TABLE[1]"
   ]
  },
  {
   "cell_type": "code",
   "execution_count": 19,
   "metadata": {},
   "outputs": [
    {
     "data": {
      "text/html": [
       "<div>\n",
       "<style scoped>\n",
       "    .dataframe tbody tr th:only-of-type {\n",
       "        vertical-align: middle;\n",
       "    }\n",
       "\n",
       "    .dataframe tbody tr th {\n",
       "        vertical-align: top;\n",
       "    }\n",
       "\n",
       "    .dataframe thead th {\n",
       "        text-align: right;\n",
       "    }\n",
       "</style>\n",
       "<table border=\"1\" class=\"dataframe\">\n",
       "  <thead>\n",
       "    <tr style=\"text-align: right;\">\n",
       "      <th></th>\n",
       "    </tr>\n",
       "  </thead>\n",
       "  <tbody>\n",
       "  </tbody>\n",
       "</table>\n",
       "</div>"
      ],
      "text/plain": [
       "Empty DataFrame\n",
       "Columns: []\n",
       "Index: []"
      ]
     },
     "execution_count": 19,
     "metadata": {},
     "output_type": "execute_result"
    }
   ],
   "source": [
    "TEST_CASE_TABLE[2]"
   ]
  },
  {
   "cell_type": "code",
   "execution_count": null,
   "metadata": {},
   "outputs": [],
   "source": []
  },
  {
   "cell_type": "code",
   "execution_count": 20,
   "metadata": {},
   "outputs": [
    {
     "name": "stderr",
     "output_type": "stream",
     "text": [
      "2021-10-01 18:28:23,648 : INFO : storing 24652x100 projection weights into musthave_dice_naruki.model\n"
     ]
    }
   ],
   "source": [
    "musthave_dice_naruki_model.wv.save_word2vec_format(\"musthave_dice_naruki.model\")"
   ]
  },
  {
   "cell_type": "code",
   "execution_count": 21,
   "metadata": {},
   "outputs": [
    {
     "name": "stdout",
     "output_type": "stream",
     "text": [
      "total 356528\r\n",
      "-rw-r--r--@  1 bharath  staff      6148 Oct  1 16:13 .DS_Store\r\n",
      "drwxr-xr-x  13 bharath  staff       416 Oct  1 18:16 \u001b[1m\u001b[36m.git\u001b[m\u001b[m\r\n",
      "-rw-r--r--   1 bharath  staff      1799 Oct  1 15:34 .gitignore\r\n",
      "drwxr-xr-x   5 root     staff       160 Oct  1 17:05 \u001b[1m\u001b[36m.ipynb_checkpoints\u001b[m\u001b[m\r\n",
      "-rw-r--r--   1 bharath  staff        11 Oct  1 15:34 README.md\r\n",
      "-rw-r--r--   1 root     staff  18301035 Oct  1 18:27 cynor_model.p\r\n",
      "-rw-r--r--   1 root     staff  18111038 Oct  1 16:52 cynor_skill2vec_100d.model\r\n",
      "-rw-r--r--   1 root     staff  18104991 Oct  1 16:52 cynor_skill2vec_200d.model\r\n",
      "-rw-r--r--   1 bharath  staff     67838 Oct  1 18:20 format_data.ipynb\r\n",
      "-rw-r--r--   1 root     staff  12376087 Oct  1 18:20 formatted_skill2vec.csv\r\n",
      "-rw-r--r--   1 root     staff     13993 Oct  1 18:21 inference.ipynb\r\n",
      "-rw-r--r--@  1 bharath  staff   8885546 Sep 30 21:56 mustHaveSkills-2.csv\r\n",
      "-rw-r--r--   1 root     staff  29691555 Oct  1 18:28 musthave_dice_naruki.model\r\n",
      "-rw-r--r--   1 bharath  staff  18240737 Sep 30 21:56 naukri_skill_full\r\n",
      "drwxr-xr-x   4 bharath  staff       128 Oct  1 15:35 \u001b[1m\u001b[36mnltk_data\u001b[m\u001b[m\r\n",
      "-rw-r--r--   1 bharath  staff   3972850 Sep 30 21:56 prep_data_tokens_underscore_1\r\n",
      "-rw-r--r--@  1 bharath  staff   1074156 Oct  1 14:39 skill2vec_1K.csv\r\n",
      "-rw-r--r--@  1 bharath  staff  53615877 Oct  1 14:39 skill2vec_50K.csv\r\n",
      "-rw-r--r--   1 bharath  staff     44394 Oct  1 18:28 skill2vec_ver3 (WORKING).ipynb\r\n"
     ]
    }
   ],
   "source": [
    "!ls -l"
   ]
  },
  {
   "cell_type": "code",
   "execution_count": 22,
   "metadata": {},
   "outputs": [
    {
     "name": "stderr",
     "output_type": "stream",
     "text": [
      "2021-10-01 18:28:27,165 : INFO : collecting all words and their counts\n",
      "2021-10-01 18:28:27,167 : INFO : PROGRESS: at sentence #0, processed 0 words, keeping 0 word types\n",
      "2021-10-01 18:28:27,254 : INFO : PROGRESS: at sentence #10000, processed 194489 words, keeping 10821 word types\n",
      "2021-10-01 18:28:27,276 : INFO : PROGRESS: at sentence #20000, processed 236575 words, keeping 13977 word types\n",
      "2021-10-01 18:28:27,307 : INFO : PROGRESS: at sentence #30000, processed 281633 words, keeping 15034 word types\n",
      "2021-10-01 18:28:27,345 : INFO : PROGRESS: at sentence #40000, processed 331565 words, keeping 15898 word types\n",
      "2021-10-01 18:28:27,373 : INFO : PROGRESS: at sentence #50000, processed 377817 words, keeping 16267 word types\n",
      "2021-10-01 18:28:27,408 : INFO : PROGRESS: at sentence #60000, processed 426682 words, keeping 16427 word types\n",
      "2021-10-01 18:28:27,441 : INFO : PROGRESS: at sentence #70000, processed 475353 words, keeping 16525 word types\n",
      "2021-10-01 18:28:27,483 : INFO : PROGRESS: at sentence #80000, processed 560697 words, keeping 25700 word types\n",
      "2021-10-01 18:28:27,518 : INFO : PROGRESS: at sentence #90000, processed 647532 words, keeping 33189 word types\n",
      "2021-10-01 18:28:27,557 : INFO : PROGRESS: at sentence #100000, processed 733997 words, keeping 40411 word types\n",
      "2021-10-01 18:28:27,602 : INFO : PROGRESS: at sentence #110000, processed 823119 words, keeping 47426 word types\n",
      "2021-10-01 18:28:27,638 : INFO : PROGRESS: at sentence #120000, processed 909871 words, keeping 52950 word types\n",
      "2021-10-01 18:28:27,679 : INFO : PROGRESS: at sentence #130000, processed 995489 words, keeping 59091 word types\n",
      "2021-10-01 18:28:27,717 : INFO : PROGRESS: at sentence #140000, processed 1079903 words, keeping 65063 word types\n",
      "2021-10-01 18:28:27,754 : INFO : PROGRESS: at sentence #150000, processed 1168822 words, keeping 69316 word types\n",
      "2021-10-01 18:28:27,799 : INFO : PROGRESS: at sentence #160000, processed 1258016 words, keeping 74114 word types\n",
      "2021-10-01 18:28:27,833 : INFO : collected 78435 word types from a corpus of 1327693 raw words and 168141 sentences\n",
      "2021-10-01 18:28:27,834 : INFO : Creating a fresh vocabulary\n",
      "2021-10-01 18:28:27,958 : INFO : Word2Vec lifecycle event {'msg': 'effective_min_count=5 retains 19227 unique words (24.51329126027921%% of original 78435, drops 59208)', 'datetime': '2021-10-01T18:28:27.958791', 'gensim': '4.1.2', 'python': '3.8.11 (default, Aug  6 2021, 08:56:27) \\n[Clang 10.0.0 ]', 'platform': 'macOS-10.16-x86_64-i386-64bit', 'event': 'prepare_vocab'}\n",
      "2021-10-01 18:28:27,960 : INFO : Word2Vec lifecycle event {'msg': 'effective_min_count=5 leaves 1247924 word corpus (93.99190927420722%% of original 1327693, drops 79769)', 'datetime': '2021-10-01T18:28:27.960092', 'gensim': '4.1.2', 'python': '3.8.11 (default, Aug  6 2021, 08:56:27) \\n[Clang 10.0.0 ]', 'platform': 'macOS-10.16-x86_64-i386-64bit', 'event': 'prepare_vocab'}\n",
      "2021-10-01 18:28:28,104 : INFO : deleting the raw counts dictionary of 78435 items\n",
      "2021-10-01 18:28:28,106 : INFO : sample=0.001 downsamples 18 most-common words\n",
      "2021-10-01 18:28:28,108 : INFO : Word2Vec lifecycle event {'msg': 'downsampling leaves estimated 1224834.344947212 word corpus (98.1%% of prior 1247924)', 'datetime': '2021-10-01T18:28:28.108084', 'gensim': '4.1.2', 'python': '3.8.11 (default, Aug  6 2021, 08:56:27) \\n[Clang 10.0.0 ]', 'platform': 'macOS-10.16-x86_64-i386-64bit', 'event': 'prepare_vocab'}\n",
      "2021-10-01 18:28:28,367 : INFO : estimated required memory for 19227 words and 100 dimensions: 24995100 bytes\n",
      "2021-10-01 18:28:28,368 : INFO : resetting layer weights\n",
      "2021-10-01 18:28:28,390 : INFO : Word2Vec lifecycle event {'update': False, 'trim_rule': 'None', 'datetime': '2021-10-01T18:28:28.390875', 'gensim': '4.1.2', 'python': '3.8.11 (default, Aug  6 2021, 08:56:27) \\n[Clang 10.0.0 ]', 'platform': 'macOS-10.16-x86_64-i386-64bit', 'event': 'build_vocab'}\n",
      "2021-10-01 18:28:28,392 : INFO : Word2Vec lifecycle event {'msg': 'training model with 4 workers on 19227 vocabulary and 100 features, using sg=1 hs=0 sample=0.001 negative=5 window=10 shrink_windows=True', 'datetime': '2021-10-01T18:28:28.392091', 'gensim': '4.1.2', 'python': '3.8.11 (default, Aug  6 2021, 08:56:27) \\n[Clang 10.0.0 ]', 'platform': 'macOS-10.16-x86_64-i386-64bit', 'event': 'train'}\n",
      "2021-10-01 18:28:29,436 : INFO : EPOCH 1 - PROGRESS: at 5.55% examples, 183971 words/s, in_qsize 6, out_qsize 1\n",
      "2021-10-01 18:28:30,465 : INFO : EPOCH 1 - PROGRESS: at 38.42% examples, 215825 words/s, in_qsize 7, out_qsize 0\n",
      "2021-10-01 18:28:31,472 : INFO : EPOCH 1 - PROGRESS: at 63.07% examples, 244563 words/s, in_qsize 7, out_qsize 0\n",
      "2021-10-01 18:28:32,508 : INFO : EPOCH 1 - PROGRESS: at 86.62% examples, 256091 words/s, in_qsize 7, out_qsize 0\n",
      "2021-10-01 18:28:33,009 : INFO : worker thread finished; awaiting finish of 3 more threads\n",
      "2021-10-01 18:28:33,030 : INFO : worker thread finished; awaiting finish of 2 more threads\n",
      "2021-10-01 18:28:33,053 : INFO : worker thread finished; awaiting finish of 1 more threads\n",
      "2021-10-01 18:28:33,105 : INFO : worker thread finished; awaiting finish of 0 more threads\n",
      "2021-10-01 18:28:33,106 : INFO : EPOCH - 1 : training on 1327693 raw words (1224842 effective words) took 4.7s, 261148 effective words/s\n",
      "2021-10-01 18:28:34,145 : INFO : EPOCH 2 - PROGRESS: at 4.80% examples, 164164 words/s, in_qsize 7, out_qsize 0\n",
      "2021-10-01 18:28:35,246 : INFO : EPOCH 2 - PROGRESS: at 38.42% examples, 208298 words/s, in_qsize 7, out_qsize 0\n",
      "2021-10-01 18:28:36,252 : INFO : EPOCH 2 - PROGRESS: at 63.70% examples, 241657 words/s, in_qsize 7, out_qsize 0\n",
      "2021-10-01 18:28:37,268 : INFO : EPOCH 2 - PROGRESS: at 87.24% examples, 254982 words/s, in_qsize 7, out_qsize 0\n",
      "2021-10-01 18:28:37,735 : INFO : worker thread finished; awaiting finish of 3 more threads\n",
      "2021-10-01 18:28:37,749 : INFO : worker thread finished; awaiting finish of 2 more threads\n",
      "2021-10-01 18:28:37,770 : INFO : worker thread finished; awaiting finish of 1 more threads\n",
      "2021-10-01 18:28:37,828 : INFO : worker thread finished; awaiting finish of 0 more threads\n",
      "2021-10-01 18:28:37,829 : INFO : EPOCH - 2 : training on 1327693 raw words (1224775 effective words) took 4.7s, 260269 effective words/s\n",
      "2021-10-01 18:28:38,982 : INFO : EPOCH 3 - PROGRESS: at 8.58% examples, 182191 words/s, in_qsize 8, out_qsize 0\n",
      "2021-10-01 18:28:40,016 : INFO : EPOCH 3 - PROGRESS: at 43.32% examples, 225455 words/s, in_qsize 7, out_qsize 0\n",
      "2021-10-01 18:28:41,028 : INFO : EPOCH 3 - PROGRESS: at 67.08% examples, 251481 words/s, in_qsize 7, out_qsize 0\n",
      "2021-10-01 18:28:42,042 : INFO : EPOCH 3 - PROGRESS: at 90.56% examples, 262534 words/s, in_qsize 7, out_qsize 0\n",
      "2021-10-01 18:28:42,363 : INFO : worker thread finished; awaiting finish of 3 more threads\n",
      "2021-10-01 18:28:42,396 : INFO : worker thread finished; awaiting finish of 2 more threads\n",
      "2021-10-01 18:28:42,441 : INFO : worker thread finished; awaiting finish of 1 more threads\n",
      "2021-10-01 18:28:42,476 : INFO : worker thread finished; awaiting finish of 0 more threads\n",
      "2021-10-01 18:28:42,477 : INFO : EPOCH - 3 : training on 1327693 raw words (1224853 effective words) took 4.6s, 264444 effective words/s\n",
      "2021-10-01 18:28:43,494 : INFO : EPOCH 4 - PROGRESS: at 6.42% examples, 186592 words/s, in_qsize 7, out_qsize 0\n",
      "2021-10-01 18:28:44,534 : INFO : EPOCH 4 - PROGRESS: at 39.65% examples, 221058 words/s, in_qsize 7, out_qsize 0\n",
      "2021-10-01 18:28:45,565 : INFO : EPOCH 4 - PROGRESS: at 64.43% examples, 248676 words/s, in_qsize 7, out_qsize 0\n",
      "2021-10-01 18:28:46,593 : INFO : EPOCH 4 - PROGRESS: at 88.54% examples, 261956 words/s, in_qsize 8, out_qsize 0\n",
      "2021-10-01 18:28:47,004 : INFO : worker thread finished; awaiting finish of 3 more threads\n",
      "2021-10-01 18:28:47,036 : INFO : worker thread finished; awaiting finish of 2 more threads\n",
      "2021-10-01 18:28:47,070 : INFO : worker thread finished; awaiting finish of 1 more threads\n",
      "2021-10-01 18:28:47,104 : INFO : worker thread finished; awaiting finish of 0 more threads\n",
      "2021-10-01 18:28:47,105 : INFO : EPOCH - 4 : training on 1327693 raw words (1224858 effective words) took 4.6s, 265354 effective words/s\n",
      "2021-10-01 18:28:48,120 : INFO : EPOCH 5 - PROGRESS: at 5.04% examples, 167020 words/s, in_qsize 5, out_qsize 2\n"
     ]
    },
    {
     "name": "stderr",
     "output_type": "stream",
     "text": [
      "2021-10-01 18:28:49,177 : INFO : EPOCH 5 - PROGRESS: at 38.40% examples, 214326 words/s, in_qsize 7, out_qsize 0\n",
      "2021-10-01 18:28:50,240 : INFO : EPOCH 5 - PROGRESS: at 64.39% examples, 244721 words/s, in_qsize 7, out_qsize 0\n",
      "2021-10-01 18:28:51,251 : INFO : EPOCH 5 - PROGRESS: at 88.54% examples, 259878 words/s, in_qsize 7, out_qsize 0\n",
      "2021-10-01 18:28:51,665 : INFO : worker thread finished; awaiting finish of 3 more threads\n",
      "2021-10-01 18:28:51,676 : INFO : worker thread finished; awaiting finish of 2 more threads\n",
      "2021-10-01 18:28:51,727 : INFO : worker thread finished; awaiting finish of 1 more threads\n",
      "2021-10-01 18:28:51,743 : INFO : worker thread finished; awaiting finish of 0 more threads\n",
      "2021-10-01 18:28:51,743 : INFO : EPOCH - 5 : training on 1327693 raw words (1224830 effective words) took 4.6s, 264591 effective words/s\n",
      "2021-10-01 18:28:51,744 : INFO : Word2Vec lifecycle event {'msg': 'training on 6638465 raw words (6124158 effective words) took 23.4s, 262260 effective words/s', 'datetime': '2021-10-01T18:28:51.744850', 'gensim': '4.1.2', 'python': '3.8.11 (default, Aug  6 2021, 08:56:27) \\n[Clang 10.0.0 ]', 'platform': 'macOS-10.16-x86_64-i386-64bit', 'event': 'train'}\n",
      "2021-10-01 18:28:51,747 : INFO : Word2Vec lifecycle event {'params': 'Word2Vec(vocab=19227, vector_size=100, alpha=0.025)', 'datetime': '2021-10-01T18:28:51.747477', 'gensim': '4.1.2', 'python': '3.8.11 (default, Aug  6 2021, 08:56:27) \\n[Clang 10.0.0 ]', 'platform': 'macOS-10.16-x86_64-i386-64bit', 'event': 'created'}\n",
      "2021-10-01 18:28:51,753 : INFO : collecting all words and their counts\n",
      "2021-10-01 18:28:51,754 : INFO : PROGRESS: at sentence #0, processed 0 words, keeping 0 word types\n",
      "2021-10-01 18:28:51,838 : INFO : PROGRESS: at sentence #10000, processed 194489 words, keeping 10821 word types\n",
      "2021-10-01 18:28:51,856 : INFO : PROGRESS: at sentence #20000, processed 236575 words, keeping 13977 word types\n",
      "2021-10-01 18:28:51,882 : INFO : PROGRESS: at sentence #30000, processed 281633 words, keeping 15034 word types\n",
      "2021-10-01 18:28:51,913 : INFO : PROGRESS: at sentence #40000, processed 331565 words, keeping 15898 word types\n",
      "2021-10-01 18:28:51,938 : INFO : PROGRESS: at sentence #50000, processed 377817 words, keeping 16267 word types\n",
      "2021-10-01 18:28:51,967 : INFO : PROGRESS: at sentence #60000, processed 426682 words, keeping 16427 word types\n",
      "2021-10-01 18:28:52,000 : INFO : PROGRESS: at sentence #70000, processed 475353 words, keeping 16525 word types\n",
      "2021-10-01 18:28:52,030 : INFO : PROGRESS: at sentence #80000, processed 560697 words, keeping 25700 word types\n",
      "2021-10-01 18:28:52,059 : INFO : PROGRESS: at sentence #90000, processed 647532 words, keeping 33189 word types\n",
      "2021-10-01 18:28:52,092 : INFO : PROGRESS: at sentence #100000, processed 733997 words, keeping 40411 word types\n",
      "2021-10-01 18:28:52,125 : INFO : PROGRESS: at sentence #110000, processed 823119 words, keeping 47426 word types\n",
      "2021-10-01 18:28:52,156 : INFO : PROGRESS: at sentence #120000, processed 909871 words, keeping 52950 word types\n",
      "2021-10-01 18:28:52,188 : INFO : PROGRESS: at sentence #130000, processed 995489 words, keeping 59091 word types\n",
      "2021-10-01 18:28:52,219 : INFO : PROGRESS: at sentence #140000, processed 1079903 words, keeping 65063 word types\n",
      "2021-10-01 18:28:52,251 : INFO : PROGRESS: at sentence #150000, processed 1168822 words, keeping 69316 word types\n",
      "2021-10-01 18:28:52,284 : INFO : PROGRESS: at sentence #160000, processed 1258016 words, keeping 74114 word types\n",
      "2021-10-01 18:28:52,310 : INFO : collected 78435 word types from a corpus of 1327693 raw words and 168141 sentences\n",
      "2021-10-01 18:28:52,312 : INFO : Creating a fresh vocabulary\n",
      "2021-10-01 18:28:52,443 : INFO : Word2Vec lifecycle event {'msg': 'effective_min_count=5 retains 19227 unique words (24.51329126027921%% of original 78435, drops 59208)', 'datetime': '2021-10-01T18:28:52.443054', 'gensim': '4.1.2', 'python': '3.8.11 (default, Aug  6 2021, 08:56:27) \\n[Clang 10.0.0 ]', 'platform': 'macOS-10.16-x86_64-i386-64bit', 'event': 'prepare_vocab'}\n",
      "2021-10-01 18:28:52,443 : INFO : Word2Vec lifecycle event {'msg': 'effective_min_count=5 leaves 1247924 word corpus (93.99190927420722%% of original 1327693, drops 79769)', 'datetime': '2021-10-01T18:28:52.443892', 'gensim': '4.1.2', 'python': '3.8.11 (default, Aug  6 2021, 08:56:27) \\n[Clang 10.0.0 ]', 'platform': 'macOS-10.16-x86_64-i386-64bit', 'event': 'prepare_vocab'}\n",
      "2021-10-01 18:28:52,612 : INFO : deleting the raw counts dictionary of 78435 items\n",
      "2021-10-01 18:28:52,614 : INFO : sample=0.001 downsamples 18 most-common words\n",
      "2021-10-01 18:28:52,615 : INFO : Word2Vec lifecycle event {'msg': 'downsampling leaves estimated 1224834.344947212 word corpus (98.1%% of prior 1247924)', 'datetime': '2021-10-01T18:28:52.615594', 'gensim': '4.1.2', 'python': '3.8.11 (default, Aug  6 2021, 08:56:27) \\n[Clang 10.0.0 ]', 'platform': 'macOS-10.16-x86_64-i386-64bit', 'event': 'prepare_vocab'}\n",
      "2021-10-01 18:28:52,894 : INFO : estimated required memory for 19227 words and 100 dimensions: 24995100 bytes\n",
      "2021-10-01 18:28:52,895 : INFO : resetting layer weights\n",
      "2021-10-01 18:28:52,914 : INFO : Word2Vec lifecycle event {'update': False, 'trim_rule': 'None', 'datetime': '2021-10-01T18:28:52.914618', 'gensim': '4.1.2', 'python': '3.8.11 (default, Aug  6 2021, 08:56:27) \\n[Clang 10.0.0 ]', 'platform': 'macOS-10.16-x86_64-i386-64bit', 'event': 'build_vocab'}\n",
      "2021-10-01 18:28:52,915 : INFO : Word2Vec lifecycle event {'msg': 'training model with 4 workers on 19227 vocabulary and 100 features, using sg=1 hs=0 sample=0.001 negative=5 window=10 shrink_windows=True', 'datetime': '2021-10-01T18:28:52.915606', 'gensim': '4.1.2', 'python': '3.8.11 (default, Aug  6 2021, 08:56:27) \\n[Clang 10.0.0 ]', 'platform': 'macOS-10.16-x86_64-i386-64bit', 'event': 'train'}\n",
      "2021-10-01 18:28:53,935 : INFO : EPOCH 1 - PROGRESS: at 3.89% examples, 166578 words/s, in_qsize 8, out_qsize 0\n",
      "2021-10-01 18:28:54,981 : INFO : EPOCH 1 - PROGRESS: at 38.40% examples, 215287 words/s, in_qsize 6, out_qsize 1\n",
      "2021-10-01 18:28:56,039 : INFO : EPOCH 1 - PROGRESS: at 64.43% examples, 245825 words/s, in_qsize 8, out_qsize 1\n",
      "2021-10-01 18:28:57,057 : INFO : EPOCH 1 - PROGRESS: at 89.21% examples, 262454 words/s, in_qsize 7, out_qsize 0\n",
      "2021-10-01 18:28:57,424 : INFO : worker thread finished; awaiting finish of 3 more threads\n",
      "2021-10-01 18:28:57,474 : INFO : worker thread finished; awaiting finish of 2 more threads\n",
      "2021-10-01 18:28:57,506 : INFO : worker thread finished; awaiting finish of 1 more threads\n",
      "2021-10-01 18:28:57,523 : INFO : worker thread finished; awaiting finish of 0 more threads\n",
      "2021-10-01 18:28:57,523 : INFO : EPOCH - 1 : training on 1327693 raw words (1224736 effective words) took 4.6s, 266453 effective words/s\n",
      "2021-10-01 18:28:58,660 : INFO : EPOCH 2 - PROGRESS: at 7.90% examples, 183777 words/s, in_qsize 7, out_qsize 0\n",
      "2021-10-01 18:28:59,670 : INFO : EPOCH 2 - PROGRESS: at 43.32% examples, 229067 words/s, in_qsize 7, out_qsize 0\n",
      "2021-10-01 18:29:00,671 : INFO : EPOCH 2 - PROGRESS: at 66.45% examples, 252431 words/s, in_qsize 7, out_qsize 0\n",
      "2021-10-01 18:29:01,687 : INFO : EPOCH 2 - PROGRESS: at 89.86% examples, 263171 words/s, in_qsize 7, out_qsize 0\n",
      "2021-10-01 18:29:02,042 : INFO : worker thread finished; awaiting finish of 3 more threads\n",
      "2021-10-01 18:29:02,068 : INFO : worker thread finished; awaiting finish of 2 more threads\n",
      "2021-10-01 18:29:02,092 : INFO : worker thread finished; awaiting finish of 1 more threads\n",
      "2021-10-01 18:29:02,111 : INFO : worker thread finished; awaiting finish of 0 more threads\n",
      "2021-10-01 18:29:02,111 : INFO : EPOCH - 2 : training on 1327693 raw words (1224883 effective words) took 4.6s, 267601 effective words/s\n",
      "2021-10-01 18:29:03,258 : INFO : EPOCH 3 - PROGRESS: at 8.58% examples, 181895 words/s, in_qsize 8, out_qsize 1\n",
      "2021-10-01 18:29:04,264 : INFO : EPOCH 3 - PROGRESS: at 42.63% examples, 224087 words/s, in_qsize 8, out_qsize 0\n",
      "2021-10-01 18:29:05,271 : INFO : EPOCH 3 - PROGRESS: at 65.81% examples, 248347 words/s, in_qsize 7, out_qsize 0\n",
      "2021-10-01 18:29:06,287 : INFO : EPOCH 3 - PROGRESS: at 90.56% examples, 264319 words/s, in_qsize 7, out_qsize 0\n",
      "2021-10-01 18:29:06,611 : INFO : worker thread finished; awaiting finish of 3 more threads\n"
     ]
    },
    {
     "name": "stderr",
     "output_type": "stream",
     "text": [
      "2021-10-01 18:29:06,648 : INFO : worker thread finished; awaiting finish of 2 more threads\n",
      "2021-10-01 18:29:06,677 : INFO : worker thread finished; awaiting finish of 1 more threads\n",
      "2021-10-01 18:29:06,697 : INFO : worker thread finished; awaiting finish of 0 more threads\n",
      "2021-10-01 18:29:06,698 : INFO : EPOCH - 3 : training on 1327693 raw words (1224627 effective words) took 4.6s, 267487 effective words/s\n",
      "2021-10-01 18:29:07,816 : INFO : EPOCH 4 - PROGRESS: at 8.58% examples, 186613 words/s, in_qsize 7, out_qsize 0\n",
      "2021-10-01 18:29:08,830 : INFO : EPOCH 4 - PROGRESS: at 43.32% examples, 230439 words/s, in_qsize 7, out_qsize 0\n",
      "2021-10-01 18:29:09,860 : INFO : EPOCH 4 - PROGRESS: at 67.08% examples, 253853 words/s, in_qsize 7, out_qsize 0\n",
      "2021-10-01 18:29:10,889 : INFO : EPOCH 4 - PROGRESS: at 91.91% examples, 267696 words/s, in_qsize 7, out_qsize 0\n",
      "2021-10-01 18:29:11,132 : INFO : worker thread finished; awaiting finish of 3 more threads\n",
      "2021-10-01 18:29:11,144 : INFO : worker thread finished; awaiting finish of 2 more threads\n",
      "2021-10-01 18:29:11,173 : INFO : worker thread finished; awaiting finish of 1 more threads\n",
      "2021-10-01 18:29:11,209 : INFO : worker thread finished; awaiting finish of 0 more threads\n",
      "2021-10-01 18:29:11,210 : INFO : EPOCH - 4 : training on 1327693 raw words (1225031 effective words) took 4.5s, 272011 effective words/s\n",
      "2021-10-01 18:29:12,351 : INFO : EPOCH 5 - PROGRESS: at 8.58% examples, 182657 words/s, in_qsize 8, out_qsize 1\n",
      "2021-10-01 18:29:13,388 : INFO : EPOCH 5 - PROGRESS: at 42.63% examples, 221366 words/s, in_qsize 7, out_qsize 0\n",
      "2021-10-01 18:29:14,447 : INFO : EPOCH 5 - PROGRESS: at 67.08% examples, 247893 words/s, in_qsize 7, out_qsize 1\n",
      "2021-10-01 18:29:15,483 : INFO : EPOCH 5 - PROGRESS: at 91.91% examples, 262425 words/s, in_qsize 7, out_qsize 0\n",
      "2021-10-01 18:29:15,747 : INFO : worker thread finished; awaiting finish of 3 more threads\n",
      "2021-10-01 18:29:15,749 : INFO : worker thread finished; awaiting finish of 2 more threads\n",
      "2021-10-01 18:29:15,762 : INFO : worker thread finished; awaiting finish of 1 more threads\n",
      "2021-10-01 18:29:15,808 : INFO : worker thread finished; awaiting finish of 0 more threads\n",
      "2021-10-01 18:29:15,808 : INFO : EPOCH - 5 : training on 1327693 raw words (1224800 effective words) took 4.6s, 266776 effective words/s\n",
      "2021-10-01 18:29:15,809 : INFO : Word2Vec lifecycle event {'msg': 'training on 6638465 raw words (6124077 effective words) took 22.9s, 267512 effective words/s', 'datetime': '2021-10-01T18:29:15.809466', 'gensim': '4.1.2', 'python': '3.8.11 (default, Aug  6 2021, 08:56:27) \\n[Clang 10.0.0 ]', 'platform': 'macOS-10.16-x86_64-i386-64bit', 'event': 'train'}\n",
      "2021-10-01 18:29:15,810 : INFO : Word2Vec lifecycle event {'params': 'Word2Vec(vocab=19227, vector_size=100, alpha=0.025)', 'datetime': '2021-10-01T18:29:15.810138', 'gensim': '4.1.2', 'python': '3.8.11 (default, Aug  6 2021, 08:56:27) \\n[Clang 10.0.0 ]', 'platform': 'macOS-10.16-x86_64-i386-64bit', 'event': 'created'}\n"
     ]
    }
   ],
   "source": [
    "cynor_skill2vec_model_100d = word2vec.Word2Vec(musthave_dice_naruki_data, \n",
    "          workers=multiprocessing.cpu_count(),  # Number of threads to run in parallel\n",
    "#           size=100, \n",
    "          min_count=5, \n",
    "          window=10, \n",
    "          sample = 1e-3,  # Downsample setting for frequent words\n",
    "#           iter=4,\n",
    "          sg =1\n",
    "    )\n",
    "\n",
    "cynor_skill2vec_model_200d = word2vec.Word2Vec(musthave_dice_naruki_data, \n",
    "          workers=multiprocessing.cpu_count(),  # Number of threads to run in parallel\n",
    "#           size=200, \n",
    "          min_count=5, \n",
    "          window=10, \n",
    "          sample = 1e-3,  # Downsample setting for frequent words\n",
    "#           iter=4,\n",
    "          sg =1\n",
    "    )"
   ]
  },
  {
   "cell_type": "code",
   "execution_count": 23,
   "metadata": {},
   "outputs": [
    {
     "name": "stderr",
     "output_type": "stream",
     "text": [
      "2021-10-01 18:29:15,849 : INFO : storing 19227x100 projection weights into cynor_skill2vec_100d.model\n",
      "2021-10-01 18:29:17,618 : INFO : storing 19227x100 projection weights into cynor_skill2vec_200d.model\n"
     ]
    }
   ],
   "source": [
    "cynor_skill2vec_model_100d.wv.save_word2vec_format(\"cynor_skill2vec_100d.model\")\n",
    "cynor_skill2vec_model_200d.wv.save_word2vec_format(\"cynor_skill2vec_200d.model\")"
   ]
  },
  {
   "cell_type": "code",
   "execution_count": 24,
   "metadata": {},
   "outputs": [
    {
     "name": "stdout",
     "output_type": "stream",
     "text": [
      "total 373344\n",
      "-rw-r--r--@  1 bharath  staff      6148 Oct  1 16:13 .DS_Store\n",
      "drwxr-xr-x  13 bharath  staff       416 Oct  1 18:16 \u001b[1m\u001b[36m.git\u001b[m\u001b[m\n",
      "-rw-r--r--   1 bharath  staff      1799 Oct  1 15:34 .gitignore\n",
      "drwxr-xr-x   5 root     staff       160 Oct  1 17:05 \u001b[1m\u001b[36m.ipynb_checkpoints\u001b[m\u001b[m\n",
      "-rw-r--r--   1 bharath  staff        11 Oct  1 15:34 README.md\n",
      "-rw-r--r--   1 root     staff  18301035 Oct  1 18:27 cynor_model.p\n",
      "-rw-r--r--   1 root     staff  22427998 Oct  1 18:29 cynor_skill2vec_100d.model\n",
      "-rw-r--r--   1 root     staff  22398520 Oct  1 18:29 cynor_skill2vec_200d.model\n",
      "-rw-r--r--   1 bharath  staff     67838 Oct  1 18:20 format_data.ipynb\n",
      "-rw-r--r--   1 root     staff  12376087 Oct  1 18:20 formatted_skill2vec.csv\n",
      "-rw-r--r--   1 root     staff     13993 Oct  1 18:21 inference.ipynb\n",
      "-rw-r--r--@  1 bharath  staff   8885546 Sep 30 21:56 mustHaveSkills-2.csv\n",
      "-rw-r--r--   1 root     staff  29691555 Oct  1 18:28 musthave_dice_naruki.model\n",
      "-rw-r--r--   1 bharath  staff  18240737 Sep 30 21:56 naukri_skill_full\n",
      "drwxr-xr-x   4 bharath  staff       128 Oct  1 15:35 \u001b[1m\u001b[36mnltk_data\u001b[m\u001b[m\n",
      "-rw-r--r--   1 bharath  staff   3972850 Sep 30 21:56 prep_data_tokens_underscore_1\n",
      "-rw-r--r--@  1 bharath  staff   1074156 Oct  1 14:39 skill2vec_1K.csv\n",
      "-rw-r--r--@  1 bharath  staff  53615877 Oct  1 14:39 skill2vec_50K.csv\n",
      "-rw-r--r--   1 bharath  staff     44394 Oct  1 18:28 skill2vec_ver3 (WORKING).ipynb\n",
      "/bin/sh: free: command not found\n"
     ]
    }
   ],
   "source": [
    "!ls -l\n",
    "!free -m"
   ]
  },
  {
   "cell_type": "code",
   "execution_count": 25,
   "metadata": {},
   "outputs": [
    {
     "data": {
      "text/plain": [
       "[('css3', 0.8287642002105713),\n",
       " ('oops_concept', 0.8168147802352905),\n",
       " ('ajax', 0.80660080909729),\n",
       " ('html5', 0.801425039768219),\n",
       " ('xhtml', 0.7971700429916382),\n",
       " ('web_ui_developer', 0.7898422479629517),\n",
       " ('web_developement', 0.788322925567627),\n",
       " ('webdeveloper', 0.7870904207229614),\n",
       " ('mvc_frameworks', 0.7866816520690918),\n",
       " ('css_cod', 0.786259651184082)]"
      ]
     },
     "execution_count": 25,
     "metadata": {},
     "output_type": "execute_result"
    }
   ],
   "source": [
    "musthave_dice_naruki_model.wv.similar_by_word(skill_transform('javascript'),topn=10)"
   ]
  },
  {
   "cell_type": "code",
   "execution_count": 26,
   "metadata": {},
   "outputs": [
    {
     "data": {
      "text/plain": [
       "[('dq', 0.946877121925354),\n",
       " ('mfr', 0.9346513748168945),\n",
       " ('bet', 0.9302838444709778),\n",
       " ('gamp5', 0.9295294284820557),\n",
       " ('regulatory_affairs_executive', 0.9291613101959229),\n",
       " ('regulatory_market', 0.9250781536102295),\n",
       " ('biosimilar', 0.9230036735534668),\n",
       " ('ardl', 0.9225677847862244),\n",
       " ('cell_base_assay', 0.9178791046142578),\n",
       " ('mab', 0.9166686534881592)]"
      ]
     },
     "execution_count": 26,
     "metadata": {},
     "output_type": "execute_result"
    }
   ],
   "source": [
    "cynor_skill2vec_model_200d.wv.similar_by_word(skill_transform('gcp'))"
   ]
  },
  {
   "cell_type": "code",
   "execution_count": 27,
   "metadata": {},
   "outputs": [],
   "source": [
    "# [(u'css3', 0.9307963252067566),\n",
    "#  (u'bootstrap', 0.9234713912010193),\n",
    "#  (u'ui_developer', 0.9192823171615601),\n",
    "#  (u'front_end_engineer', 0.9077576398849487),\n",
    "#  (u'front__end', 0.9058327674865723),\n",
    "#  (u'css_3', 0.9039251208305359),\n",
    "#  (u'ui_engineer', 0.9014566540718079),\n",
    "#  (u'adobe_experience_management_suite', 0.9006956815719604),\n",
    "#  (u'html4', 0.9003456234931946),\n",
    "#  (u'user_interface_developer', 0.8981920480728149)]"
   ]
  },
  {
   "cell_type": "code",
   "execution_count": 28,
   "metadata": {},
   "outputs": [
    {
     "ename": "AttributeError",
     "evalue": "'Word2Vec' object has no attribute 'similar_by_word'",
     "output_type": "error",
     "traceback": [
      "\u001b[0;31m---------------------------------------------------------------------------\u001b[0m",
      "\u001b[0;31mAttributeError\u001b[0m                            Traceback (most recent call last)",
      "\u001b[0;32m/tmp/ipykernel_11421/3942249478.py\u001b[0m in \u001b[0;36m<module>\u001b[0;34m\u001b[0m\n\u001b[0;32m----> 1\u001b[0;31m \u001b[0mmusthave_dice_naruki_model\u001b[0m\u001b[0;34m.\u001b[0m\u001b[0msimilar_by_word\u001b[0m\u001b[0;34m(\u001b[0m\u001b[0mskill_transform\u001b[0m\u001b[0;34m(\u001b[0m\u001b[0;34m'javascript'\u001b[0m\u001b[0;34m)\u001b[0m\u001b[0;34m)\u001b[0m\u001b[0;34m\u001b[0m\u001b[0;34m\u001b[0m\u001b[0m\n\u001b[0m",
      "\u001b[0;31mAttributeError\u001b[0m: 'Word2Vec' object has no attribute 'similar_by_word'"
     ]
    }
   ],
   "source": [
    "musthave_dice_naruki_model.similar_by_word(skill_transform('javascript'))"
   ]
  },
  {
   "cell_type": "code",
   "execution_count": 29,
   "metadata": {
    "scrolled": false
   },
   "outputs": [
    {
     "ename": "AttributeError",
     "evalue": "'Word2Vec' object has no attribute 'similar_by_word'",
     "output_type": "error",
     "traceback": [
      "\u001b[0;31m---------------------------------------------------------------------------\u001b[0m",
      "\u001b[0;31mAttributeError\u001b[0m                            Traceback (most recent call last)",
      "\u001b[0;32m/tmp/ipykernel_11421/2900536435.py\u001b[0m in \u001b[0;36m<module>\u001b[0;34m\u001b[0m\n\u001b[0;32m----> 1\u001b[0;31m \u001b[0mmusthave_dice_naruki_model\u001b[0m\u001b[0;34m.\u001b[0m\u001b[0msimilar_by_word\u001b[0m\u001b[0;34m(\u001b[0m\u001b[0mskill_transform\u001b[0m\u001b[0;34m(\u001b[0m\u001b[0;34m'node_js'\u001b[0m\u001b[0;34m)\u001b[0m\u001b[0;34m,\u001b[0m \u001b[0;36m300\u001b[0m\u001b[0;34m)\u001b[0m\u001b[0;34m\u001b[0m\u001b[0;34m\u001b[0m\u001b[0m\n\u001b[0m",
      "\u001b[0;31mAttributeError\u001b[0m: 'Word2Vec' object has no attribute 'similar_by_word'"
     ]
    }
   ],
   "source": [
    "musthave_dice_naruki_model.similar_by_word(skill_transform('node_js'), 300)"
   ]
  },
  {
   "cell_type": "code",
   "execution_count": 30,
   "metadata": {
    "scrolled": false
   },
   "outputs": [
    {
     "ename": "NameError",
     "evalue": "name 'musthave_dice_naruki_model_100d' is not defined",
     "output_type": "error",
     "traceback": [
      "\u001b[0;31m---------------------------------------------------------------------------\u001b[0m",
      "\u001b[0;31mNameError\u001b[0m                                 Traceback (most recent call last)",
      "\u001b[0;32m/tmp/ipykernel_11421/2159894144.py\u001b[0m in \u001b[0;36m<module>\u001b[0;34m\u001b[0m\n\u001b[0;32m----> 1\u001b[0;31m \u001b[0mmusthave_dice_naruki_model_100d\u001b[0m\u001b[0;34m.\u001b[0m\u001b[0msimilar_by_word\u001b[0m\u001b[0;34m(\u001b[0m\u001b[0mskill_transform\u001b[0m\u001b[0;34m(\u001b[0m\u001b[0;34m'node_js'\u001b[0m\u001b[0;34m)\u001b[0m\u001b[0;34m,\u001b[0m \u001b[0;36m300\u001b[0m\u001b[0;34m)\u001b[0m\u001b[0;34m\u001b[0m\u001b[0;34m\u001b[0m\u001b[0m\n\u001b[0m",
      "\u001b[0;31mNameError\u001b[0m: name 'musthave_dice_naruki_model_100d' is not defined"
     ]
    }
   ],
   "source": [
    "musthave_dice_naruki_model_100d.similar_by_word(skill_transform('node_js'), 300)"
   ]
  },
  {
   "cell_type": "code",
   "execution_count": null,
   "metadata": {},
   "outputs": [],
   "source": []
  },
  {
   "cell_type": "code",
   "execution_count": null,
   "metadata": {},
   "outputs": [],
   "source": []
  },
  {
   "cell_type": "code",
   "execution_count": null,
   "metadata": {},
   "outputs": [],
   "source": []
  },
  {
   "cell_type": "code",
   "execution_count": null,
   "metadata": {},
   "outputs": [],
   "source": []
  },
  {
   "cell_type": "code",
   "execution_count": null,
   "metadata": {},
   "outputs": [],
   "source": []
  },
  {
   "cell_type": "code",
   "execution_count": null,
   "metadata": {},
   "outputs": [],
   "source": []
  },
  {
   "cell_type": "code",
   "execution_count": null,
   "metadata": {},
   "outputs": [],
   "source": []
  },
  {
   "cell_type": "code",
   "execution_count": null,
   "metadata": {},
   "outputs": [],
   "source": []
  },
  {
   "cell_type": "code",
   "execution_count": null,
   "metadata": {},
   "outputs": [],
   "source": []
  },
  {
   "cell_type": "code",
   "execution_count": null,
   "metadata": {},
   "outputs": [],
   "source": [
    "re.sub(r'^angular.*$', 'angular', \"angular.js\")"
   ]
  },
  {
   "cell_type": "code",
   "execution_count": null,
   "metadata": {},
   "outputs": [],
   "source": []
  },
  {
   "cell_type": "code",
   "execution_count": null,
   "metadata": {},
   "outputs": [],
   "source": []
  },
  {
   "cell_type": "code",
   "execution_count": null,
   "metadata": {},
   "outputs": [],
   "source": []
  },
  {
   "cell_type": "code",
   "execution_count": null,
   "metadata": {},
   "outputs": [],
   "source": []
  },
  {
   "cell_type": "code",
   "execution_count": null,
   "metadata": {},
   "outputs": [],
   "source": []
  },
  {
   "cell_type": "code",
   "execution_count": null,
   "metadata": {},
   "outputs": [],
   "source": []
  }
 ],
 "metadata": {
  "kernelspec": {
   "display_name": "Python 3 (ipykernel)",
   "language": "python",
   "name": "python3"
  },
  "language_info": {
   "codemirror_mode": {
    "name": "ipython",
    "version": 3
   },
   "file_extension": ".py",
   "mimetype": "text/x-python",
   "name": "python",
   "nbconvert_exporter": "python",
   "pygments_lexer": "ipython3",
   "version": "3.8.11"
  }
 },
 "nbformat": 4,
 "nbformat_minor": 2
}
