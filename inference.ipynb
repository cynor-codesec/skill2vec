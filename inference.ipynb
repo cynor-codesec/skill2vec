{
 "cells": [
  {
   "cell_type": "code",
   "execution_count": 36,
   "id": "968ba39b",
   "metadata": {},
   "outputs": [
    {
     "name": "stderr",
     "output_type": "stream",
     "text": [
      "[nltk_data] Downloading package wordnet to\n",
      "[nltk_data]     /Users/bharath/sourcecode/cynor/skill2vec/nltk_data/..\n",
      "[nltk_data]     .\n",
      "[nltk_data]   Package wordnet is already up-to-date!\n"
     ]
    }
   ],
   "source": [
    "from nltk.corpus import stopwords\n",
    "from gensim.models import word2vec\n",
    "import nltk.data\n",
    "import re\n",
    "from nltk.stem.snowball import *\n",
    "import itertools\n",
    "import html.parser as html_parser\n",
    "from nltk.stem import WordNetLemmatizer, PorterStemmer\n",
    "wordnet_lemmatizer = WordNetLemmatizer()\n",
    "porter = PorterStemmer()\n",
    "nltk.download(\"wordnet\", \"/Users/bharath/sourcecode/cynor/skill2vec/nltk_data/\")\n",
    "nltk.data.path.append('./nltk_data/')\n",
    "import sys\n",
    "if sys.version_info[0] >= 3:\n",
    "    unicode = str"
   ]
  },
  {
   "cell_type": "code",
   "execution_count": 37,
   "id": "525e47ad",
   "metadata": {},
   "outputs": [],
   "source": [
    "def skill_transform(skill, remove_stopwords = True):\n",
    "    skill = unicode(skill)\n",
    "    skill = html_parser.unescape(skill)\n",
    "    \n",
    "    skill = skill.replace(\"_\", \" \").split()\n",
    "    skill = \" \".join([sk for sk in skill if sk])\n",
    "    \n",
    "    skill = re.sub(r\"\\(.*\\)\", \"\", skill)\n",
    "    skill = skill.replace(\"-\", \"\") \\\n",
    "        .replace(\".\", \"\") \\\n",
    "        .replace(\",\", \"\") \\\n",
    "        .replace(\"-\", \"\") \\\n",
    "        .replace(\":\", \"\") \\\n",
    "        .replace(\"(\", \"\") \\\n",
    "        .replace(\")\", \"\") \\\n",
    "        .replace(u\"åá\", \"\") \\\n",
    "        .replace(u\"&\", \"and\") \\\n",
    "        .replace(\" js\", \"js\") \\\n",
    "        .replace(\"-js\", \"js\") \\\n",
    "        .replace(\"_js\", \"js\") \\\n",
    "        .replace(\"java script\", \"js\") \n",
    "    \n",
    "    skill = skill.lower()\n",
    "    \n",
    "    # Special cases replace\n",
    "    special_case = {}\n",
    "    special_case[\"javascript\"] = [ \"js\", \"java script\", \"javascripts\", \"java scrip\" ]\n",
    "    special_case[\"wireframe\"] = [ \"wireframes\", \"wire frame\", \"wire frames\", \"wire-frame\", \"wirefram\", \"wire fram\", \"wireframing\" ]\n",
    "    special_case[\"OOP\"] = [  \"object oriented\", \"object oriented programming\", ]\n",
    "    special_case[\"OOD\"] = [ \"object oriented design\", ]\n",
    "    special_case[\"OLAP\"] = [ \"online analytical processing\",  ]\n",
    "    special_case[\"Ecommerce\"] = [ \"e commerce\",  ]\n",
    "    special_case[\"consultant\"] = [ \"consulting\",  ]\n",
    "    special_case[\"ux\"] = [ \"user experience\", \"web user experience design\", \"user experience design\", \"ux designer\", \"user experience/ux\" ]\n",
    "    special_case[\"html5\"] = [ \"html 5\",  ]\n",
    "    special_case[\"j2ee\"] = [ \"jee\",  ]\n",
    "    special_case[\"osx\"] = [ \"mac os x\", \"os x\" ]\n",
    "    special_case[\"senior\"] = [ \"sr\" ]\n",
    "    special_case[\"qa\"] = [ \"quality\",  ]\n",
    "    special_case[\"bigdata\"] = [ \"big data\",  ]\n",
    "    special_case[\"webservice\"] = [ \"webservices\", \"website\", \"webapps\" ]\n",
    "    special_case[\"xml\"] = [ \"xml file\", \"xml schemas\", \"xml/json\", \"xml web service\" ]\n",
    "    special_case[\"bigdata\"] = [ \"big data\",  ]\n",
    "    special_case[\"nlp\"] = [ \"natural language process\", \"natural language\", \"nltk\" ]\n",
    "    special_case[\"aws\"] = [ \"amazon web service\", ]\n",
    "    \n",
    "    for root_skill in special_case:\n",
    "        if skill in special_case[root_skill]:\n",
    "            skill = root_skill\n",
    "    \n",
    "    # Special case regex\n",
    "    special_case_regex = {\n",
    "        r'^angular.*$': 'angularjs',\n",
    "        r'^node.*$': 'nodejs',\n",
    "        r'^(.*)[_\\s]js$': '\\\\1js',\n",
    "        r'^(.*) js$': '\\\\1js',\n",
    "        r'^(.*) (and|or).*$': '\\\\1',\n",
    "    }\n",
    "    for regex_rule in special_case_regex:\n",
    "        after_skill = re.sub(regex_rule, special_case_regex[regex_rule], skill)\n",
    "        if after_skill != skill:\n",
    "            skill = after_skill\n",
    "            break\n",
    "    \n",
    "    # Stem\n",
    "    if len(skill) > 2:\n",
    "        skill_after = skill.split(\" \")\n",
    "        skill_after = [wordnet_lemmatizer.lemmatize(sk, pos=\"v\") for sk in skill_after]\n",
    "        skill_after = \" \".join(skill_after)\n",
    "        skill = skill_after\n",
    "    \n",
    "    # skill stopwords \n",
    "    if remove_stopwords:\n",
    "        skill_stopwords = [ \"app\", \"touch\", \"the\", \"application\", \"programming\", \"program\", \"design\"\n",
    "                           \"developer\", \"framework\", \"development\", \"programmer\", \"technologies\",\n",
    "                          \"advance\", \"core\"]\n",
    "        skill_after = skill.split(\" \")\n",
    "        skill = \" \".join([ sk for sk in skill_after if sk not in skill_stopwords ])\n",
    "    \n",
    "    skill = skill.lower().strip().replace(\" \", \"_\")\n",
    "    skill = re.sub(' +',' ', skill)\n",
    "    \n",
    "    # NOTE: replace js tail\n",
    "    skill = re.sub('js$','', skill)\n",
    "    \n",
    "    return skill"
   ]
  },
  {
   "cell_type": "code",
   "execution_count": 38,
   "id": "28379cee",
   "metadata": {},
   "outputs": [],
   "source": [
    "model = word2vec.KeyedVectors.load_word2vec_format('cynor_skill2vec_200d.model')"
   ]
  },
  {
   "cell_type": "code",
   "execution_count": 51,
   "id": "ffdbe423",
   "metadata": {},
   "outputs": [
    {
     "data": {
      "text/plain": [
       "[('human_resource_management', 0.799447238445282),\n",
       " ('hr_and_recruitment', 0.7993995547294617),\n",
       " ('human_resource', 0.7639515399932861),\n",
       " ('talent_acquisition', 0.7623394727706909),\n",
       " ('hr_operations', 0.7591198682785034),\n",
       " ('hr_generalist', 0.7581818699836731),\n",
       " ('hr_executive', 0.7557071447372437),\n",
       " ('hr_generalist_activities', 0.7504816055297852),\n",
       " ('hr_assistance', 0.748255729675293),\n",
       " ('hrm', 0.7438874840736389)]"
      ]
     },
     "execution_count": 51,
     "metadata": {},
     "output_type": "execute_result"
    }
   ],
   "source": [
    "model.similar_by_word(skill_transform('HR'))"
   ]
  },
  {
   "cell_type": "code",
   "execution_count": 40,
   "id": "4618e125",
   "metadata": {},
   "outputs": [
    {
     "data": {
      "text/plain": [
       "[('microsoft_azure', 0.9070008993148804),\n",
       " ('cloud_platforms', 0.8551174402236938),\n",
       " ('aws_architect', 0.8526540994644165),\n",
       " ('cloud_applications', 0.8447308540344238),\n",
       " ('windows_azure', 0.842508852481842),\n",
       " ('architecting', 0.8376837968826294),\n",
       " ('cloud_architect', 0.833653450012207),\n",
       " ('vs', 0.8219773769378662),\n",
       " ('aws', 0.8154913783073425),\n",
       " ('dotnet_architect', 0.8154746890068054)]"
      ]
     },
     "execution_count": 40,
     "metadata": {},
     "output_type": "execute_result"
    }
   ],
   "source": [
    "model.similar_by_word(skill_transform('azure'))"
   ]
  },
  {
   "cell_type": "code",
   "execution_count": 41,
   "id": "afb0c943",
   "metadata": {},
   "outputs": [
    {
     "data": {
      "text/plain": [
       "[('ansible', 0.9231548309326172),\n",
       " ('puppet', 0.9220324158668518),\n",
       " ('dev_ops', 0.92069011926651),\n",
       " ('devops_engineer', 0.902111828327179),\n",
       " ('jenkins', 0.9017714262008667),\n",
       " ('cloud_engineer', 0.899010956287384),\n",
       " ('jenkin', 0.8910309672355652),\n",
       " ('cloudwatch', 0.8891658186912537),\n",
       " ('release_manager', 0.8863235712051392),\n",
       " ('bash_script', 0.8855523467063904)]"
      ]
     },
     "execution_count": 41,
     "metadata": {},
     "output_type": "execute_result"
    }
   ],
   "source": [
    "model.similar_by_word(skill_transform('devops'))"
   ]
  },
  {
   "cell_type": "code",
   "execution_count": 42,
   "id": "721ea19c",
   "metadata": {},
   "outputs": [
    {
     "data": {
      "text/plain": [
       "[('bartender', 0.9928094744682312),\n",
       " ('fandb_service', 0.9894704818725586),\n",
       " ('waitress', 0.9880703687667847),\n",
       " ('stewards', 0.9870071411132812),\n",
       " ('senior_steward', 0.9853909611701965),\n",
       " ('steward', 0.9852117300033569),\n",
       " ('fandb_associate', 0.9836377501487732),\n",
       " ('barman', 0.9822597503662109),\n",
       " ('captain', 0.979358434677124),\n",
       " ('cafe', 0.9786368012428284)]"
      ]
     },
     "execution_count": 42,
     "metadata": {},
     "output_type": "execute_result"
    }
   ],
   "source": [
    "model.similar_by_word(skill_transform('waiter'))"
   ]
  },
  {
   "cell_type": "code",
   "execution_count": 46,
   "id": "bcc00399",
   "metadata": {},
   "outputs": [
    {
     "data": {
      "text/plain": [
       "[('teachers', 0.9782964587211609),\n",
       " ('ntt', 0.9612639546394348),\n",
       " ('instructor', 0.9572398066520691),\n",
       " ('primary_teacher', 0.9555884599685669),\n",
       " ('teach_english', 0.953647792339325),\n",
       " ('school_teacher', 0.9532197713851929),\n",
       " ('kindergarten', 0.9518149495124817),\n",
       " ('tuition', 0.9489309787750244),\n",
       " ('pgt', 0.9460960030555725),\n",
       " ('preschool', 0.9450435042381287)]"
      ]
     },
     "execution_count": 46,
     "metadata": {},
     "output_type": "execute_result"
    }
   ],
   "source": [
    "model.similar_by_word(skill_transform('teacher'))"
   ]
  },
  {
   "cell_type": "code",
   "execution_count": 47,
   "id": "7d1fdb01",
   "metadata": {},
   "outputs": [
    {
     "data": {
      "text/plain": [
       "[('medical_cod', 0.8508073687553406),\n",
       " ('mbbs', 0.8491320013999939),\n",
       " ('staff_nurse', 0.8470920920372009),\n",
       " ('head_nurse', 0.839325487613678),\n",
       " ('gnm', 0.8389165997505188),\n",
       " ('ot', 0.8374587893486023),\n",
       " ('ot_nurse', 0.8331429958343506),\n",
       " ('icu_nurse', 0.8313146233558655),\n",
       " ('icu', 0.8306599855422974),\n",
       " ('ward_nurse', 0.8219895362854004)]"
      ]
     },
     "execution_count": 47,
     "metadata": {},
     "output_type": "execute_result"
    }
   ],
   "source": [
    "model.similar_by_word(skill_transform('nurse'))"
   ]
  },
  {
   "cell_type": "code",
   "execution_count": 48,
   "id": "cb9245b3",
   "metadata": {},
   "outputs": [
    {
     "data": {
      "text/plain": [
       "[('qtp', 0.6914501786231995),\n",
       " ('drive', 0.6887904405593872),\n",
       " ('winrunner', 0.6606099009513855),\n",
       " ('sensors', 0.6561761498451233),\n",
       " ('automation_engineer', 0.6472973227500916),\n",
       " ('software_test_engineer', 0.6469188928604126),\n",
       " ('vb', 0.6374378204345703),\n",
       " ('plc', 0.6309812664985657),\n",
       " ('automation_tool', 0.6271375417709351),\n",
       " ('selenium', 0.6270813345909119)]"
      ]
     },
     "execution_count": 48,
     "metadata": {},
     "output_type": "execute_result"
    }
   ],
   "source": [
    "model.similar_by_word(skill_transform('automation'))"
   ]
  },
  {
   "cell_type": "code",
   "execution_count": 49,
   "id": "ce80f221",
   "metadata": {},
   "outputs": [
    {
     "data": {
      "text/plain": [
       "[('ruby', 0.776968777179718),\n",
       " ('perl', 0.7663470506668091),\n",
       " ('languages', 0.7233844995498657),\n",
       " ('apache', 0.7142069339752197),\n",
       " ('algorithms', 0.7089732885360718),\n",
       " ('python_script', 0.7002631425857544),\n",
       " ('python_developer', 0.6992126703262329),\n",
       " ('open_source', 0.6950978636741638),\n",
       " ('postgresql', 0.691146194934845),\n",
       " ('data_structure', 0.6888243556022644)]"
      ]
     },
     "execution_count": 49,
     "metadata": {},
     "output_type": "execute_result"
    }
   ],
   "source": [
    "model.similar_by_word(skill_transform('python'))"
   ]
  },
  {
   "cell_type": "code",
   "execution_count": 50,
   "id": "636baa43",
   "metadata": {},
   "outputs": [
    {
     "data": {
      "text/plain": [
       "[('advocate', 0.9932965040206909),\n",
       " ('legal_advisor', 0.9762375950813293),\n",
       " ('non_litigation', 0.9744182229042053),\n",
       " ('affidavits', 0.9731534123420715),\n",
       " ('legal_notice', 0.9731290936470032),\n",
       " ('property_matter', 0.9682076573371887),\n",
       " ('litigation_matter', 0.9678948521614075),\n",
       " ('criminal', 0.9671271443367004),\n",
       " ('law_firm', 0.9656476974487305),\n",
       " ('intellectual_property_law', 0.9655910134315491)]"
      ]
     },
     "execution_count": 50,
     "metadata": {},
     "output_type": "execute_result"
    }
   ],
   "source": [
    "model.similar_by_word(skill_transform('lawyer'))"
   ]
  },
  {
   "cell_type": "code",
   "execution_count": null,
   "id": "1771ca75",
   "metadata": {},
   "outputs": [],
   "source": []
  }
 ],
 "metadata": {
  "kernelspec": {
   "display_name": "Python 3 (ipykernel)",
   "language": "python",
   "name": "python3"
  },
  "language_info": {
   "codemirror_mode": {
    "name": "ipython",
    "version": 3
   },
   "file_extension": ".py",
   "mimetype": "text/x-python",
   "name": "python",
   "nbconvert_exporter": "python",
   "pygments_lexer": "ipython3",
   "version": "3.8.11"
  }
 },
 "nbformat": 4,
 "nbformat_minor": 5
}
